{
 "cells": [
  {
   "cell_type": "markdown",
   "metadata": {},
   "source": [
    "# Project 2: Data Analysis"
   ]
  },
  {
   "cell_type": "markdown",
   "metadata": {},
   "source": [
    "**Dataset**: [Stack Overflow Annual Developer Survey (2023)](https://survey.stackoverflow.co/)"
   ]
  },
  {
   "cell_type": "markdown",
   "metadata": {},
   "source": [
    "### Introduction\n",
    "\n",
    "#### **Objectives**:\n",
    "- Conduct a comprehensive data analysis on a selected column from the Stack Overflow Developer Survey 2023 dataset.\n",
    "- Extract valuable insights from the data."
   ]
  },
  {
   "cell_type": "markdown",
   "metadata": {},
   "source": [
    "**Guiding Questions**:\n",
    "   - At what companies do developers get paid the most?\n",
    "   - How much does remote working matter to employees?\n",
    "   - How does coding experience affect the level of pay?\n",
    "   - What’s the most popular method of learning to code?\n",
    "   - What database systems and cloud services are the most popular?"
   ]
  },
  {
   "cell_type": "markdown",
   "metadata": {},
   "source": [
    "### Importing Libraries"
   ]
  },
  {
   "cell_type": "code",
   "execution_count": 1,
   "metadata": {},
   "outputs": [],
   "source": [
    "import pandas as pd\n",
    "import plotly.express as px"
   ]
  },
  {
   "cell_type": "markdown",
   "metadata": {},
   "source": [
    "### Loading data"
   ]
  },
  {
   "cell_type": "code",
   "execution_count": 2,
   "metadata": {},
   "outputs": [],
   "source": [
    "# importing survey results public file\n",
    "survey_raw_df = pd.read_csv(\"survey_results_public.csv\", index_col='ResponseId')"
   ]
  },
  {
   "cell_type": "code",
   "execution_count": 3,
   "metadata": {},
   "outputs": [
    {
     "data": {
      "text/plain": [
       "(89184, 83)"
      ]
     },
     "execution_count": 3,
     "metadata": {},
     "output_type": "execute_result"
    }
   ],
   "source": [
    "survey_raw_df.shape"
   ]
  },
  {
   "cell_type": "markdown",
   "metadata": {},
   "source": [
    "The data contains 89184 rows and 83 columns."
   ]
  },
  {
   "cell_type": "code",
   "execution_count": 4,
   "metadata": {},
   "outputs": [
    {
     "data": {
      "text/html": [
       "<div>\n",
       "<style scoped>\n",
       "    .dataframe tbody tr th:only-of-type {\n",
       "        vertical-align: middle;\n",
       "    }\n",
       "\n",
       "    .dataframe tbody tr th {\n",
       "        vertical-align: top;\n",
       "    }\n",
       "\n",
       "    .dataframe thead th {\n",
       "        text-align: right;\n",
       "    }\n",
       "</style>\n",
       "<table border=\"1\" class=\"dataframe\">\n",
       "  <thead>\n",
       "    <tr style=\"text-align: right;\">\n",
       "      <th></th>\n",
       "      <th>Q120</th>\n",
       "      <th>MainBranch</th>\n",
       "      <th>Age</th>\n",
       "      <th>Employment</th>\n",
       "      <th>RemoteWork</th>\n",
       "      <th>CodingActivities</th>\n",
       "      <th>EdLevel</th>\n",
       "      <th>LearnCode</th>\n",
       "      <th>LearnCodeOnline</th>\n",
       "      <th>LearnCodeCoursesCert</th>\n",
       "      <th>...</th>\n",
       "      <th>Frequency_1</th>\n",
       "      <th>Frequency_2</th>\n",
       "      <th>Frequency_3</th>\n",
       "      <th>TimeSearching</th>\n",
       "      <th>TimeAnswering</th>\n",
       "      <th>ProfessionalTech</th>\n",
       "      <th>Industry</th>\n",
       "      <th>SurveyLength</th>\n",
       "      <th>SurveyEase</th>\n",
       "      <th>ConvertedCompYearly</th>\n",
       "    </tr>\n",
       "    <tr>\n",
       "      <th>ResponseId</th>\n",
       "      <th></th>\n",
       "      <th></th>\n",
       "      <th></th>\n",
       "      <th></th>\n",
       "      <th></th>\n",
       "      <th></th>\n",
       "      <th></th>\n",
       "      <th></th>\n",
       "      <th></th>\n",
       "      <th></th>\n",
       "      <th></th>\n",
       "      <th></th>\n",
       "      <th></th>\n",
       "      <th></th>\n",
       "      <th></th>\n",
       "      <th></th>\n",
       "      <th></th>\n",
       "      <th></th>\n",
       "      <th></th>\n",
       "      <th></th>\n",
       "      <th></th>\n",
       "    </tr>\n",
       "  </thead>\n",
       "  <tbody>\n",
       "    <tr>\n",
       "      <th>1</th>\n",
       "      <td>I agree</td>\n",
       "      <td>None of these</td>\n",
       "      <td>18-24 years old</td>\n",
       "      <td>NaN</td>\n",
       "      <td>NaN</td>\n",
       "      <td>NaN</td>\n",
       "      <td>NaN</td>\n",
       "      <td>NaN</td>\n",
       "      <td>NaN</td>\n",
       "      <td>NaN</td>\n",
       "      <td>...</td>\n",
       "      <td>NaN</td>\n",
       "      <td>NaN</td>\n",
       "      <td>NaN</td>\n",
       "      <td>NaN</td>\n",
       "      <td>NaN</td>\n",
       "      <td>NaN</td>\n",
       "      <td>NaN</td>\n",
       "      <td>NaN</td>\n",
       "      <td>NaN</td>\n",
       "      <td>NaN</td>\n",
       "    </tr>\n",
       "    <tr>\n",
       "      <th>2</th>\n",
       "      <td>I agree</td>\n",
       "      <td>I am a developer by profession</td>\n",
       "      <td>25-34 years old</td>\n",
       "      <td>Employed, full-time</td>\n",
       "      <td>Remote</td>\n",
       "      <td>Hobby;Contribute to open-source projects;Boots...</td>\n",
       "      <td>Bachelor’s degree (B.A., B.S., B.Eng., etc.)</td>\n",
       "      <td>Books / Physical media;Colleague;Friend or fam...</td>\n",
       "      <td>Formal documentation provided by the owner of ...</td>\n",
       "      <td>Other</td>\n",
       "      <td>...</td>\n",
       "      <td>1-2 times a week</td>\n",
       "      <td>10+ times a week</td>\n",
       "      <td>Never</td>\n",
       "      <td>15-30 minutes a day</td>\n",
       "      <td>15-30 minutes a day</td>\n",
       "      <td>DevOps function;Microservices;Automated testin...</td>\n",
       "      <td>Information Services, IT, Software Development...</td>\n",
       "      <td>Appropriate in length</td>\n",
       "      <td>Easy</td>\n",
       "      <td>285000.0</td>\n",
       "    </tr>\n",
       "    <tr>\n",
       "      <th>3</th>\n",
       "      <td>I agree</td>\n",
       "      <td>I am a developer by profession</td>\n",
       "      <td>45-54 years old</td>\n",
       "      <td>Employed, full-time</td>\n",
       "      <td>Hybrid (some remote, some in-person)</td>\n",
       "      <td>Hobby;Professional development or self-paced l...</td>\n",
       "      <td>Bachelor’s degree (B.A., B.S., B.Eng., etc.)</td>\n",
       "      <td>Books / Physical media;Colleague;On the job tr...</td>\n",
       "      <td>Formal documentation provided by the owner of ...</td>\n",
       "      <td>NaN</td>\n",
       "      <td>...</td>\n",
       "      <td>6-10 times a week</td>\n",
       "      <td>6-10 times a week</td>\n",
       "      <td>3-5 times a week</td>\n",
       "      <td>30-60 minutes a day</td>\n",
       "      <td>30-60 minutes a day</td>\n",
       "      <td>DevOps function;Microservices;Automated testin...</td>\n",
       "      <td>Information Services, IT, Software Development...</td>\n",
       "      <td>Appropriate in length</td>\n",
       "      <td>Easy</td>\n",
       "      <td>250000.0</td>\n",
       "    </tr>\n",
       "    <tr>\n",
       "      <th>4</th>\n",
       "      <td>I agree</td>\n",
       "      <td>I am a developer by profession</td>\n",
       "      <td>25-34 years old</td>\n",
       "      <td>Employed, full-time</td>\n",
       "      <td>Hybrid (some remote, some in-person)</td>\n",
       "      <td>Hobby</td>\n",
       "      <td>Bachelor’s degree (B.A., B.S., B.Eng., etc.)</td>\n",
       "      <td>Colleague;Friend or family member;Other online...</td>\n",
       "      <td>Formal documentation provided by the owner of ...</td>\n",
       "      <td>NaN</td>\n",
       "      <td>...</td>\n",
       "      <td>1-2 times a week</td>\n",
       "      <td>10+ times a week</td>\n",
       "      <td>1-2 times a week</td>\n",
       "      <td>15-30 minutes a day</td>\n",
       "      <td>30-60 minutes a day</td>\n",
       "      <td>Automated testing;Continuous integration (CI) ...</td>\n",
       "      <td>NaN</td>\n",
       "      <td>Appropriate in length</td>\n",
       "      <td>Easy</td>\n",
       "      <td>156000.0</td>\n",
       "    </tr>\n",
       "    <tr>\n",
       "      <th>5</th>\n",
       "      <td>I agree</td>\n",
       "      <td>I am a developer by profession</td>\n",
       "      <td>25-34 years old</td>\n",
       "      <td>Employed, full-time;Independent contractor, fr...</td>\n",
       "      <td>Remote</td>\n",
       "      <td>Hobby;Contribute to open-source projects;Profe...</td>\n",
       "      <td>Bachelor’s degree (B.A., B.S., B.Eng., etc.)</td>\n",
       "      <td>Books / Physical media;Online Courses or Certi...</td>\n",
       "      <td>Formal documentation provided by the owner of ...</td>\n",
       "      <td>Other;Codecademy;edX</td>\n",
       "      <td>...</td>\n",
       "      <td>1-2 times a week</td>\n",
       "      <td>1-2 times a week</td>\n",
       "      <td>3-5 times a week</td>\n",
       "      <td>60-120 minutes a day</td>\n",
       "      <td>30-60 minutes a day</td>\n",
       "      <td>Microservices;Automated testing;Observability ...</td>\n",
       "      <td>Other</td>\n",
       "      <td>Appropriate in length</td>\n",
       "      <td>Neither easy nor difficult</td>\n",
       "      <td>23456.0</td>\n",
       "    </tr>\n",
       "  </tbody>\n",
       "</table>\n",
       "<p>5 rows × 83 columns</p>\n",
       "</div>"
      ],
      "text/plain": [
       "               Q120                      MainBranch              Age  \\\n",
       "ResponseId                                                             \n",
       "1           I agree                   None of these  18-24 years old   \n",
       "2           I agree  I am a developer by profession  25-34 years old   \n",
       "3           I agree  I am a developer by profession  45-54 years old   \n",
       "4           I agree  I am a developer by profession  25-34 years old   \n",
       "5           I agree  I am a developer by profession  25-34 years old   \n",
       "\n",
       "                                                   Employment  \\\n",
       "ResponseId                                                      \n",
       "1                                                         NaN   \n",
       "2                                         Employed, full-time   \n",
       "3                                         Employed, full-time   \n",
       "4                                         Employed, full-time   \n",
       "5           Employed, full-time;Independent contractor, fr...   \n",
       "\n",
       "                                      RemoteWork  \\\n",
       "ResponseId                                         \n",
       "1                                            NaN   \n",
       "2                                         Remote   \n",
       "3           Hybrid (some remote, some in-person)   \n",
       "4           Hybrid (some remote, some in-person)   \n",
       "5                                         Remote   \n",
       "\n",
       "                                             CodingActivities  \\\n",
       "ResponseId                                                      \n",
       "1                                                         NaN   \n",
       "2           Hobby;Contribute to open-source projects;Boots...   \n",
       "3           Hobby;Professional development or self-paced l...   \n",
       "4                                                       Hobby   \n",
       "5           Hobby;Contribute to open-source projects;Profe...   \n",
       "\n",
       "                                                 EdLevel  \\\n",
       "ResponseId                                                 \n",
       "1                                                    NaN   \n",
       "2           Bachelor’s degree (B.A., B.S., B.Eng., etc.)   \n",
       "3           Bachelor’s degree (B.A., B.S., B.Eng., etc.)   \n",
       "4           Bachelor’s degree (B.A., B.S., B.Eng., etc.)   \n",
       "5           Bachelor’s degree (B.A., B.S., B.Eng., etc.)   \n",
       "\n",
       "                                                    LearnCode  \\\n",
       "ResponseId                                                      \n",
       "1                                                         NaN   \n",
       "2           Books / Physical media;Colleague;Friend or fam...   \n",
       "3           Books / Physical media;Colleague;On the job tr...   \n",
       "4           Colleague;Friend or family member;Other online...   \n",
       "5           Books / Physical media;Online Courses or Certi...   \n",
       "\n",
       "                                              LearnCodeOnline  \\\n",
       "ResponseId                                                      \n",
       "1                                                         NaN   \n",
       "2           Formal documentation provided by the owner of ...   \n",
       "3           Formal documentation provided by the owner of ...   \n",
       "4           Formal documentation provided by the owner of ...   \n",
       "5           Formal documentation provided by the owner of ...   \n",
       "\n",
       "            LearnCodeCoursesCert  ...        Frequency_1        Frequency_2  \\\n",
       "ResponseId                        ...                                         \n",
       "1                            NaN  ...                NaN                NaN   \n",
       "2                          Other  ...   1-2 times a week   10+ times a week   \n",
       "3                            NaN  ...  6-10 times a week  6-10 times a week   \n",
       "4                            NaN  ...   1-2 times a week   10+ times a week   \n",
       "5           Other;Codecademy;edX  ...   1-2 times a week   1-2 times a week   \n",
       "\n",
       "                 Frequency_3         TimeSearching        TimeAnswering  \\\n",
       "ResponseId                                                                \n",
       "1                        NaN                   NaN                  NaN   \n",
       "2                      Never   15-30 minutes a day  15-30 minutes a day   \n",
       "3           3-5 times a week   30-60 minutes a day  30-60 minutes a day   \n",
       "4           1-2 times a week   15-30 minutes a day  30-60 minutes a day   \n",
       "5           3-5 times a week  60-120 minutes a day  30-60 minutes a day   \n",
       "\n",
       "                                             ProfessionalTech  \\\n",
       "ResponseId                                                      \n",
       "1                                                         NaN   \n",
       "2           DevOps function;Microservices;Automated testin...   \n",
       "3           DevOps function;Microservices;Automated testin...   \n",
       "4           Automated testing;Continuous integration (CI) ...   \n",
       "5           Microservices;Automated testing;Observability ...   \n",
       "\n",
       "                                                     Industry  \\\n",
       "ResponseId                                                      \n",
       "1                                                         NaN   \n",
       "2           Information Services, IT, Software Development...   \n",
       "3           Information Services, IT, Software Development...   \n",
       "4                                                         NaN   \n",
       "5                                                       Other   \n",
       "\n",
       "                     SurveyLength                  SurveyEase  \\\n",
       "ResponseId                                                      \n",
       "1                             NaN                         NaN   \n",
       "2           Appropriate in length                        Easy   \n",
       "3           Appropriate in length                        Easy   \n",
       "4           Appropriate in length                        Easy   \n",
       "5           Appropriate in length  Neither easy nor difficult   \n",
       "\n",
       "            ConvertedCompYearly  \n",
       "ResponseId                       \n",
       "1                           NaN  \n",
       "2                      285000.0  \n",
       "3                      250000.0  \n",
       "4                      156000.0  \n",
       "5                       23456.0  \n",
       "\n",
       "[5 rows x 83 columns]"
      ]
     },
     "execution_count": 4,
     "metadata": {},
     "output_type": "execute_result"
    }
   ],
   "source": [
    "survey_raw_df.head()"
   ]
  },
  {
   "cell_type": "code",
   "execution_count": 5,
   "metadata": {},
   "outputs": [
    {
     "data": {
      "text/html": [
       "<div>\n",
       "<style scoped>\n",
       "    .dataframe tbody tr th:only-of-type {\n",
       "        vertical-align: middle;\n",
       "    }\n",
       "\n",
       "    .dataframe tbody tr th {\n",
       "        vertical-align: top;\n",
       "    }\n",
       "\n",
       "    .dataframe thead th {\n",
       "        text-align: right;\n",
       "    }\n",
       "</style>\n",
       "<table border=\"1\" class=\"dataframe\">\n",
       "  <thead>\n",
       "    <tr style=\"text-align: right;\">\n",
       "      <th></th>\n",
       "      <th>CompTotal</th>\n",
       "      <th>WorkExp</th>\n",
       "      <th>ConvertedCompYearly</th>\n",
       "    </tr>\n",
       "  </thead>\n",
       "  <tbody>\n",
       "    <tr>\n",
       "      <th>count</th>\n",
       "      <td>4.822500e+04</td>\n",
       "      <td>43579.000000</td>\n",
       "      <td>4.801900e+04</td>\n",
       "    </tr>\n",
       "    <tr>\n",
       "      <th>mean</th>\n",
       "      <td>1.036807e+42</td>\n",
       "      <td>11.405126</td>\n",
       "      <td>1.031101e+05</td>\n",
       "    </tr>\n",
       "    <tr>\n",
       "      <th>std</th>\n",
       "      <td>2.276847e+44</td>\n",
       "      <td>9.051989</td>\n",
       "      <td>6.814188e+05</td>\n",
       "    </tr>\n",
       "    <tr>\n",
       "      <th>min</th>\n",
       "      <td>0.000000e+00</td>\n",
       "      <td>0.000000</td>\n",
       "      <td>1.000000e+00</td>\n",
       "    </tr>\n",
       "    <tr>\n",
       "      <th>25%</th>\n",
       "      <td>6.300000e+04</td>\n",
       "      <td>5.000000</td>\n",
       "      <td>4.390700e+04</td>\n",
       "    </tr>\n",
       "    <tr>\n",
       "      <th>50%</th>\n",
       "      <td>1.150000e+05</td>\n",
       "      <td>9.000000</td>\n",
       "      <td>7.496300e+04</td>\n",
       "    </tr>\n",
       "    <tr>\n",
       "      <th>75%</th>\n",
       "      <td>2.300000e+05</td>\n",
       "      <td>16.000000</td>\n",
       "      <td>1.216410e+05</td>\n",
       "    </tr>\n",
       "    <tr>\n",
       "      <th>max</th>\n",
       "      <td>5.000000e+46</td>\n",
       "      <td>50.000000</td>\n",
       "      <td>7.435143e+07</td>\n",
       "    </tr>\n",
       "  </tbody>\n",
       "</table>\n",
       "</div>"
      ],
      "text/plain": [
       "          CompTotal       WorkExp  ConvertedCompYearly\n",
       "count  4.822500e+04  43579.000000         4.801900e+04\n",
       "mean   1.036807e+42     11.405126         1.031101e+05\n",
       "std    2.276847e+44      9.051989         6.814188e+05\n",
       "min    0.000000e+00      0.000000         1.000000e+00\n",
       "25%    6.300000e+04      5.000000         4.390700e+04\n",
       "50%    1.150000e+05      9.000000         7.496300e+04\n",
       "75%    2.300000e+05     16.000000         1.216410e+05\n",
       "max    5.000000e+46     50.000000         7.435143e+07"
      ]
     },
     "execution_count": 5,
     "metadata": {},
     "output_type": "execute_result"
    }
   ],
   "source": [
    "survey_raw_df.describe()"
   ]
  },
  {
   "cell_type": "code",
   "execution_count": 6,
   "metadata": {},
   "outputs": [
    {
     "name": "stdout",
     "output_type": "stream",
     "text": [
      "<class 'pandas.core.frame.DataFrame'>\n",
      "Index: 89184 entries, 1 to 89184\n",
      "Data columns (total 83 columns):\n",
      " #   Column                               Non-Null Count  Dtype  \n",
      "---  ------                               --------------  -----  \n",
      " 0   Q120                                 89184 non-null  object \n",
      " 1   MainBranch                           89184 non-null  object \n",
      " 2   Age                                  89184 non-null  object \n",
      " 3   Employment                           87898 non-null  object \n",
      " 4   RemoteWork                           73810 non-null  object \n",
      " 5   CodingActivities                     73764 non-null  object \n",
      " 6   EdLevel                              87973 non-null  object \n",
      " 7   LearnCode                            87663 non-null  object \n",
      " 8   LearnCodeOnline                      70084 non-null  object \n",
      " 9   LearnCodeCoursesCert                 37076 non-null  object \n",
      " 10  YearsCode                            87435 non-null  object \n",
      " 11  YearsCodePro                         66136 non-null  object \n",
      " 12  DevType                              76872 non-null  object \n",
      " 13  OrgSize                              65043 non-null  object \n",
      " 14  PurchaseInfluence                    64964 non-null  object \n",
      " 15  TechList                             60851 non-null  object \n",
      " 16  BuyNewTool                           83009 non-null  object \n",
      " 17  Country                              87973 non-null  object \n",
      " 18  Currency                             65334 non-null  object \n",
      " 19  CompTotal                            48225 non-null  float64\n",
      " 20  LanguageHaveWorkedWith               87140 non-null  object \n",
      " 21  LanguageWantToWorkWith               80709 non-null  object \n",
      " 22  DatabaseHaveWorkedWith               73435 non-null  object \n",
      " 23  DatabaseWantToWorkWith               60911 non-null  object \n",
      " 24  PlatformHaveWorkedWith               63628 non-null  object \n",
      " 25  PlatformWantToWorkWith               51308 non-null  object \n",
      " 26  WebframeHaveWorkedWith               66938 non-null  object \n",
      " 27  WebframeWantToWorkWith               56741 non-null  object \n",
      " 28  MiscTechHaveWorkedWith               57019 non-null  object \n",
      " 29  MiscTechWantToWorkWith               46848 non-null  object \n",
      " 30  ToolsTechHaveWorkedWith              77884 non-null  object \n",
      " 31  ToolsTechWantToWorkWith              68315 non-null  object \n",
      " 32  NEWCollabToolsHaveWorkedWith         85864 non-null  object \n",
      " 33  NEWCollabToolsWantToWorkWith         76649 non-null  object \n",
      " 34  OpSysPersonal use                    86557 non-null  object \n",
      " 35  OpSysProfessional use                78587 non-null  object \n",
      " 36  OfficeStackAsyncHaveWorkedWith       69090 non-null  object \n",
      " 37  OfficeStackAsyncWantToWorkWith       53743 non-null  object \n",
      " 38  OfficeStackSyncHaveWorkedWith        83439 non-null  object \n",
      " 39  OfficeStackSyncWantToWorkWith        69776 non-null  object \n",
      " 40  AISearchHaveWorkedWith               56328 non-null  object \n",
      " 41  AISearchWantToWorkWith               46150 non-null  object \n",
      " 42  AIDevHaveWorkedWith                  25904 non-null  object \n",
      " 43  AIDevWantToWorkWith                  19587 non-null  object \n",
      " 44  NEWSOSites                           87973 non-null  object \n",
      " 45  SOVisitFreq                          87140 non-null  object \n",
      " 46  SOAccount                            87852 non-null  object \n",
      " 47  SOPartFreq                           66061 non-null  object \n",
      " 48  SOComm                               87692 non-null  object \n",
      " 49  SOAI                                 47858 non-null  object \n",
      " 50  AISelect                             87973 non-null  object \n",
      " 51  AISent                               61501 non-null  object \n",
      " 52  AIAcc                                38594 non-null  object \n",
      " 53  AIBen                                61396 non-null  object \n",
      " 54  AIToolInterested in Using            32783 non-null  object \n",
      " 55  AIToolCurrently Using                36137 non-null  object \n",
      " 56  AIToolNot interested in Using        21069 non-null  object \n",
      " 57  AINextVery different                 12661 non-null  object \n",
      " 58  AINextNeither different nor similar  6599 non-null   object \n",
      " 59  AINextSomewhat similar               6238 non-null   object \n",
      " 60  AINextVery similar                   2621 non-null   object \n",
      " 61  AINextSomewhat different             23303 non-null  object \n",
      " 62  TBranch                              65768 non-null  object \n",
      " 63  ICorPM                               43668 non-null  object \n",
      " 64  WorkExp                              43579 non-null  float64\n",
      " 65  Knowledge_1                          42535 non-null  object \n",
      " 66  Knowledge_2                          41670 non-null  object \n",
      " 67  Knowledge_3                          41798 non-null  object \n",
      " 68  Knowledge_4                          41684 non-null  object \n",
      " 69  Knowledge_5                          41527 non-null  object \n",
      " 70  Knowledge_6                          41520 non-null  object \n",
      " 71  Knowledge_7                          41467 non-null  object \n",
      " 72  Knowledge_8                          41404 non-null  object \n",
      " 73  Frequency_1                          41916 non-null  object \n",
      " 74  Frequency_2                          41925 non-null  object \n",
      " 75  Frequency_3                          41054 non-null  object \n",
      " 76  TimeSearching                        42778 non-null  object \n",
      " 77  TimeAnswering                        42629 non-null  object \n",
      " 78  ProfessionalTech                     41783 non-null  object \n",
      " 79  Industry                             36774 non-null  object \n",
      " 80  SurveyLength                         86485 non-null  object \n",
      " 81  SurveyEase                           86554 non-null  object \n",
      " 82  ConvertedCompYearly                  48019 non-null  float64\n",
      "dtypes: float64(3), object(80)\n",
      "memory usage: 57.2+ MB\n"
     ]
    }
   ],
   "source": [
    "survey_raw_df.info()"
   ]
  },
  {
   "cell_type": "code",
   "execution_count": 52,
   "metadata": {},
   "outputs": [],
   "source": [
    "# analysis will be conducted on selected columns:\n",
    "selected_columns = ['Age',\n",
    "                    'Employment', \n",
    "                    'RemoteWork', \n",
    "                    'LearnCode',  \n",
    "                    'YearsCodePro', \n",
    "                    'OrgSize', \n",
    "                    'DatabaseHaveWorkedWith',\n",
    "                    'PlatformHaveWorkedWith',\n",
    "                    'ConvertedCompYearly']\n",
    "df = survey_raw_df[selected_columns]"
   ]
  },
  {
   "cell_type": "code",
   "execution_count": 53,
   "metadata": {},
   "outputs": [
    {
     "name": "stdout",
     "output_type": "stream",
     "text": [
      "<class 'pandas.core.frame.DataFrame'>\n",
      "Index: 89184 entries, 1 to 89184\n",
      "Data columns (total 9 columns):\n",
      " #   Column                  Non-Null Count  Dtype  \n",
      "---  ------                  --------------  -----  \n",
      " 0   Age                     89184 non-null  object \n",
      " 1   Employment              87898 non-null  object \n",
      " 2   RemoteWork              73810 non-null  object \n",
      " 3   LearnCode               87663 non-null  object \n",
      " 4   YearsCodePro            66136 non-null  object \n",
      " 5   OrgSize                 65043 non-null  object \n",
      " 6   DatabaseHaveWorkedWith  73435 non-null  object \n",
      " 7   PlatformHaveWorkedWith  63628 non-null  object \n",
      " 8   ConvertedCompYearly     48019 non-null  float64\n",
      "dtypes: float64(1), object(8)\n",
      "memory usage: 8.8+ MB\n"
     ]
    }
   ],
   "source": [
    "df.info()"
   ]
  },
  {
   "cell_type": "code",
   "execution_count": 54,
   "metadata": {},
   "outputs": [
    {
     "data": {
      "text/plain": [
       "Index(['Age', 'Employment', 'RemoteWork', 'LearnCode', 'YearsCodePro',\n",
       "       'OrgSize', 'DatabaseHaveWorkedWith', 'PlatformHaveWorkedWith',\n",
       "       'ConvertedCompYearly'],\n",
       "      dtype='object')"
      ]
     },
     "execution_count": 54,
     "metadata": {},
     "output_type": "execute_result"
    }
   ],
   "source": [
    "df.columns"
   ]
  },
  {
   "cell_type": "code",
   "execution_count": 55,
   "metadata": {},
   "outputs": [
    {
     "data": {
      "text/html": [
       "<div>\n",
       "<style scoped>\n",
       "    .dataframe tbody tr th:only-of-type {\n",
       "        vertical-align: middle;\n",
       "    }\n",
       "\n",
       "    .dataframe tbody tr th {\n",
       "        vertical-align: top;\n",
       "    }\n",
       "\n",
       "    .dataframe thead th {\n",
       "        text-align: right;\n",
       "    }\n",
       "</style>\n",
       "<table border=\"1\" class=\"dataframe\">\n",
       "  <thead>\n",
       "    <tr style=\"text-align: right;\">\n",
       "      <th></th>\n",
       "      <th>Age</th>\n",
       "      <th>Employment</th>\n",
       "      <th>RemoteWork</th>\n",
       "      <th>LearnCode</th>\n",
       "      <th>YearsCodePro</th>\n",
       "      <th>OrgSize</th>\n",
       "      <th>DatabaseHaveWorkedWith</th>\n",
       "      <th>PlatformHaveWorkedWith</th>\n",
       "      <th>ConvertedCompYearly</th>\n",
       "    </tr>\n",
       "    <tr>\n",
       "      <th>ResponseId</th>\n",
       "      <th></th>\n",
       "      <th></th>\n",
       "      <th></th>\n",
       "      <th></th>\n",
       "      <th></th>\n",
       "      <th></th>\n",
       "      <th></th>\n",
       "      <th></th>\n",
       "      <th></th>\n",
       "    </tr>\n",
       "  </thead>\n",
       "  <tbody>\n",
       "    <tr>\n",
       "      <th>25367</th>\n",
       "      <td>25-34 years old</td>\n",
       "      <td>Employed, full-time</td>\n",
       "      <td>In-person</td>\n",
       "      <td>On the job training;Other online resources (e....</td>\n",
       "      <td>6</td>\n",
       "      <td>20 to 99 employees</td>\n",
       "      <td>MariaDB;MongoDB;MySQL;PostgreSQL;Redis;SQLite</td>\n",
       "      <td>Cloudflare;Heroku</td>\n",
       "      <td>11204.0</td>\n",
       "    </tr>\n",
       "    <tr>\n",
       "      <th>63375</th>\n",
       "      <td>35-44 years old</td>\n",
       "      <td>Employed, full-time</td>\n",
       "      <td>Hybrid (some remote, some in-person)</td>\n",
       "      <td>Colleague;Other online resources (e.g., videos...</td>\n",
       "      <td>10</td>\n",
       "      <td>1,000 to 4,999 employees</td>\n",
       "      <td>Microsoft SQL Server</td>\n",
       "      <td>Firebase;Microsoft Azure</td>\n",
       "      <td>NaN</td>\n",
       "    </tr>\n",
       "    <tr>\n",
       "      <th>60356</th>\n",
       "      <td>35-44 years old</td>\n",
       "      <td>Employed, full-time;Independent contractor, fr...</td>\n",
       "      <td>Hybrid (some remote, some in-person)</td>\n",
       "      <td>Books / Physical media;Colleague;Online Course...</td>\n",
       "      <td>15</td>\n",
       "      <td>10,000 or more employees</td>\n",
       "      <td>Dynamodb;MongoDB</td>\n",
       "      <td>Amazon Web Services (AWS)</td>\n",
       "      <td>NaN</td>\n",
       "    </tr>\n",
       "    <tr>\n",
       "      <th>14661</th>\n",
       "      <td>35-44 years old</td>\n",
       "      <td>Employed, full-time;Employed, part-time</td>\n",
       "      <td>Hybrid (some remote, some in-person)</td>\n",
       "      <td>Online Courses or Certification;On the job tra...</td>\n",
       "      <td>15</td>\n",
       "      <td>20 to 99 employees</td>\n",
       "      <td>NaN</td>\n",
       "      <td>NaN</td>\n",
       "      <td>18946.0</td>\n",
       "    </tr>\n",
       "    <tr>\n",
       "      <th>68905</th>\n",
       "      <td>35-44 years old</td>\n",
       "      <td>Employed, full-time</td>\n",
       "      <td>Remote</td>\n",
       "      <td>Colleague;Online Courses or Certification;On t...</td>\n",
       "      <td>7</td>\n",
       "      <td>2 to 9 employees</td>\n",
       "      <td>H2;MySQL;PostgreSQL</td>\n",
       "      <td>Digital Ocean;Firebase;Google Cloud</td>\n",
       "      <td>NaN</td>\n",
       "    </tr>\n",
       "  </tbody>\n",
       "</table>\n",
       "</div>"
      ],
      "text/plain": [
       "                        Age  \\\n",
       "ResponseId                    \n",
       "25367       25-34 years old   \n",
       "63375       35-44 years old   \n",
       "60356       35-44 years old   \n",
       "14661       35-44 years old   \n",
       "68905       35-44 years old   \n",
       "\n",
       "                                                   Employment  \\\n",
       "ResponseId                                                      \n",
       "25367                                     Employed, full-time   \n",
       "63375                                     Employed, full-time   \n",
       "60356       Employed, full-time;Independent contractor, fr...   \n",
       "14661                 Employed, full-time;Employed, part-time   \n",
       "68905                                     Employed, full-time   \n",
       "\n",
       "                                      RemoteWork  \\\n",
       "ResponseId                                         \n",
       "25367                                  In-person   \n",
       "63375       Hybrid (some remote, some in-person)   \n",
       "60356       Hybrid (some remote, some in-person)   \n",
       "14661       Hybrid (some remote, some in-person)   \n",
       "68905                                     Remote   \n",
       "\n",
       "                                                    LearnCode YearsCodePro  \\\n",
       "ResponseId                                                                   \n",
       "25367       On the job training;Other online resources (e....            6   \n",
       "63375       Colleague;Other online resources (e.g., videos...           10   \n",
       "60356       Books / Physical media;Colleague;Online Course...           15   \n",
       "14661       Online Courses or Certification;On the job tra...           15   \n",
       "68905       Colleague;Online Courses or Certification;On t...            7   \n",
       "\n",
       "                             OrgSize  \\\n",
       "ResponseId                             \n",
       "25367             20 to 99 employees   \n",
       "63375       1,000 to 4,999 employees   \n",
       "60356       10,000 or more employees   \n",
       "14661             20 to 99 employees   \n",
       "68905               2 to 9 employees   \n",
       "\n",
       "                                   DatabaseHaveWorkedWith  \\\n",
       "ResponseId                                                  \n",
       "25367       MariaDB;MongoDB;MySQL;PostgreSQL;Redis;SQLite   \n",
       "63375                                Microsoft SQL Server   \n",
       "60356                                    Dynamodb;MongoDB   \n",
       "14661                                                 NaN   \n",
       "68905                                 H2;MySQL;PostgreSQL   \n",
       "\n",
       "                         PlatformHaveWorkedWith  ConvertedCompYearly  \n",
       "ResponseId                                                            \n",
       "25367                         Cloudflare;Heroku              11204.0  \n",
       "63375                  Firebase;Microsoft Azure                  NaN  \n",
       "60356                 Amazon Web Services (AWS)                  NaN  \n",
       "14661                                       NaN              18946.0  \n",
       "68905       Digital Ocean;Firebase;Google Cloud                  NaN  "
      ]
     },
     "execution_count": 55,
     "metadata": {},
     "output_type": "execute_result"
    }
   ],
   "source": [
    "df.sample(5)"
   ]
  },
  {
   "cell_type": "markdown",
   "metadata": {},
   "source": [
    "### Data Preprocessing"
   ]
  },
  {
   "cell_type": "code",
   "execution_count": 56,
   "metadata": {},
   "outputs": [],
   "source": [
    "# Renaming the \"ConvertedCompYearly\" column to \"Salary\" for simplicity\n",
    "df = df.rename(columns={'ConvertedCompYearly': 'Salary'})"
   ]
  },
  {
   "cell_type": "code",
   "execution_count": 57,
   "metadata": {},
   "outputs": [],
   "source": [
    "# Define salary bins\n",
    "bins = [0, 20000, 40000, 60000, 80000, 100000, 120000, 140000, 160000, 180000, 200000, float('inf')]\n",
    "\n",
    "# Define labels for the salary bins\n",
    "labels = ['Under 20K', '20K-40K', '40K-60K', '60K-80K', '80K-100K', '100K-120K', '120K-140K', '140K-160K', '160K-180K', '180K-200K', 'Over 200K']\n",
    "\n",
    "# Use the `pd.cut` function to categorize each salary in the 'Salary' column based on the bins and labels\n",
    "df.loc[:, 'Salary_Level'] = pd.cut(df['Salary'], bins=bins, labels=labels, right=False)"
   ]
  },
  {
   "cell_type": "code",
   "execution_count": 58,
   "metadata": {},
   "outputs": [
    {
     "data": {
      "text/html": [
       "<div>\n",
       "<style scoped>\n",
       "    .dataframe tbody tr th:only-of-type {\n",
       "        vertical-align: middle;\n",
       "    }\n",
       "\n",
       "    .dataframe tbody tr th {\n",
       "        vertical-align: top;\n",
       "    }\n",
       "\n",
       "    .dataframe thead th {\n",
       "        text-align: right;\n",
       "    }\n",
       "</style>\n",
       "<table border=\"1\" class=\"dataframe\">\n",
       "  <thead>\n",
       "    <tr style=\"text-align: right;\">\n",
       "      <th></th>\n",
       "      <th>Age</th>\n",
       "      <th>Employment</th>\n",
       "      <th>RemoteWork</th>\n",
       "      <th>LearnCode</th>\n",
       "      <th>YearsCodePro</th>\n",
       "      <th>OrgSize</th>\n",
       "      <th>DatabaseHaveWorkedWith</th>\n",
       "      <th>PlatformHaveWorkedWith</th>\n",
       "      <th>Salary</th>\n",
       "      <th>Salary_Level</th>\n",
       "    </tr>\n",
       "    <tr>\n",
       "      <th>ResponseId</th>\n",
       "      <th></th>\n",
       "      <th></th>\n",
       "      <th></th>\n",
       "      <th></th>\n",
       "      <th></th>\n",
       "      <th></th>\n",
       "      <th></th>\n",
       "      <th></th>\n",
       "      <th></th>\n",
       "      <th></th>\n",
       "    </tr>\n",
       "  </thead>\n",
       "  <tbody>\n",
       "    <tr>\n",
       "      <th>38327</th>\n",
       "      <td>55-64 years old</td>\n",
       "      <td>Employed, full-time</td>\n",
       "      <td>Hybrid (some remote, some in-person)</td>\n",
       "      <td>Books / Physical media;Online Courses or Certi...</td>\n",
       "      <td>27</td>\n",
       "      <td>10,000 or more employees</td>\n",
       "      <td>Microsoft SQL Server;Oracle</td>\n",
       "      <td>Amazon Web Services (AWS);Microsoft Azure</td>\n",
       "      <td>83173.0</td>\n",
       "      <td>80K-100K</td>\n",
       "    </tr>\n",
       "    <tr>\n",
       "      <th>86907</th>\n",
       "      <td>25-34 years old</td>\n",
       "      <td>Employed, full-time</td>\n",
       "      <td>Hybrid (some remote, some in-person)</td>\n",
       "      <td>Online Courses or Certification;School (i.e., ...</td>\n",
       "      <td>3</td>\n",
       "      <td>1,000 to 4,999 employees</td>\n",
       "      <td>Snowflake</td>\n",
       "      <td>Microsoft Azure</td>\n",
       "      <td>124544.0</td>\n",
       "      <td>120K-140K</td>\n",
       "    </tr>\n",
       "    <tr>\n",
       "      <th>49087</th>\n",
       "      <td>25-34 years old</td>\n",
       "      <td>Employed, full-time</td>\n",
       "      <td>Remote</td>\n",
       "      <td>Books / Physical media;Online Courses or Certi...</td>\n",
       "      <td>13</td>\n",
       "      <td>20 to 99 employees</td>\n",
       "      <td>Microsoft SQL Server;MySQL;SQLite</td>\n",
       "      <td>Amazon Web Services (AWS);Netlify</td>\n",
       "      <td>170000.0</td>\n",
       "      <td>160K-180K</td>\n",
       "    </tr>\n",
       "    <tr>\n",
       "      <th>66032</th>\n",
       "      <td>25-34 years old</td>\n",
       "      <td>Employed, full-time</td>\n",
       "      <td>Hybrid (some remote, some in-person)</td>\n",
       "      <td>On the job training;School (i.e., University, ...</td>\n",
       "      <td>10</td>\n",
       "      <td>500 to 999 employees</td>\n",
       "      <td>Dynamodb;MongoDB;PostgreSQL;SQLite</td>\n",
       "      <td>Amazon Web Services (AWS);Cloudflare;Digital O...</td>\n",
       "      <td>138873.0</td>\n",
       "      <td>120K-140K</td>\n",
       "    </tr>\n",
       "    <tr>\n",
       "      <th>28321</th>\n",
       "      <td>25-34 years old</td>\n",
       "      <td>Employed, full-time</td>\n",
       "      <td>Remote</td>\n",
       "      <td>Books / Physical media;On the job training;Sch...</td>\n",
       "      <td>7</td>\n",
       "      <td>20 to 99 employees</td>\n",
       "      <td>Dynamodb;PostgreSQL</td>\n",
       "      <td>Amazon Web Services (AWS)</td>\n",
       "      <td>240000.0</td>\n",
       "      <td>Over 200K</td>\n",
       "    </tr>\n",
       "  </tbody>\n",
       "</table>\n",
       "</div>"
      ],
      "text/plain": [
       "                        Age           Employment  \\\n",
       "ResponseId                                         \n",
       "38327       55-64 years old  Employed, full-time   \n",
       "86907       25-34 years old  Employed, full-time   \n",
       "49087       25-34 years old  Employed, full-time   \n",
       "66032       25-34 years old  Employed, full-time   \n",
       "28321       25-34 years old  Employed, full-time   \n",
       "\n",
       "                                      RemoteWork  \\\n",
       "ResponseId                                         \n",
       "38327       Hybrid (some remote, some in-person)   \n",
       "86907       Hybrid (some remote, some in-person)   \n",
       "49087                                     Remote   \n",
       "66032       Hybrid (some remote, some in-person)   \n",
       "28321                                     Remote   \n",
       "\n",
       "                                                    LearnCode YearsCodePro  \\\n",
       "ResponseId                                                                   \n",
       "38327       Books / Physical media;Online Courses or Certi...           27   \n",
       "86907       Online Courses or Certification;School (i.e., ...            3   \n",
       "49087       Books / Physical media;Online Courses or Certi...           13   \n",
       "66032       On the job training;School (i.e., University, ...           10   \n",
       "28321       Books / Physical media;On the job training;Sch...            7   \n",
       "\n",
       "                             OrgSize              DatabaseHaveWorkedWith  \\\n",
       "ResponseId                                                                 \n",
       "38327       10,000 or more employees         Microsoft SQL Server;Oracle   \n",
       "86907       1,000 to 4,999 employees                           Snowflake   \n",
       "49087             20 to 99 employees   Microsoft SQL Server;MySQL;SQLite   \n",
       "66032           500 to 999 employees  Dynamodb;MongoDB;PostgreSQL;SQLite   \n",
       "28321             20 to 99 employees                 Dynamodb;PostgreSQL   \n",
       "\n",
       "                                       PlatformHaveWorkedWith    Salary  \\\n",
       "ResponseId                                                                \n",
       "38327               Amazon Web Services (AWS);Microsoft Azure   83173.0   \n",
       "86907                                         Microsoft Azure  124544.0   \n",
       "49087                       Amazon Web Services (AWS);Netlify  170000.0   \n",
       "66032       Amazon Web Services (AWS);Cloudflare;Digital O...  138873.0   \n",
       "28321                               Amazon Web Services (AWS)  240000.0   \n",
       "\n",
       "           Salary_Level  \n",
       "ResponseId               \n",
       "38327          80K-100K  \n",
       "86907         120K-140K  \n",
       "49087         160K-180K  \n",
       "66032         120K-140K  \n",
       "28321         Over 200K  "
      ]
     },
     "execution_count": 58,
     "metadata": {},
     "output_type": "execute_result"
    }
   ],
   "source": [
    "df.sample(5)"
   ]
  },
  {
   "cell_type": "markdown",
   "metadata": {},
   "source": [
    "### Data Visualizations"
   ]
  },
  {
   "cell_type": "code",
   "execution_count": 59,
   "metadata": {},
   "outputs": [],
   "source": [
    "import pandas as pd\n",
    "import plotly.express as px\n",
    "\n",
    "def plot_column(df, column_name, width=800, height=500, max_columns=None):\n",
    "    # Define labels\n",
    "    df = df[column_name]\n",
    "\n",
    "    # Count the occurrences of each response\n",
    "    count = df.value_counts()\n",
    "\n",
    "    # Sort counts in descending order\n",
    "    sorted_counts = count.sort_values(ascending=False)\n",
    "\n",
    "    # Apply max_columns limit if specified\n",
    "    if max_columns is not None:\n",
    "        sorted_counts = sorted_counts.head(max_columns)\n",
    "\n",
    "    # Replace underscores with spaces in column names for better visualization\n",
    "    sorted_counts.index = sorted_counts.index.str.replace('_', ' ')\n",
    "\n",
    "    # Calculate percentages\n",
    "    total_responses = len(df)  # Total number of responses\n",
    "    percentages = (sorted_counts / total_responses * 100).round(2).astype(str) + '%'\n",
    "\n",
    "    # Plotting the sorted counts\n",
    "    fig = px.bar(x=sorted_counts.index, y=sorted_counts.values,\n",
    "                 labels={'x': column_name, 'y': 'Count'},\n",
    "                 title=f\"Bar Graph: Distribution of {column_name}\",\n",
    "                 text=percentages)  # Display percentages as text on top of bars\n",
    "\n",
    "    fig.update_traces(marker_color='royalblue', marker_line_color='black',\n",
    "                      marker_line_width=1.5, opacity=0.8,\n",
    "                      textposition='outside',  # Place text outside the bars\n",
    "                      textfont=dict(size=10))  # Adjust font size of text\n",
    "\n",
    "    fig.update_layout(xaxis_tickangle=-45, xaxis_title=column_name,\n",
    "                      yaxis_title='Count', plot_bgcolor='white',\n",
    "                      width=width, height=height,\n",
    "                      title={'text': f\"Bar Graph: Distribution of {column_name}\", 'x': 0.5}) \n",
    "\n",
    "    fig.show()"
   ]
  },
  {
   "cell_type": "code",
   "execution_count": 60,
   "metadata": {},
   "outputs": [],
   "source": [
    "import pandas as pd\n",
    "import plotly.express as px\n",
    "\n",
    "def plot_split_column(df, column_name, width=800, height=500, max_columns=None):\n",
    "    # Define labels\n",
    "    df = df[column_name]\n",
    "\n",
    "    # Split the values in the column if users have selected multiple options\n",
    "    df = df.str.split(';').explode()\n",
    "\n",
    "    # Count the occurrences of each response\n",
    "    count = df.value_counts()\n",
    "\n",
    "    # Sort counts in descending order\n",
    "    sorted_counts = count.sort_values(ascending=False)\n",
    "\n",
    "    # Apply max_columns limit if specified\n",
    "    if max_columns is not None:\n",
    "        sorted_counts = sorted_counts.head(max_columns)\n",
    "\n",
    "    # Replace underscores with spaces in column names for better visualization\n",
    "    sorted_counts.index = sorted_counts.index.str.replace('_', ' ')\n",
    "\n",
    "    # Calculate percentages\n",
    "    total_responses = len(df)  # Total number of responses\n",
    "    percentages = (sorted_counts / total_responses * 100).round(2).astype(str) + '%'\n",
    "\n",
    "    # Plotting the sorted counts\n",
    "    fig = px.bar(x=sorted_counts.index, y=sorted_counts.values,\n",
    "                 labels={'x': column_name, 'y': 'Count'},\n",
    "                 title=f\"Bar Graph: Distribution of {column_name}\",\n",
    "                 text=percentages)  # Display percentages as text on top of bars\n",
    "\n",
    "    fig.update_traces(marker_color='royalblue', marker_line_color='black',\n",
    "                      marker_line_width=1.5, opacity=0.8,\n",
    "                      textposition='outside',  # Place text outside the bars\n",
    "                      textfont=dict(size=10))  # Adjust font size of text\n",
    "\n",
    "    fig.update_layout(xaxis_tickangle=-45, xaxis_title=column_name,\n",
    "                      yaxis_title='Count', plot_bgcolor='white',\n",
    "                      width=width, height=height,\n",
    "                      title={'text': f\"Bar Graph: Distribution of {column_name}\", 'x': 0.5}) \n",
    "\n",
    "    fig.show()\n"
   ]
  },
  {
   "cell_type": "code",
   "execution_count": 61,
   "metadata": {},
   "outputs": [
    {
     "data": {
      "application/vnd.plotly.v1+json": {
       "config": {
        "plotlyServerURL": "https://plot.ly"
       },
       "data": [
        {
         "alignmentgroup": "True",
         "hovertemplate": "Age=%{x}<br>Count=%{y}<br>text=%{text}<extra></extra>",
         "legendgroup": "",
         "marker": {
          "color": "royalblue",
          "line": {
           "color": "black",
           "width": 1.5
          },
          "pattern": {
           "shape": ""
          }
         },
         "name": "",
         "offsetgroup": "",
         "opacity": 0.8,
         "orientation": "v",
         "showlegend": false,
         "text": [
          "37.28%",
          "23.02%",
          "20.11%",
          "9.34%",
          "4.63%",
          "3.8%",
          "1.31%",
          "0.5%"
         ],
         "textfont": {
          "size": 10
         },
         "textposition": "outside",
         "type": "bar",
         "x": [
          "25-34 years old",
          "35-44 years old",
          "18-24 years old",
          "45-54 years old",
          "Under 18 years old",
          "55-64 years old",
          "65 years or older",
          "Prefer not to say"
         ],
         "xaxis": "x",
         "y": [
          33247,
          20532,
          17931,
          8334,
          4128,
          3392,
          1171,
          449
         ],
         "yaxis": "y"
        }
       ],
       "layout": {
        "barmode": "relative",
        "height": 520,
        "legend": {
         "tracegroupgap": 0
        },
        "plot_bgcolor": "white",
        "template": {
         "data": {
          "bar": [
           {
            "error_x": {
             "color": "#2a3f5f"
            },
            "error_y": {
             "color": "#2a3f5f"
            },
            "marker": {
             "line": {
              "color": "#E5ECF6",
              "width": 0.5
             },
             "pattern": {
              "fillmode": "overlay",
              "size": 10,
              "solidity": 0.2
             }
            },
            "type": "bar"
           }
          ],
          "barpolar": [
           {
            "marker": {
             "line": {
              "color": "#E5ECF6",
              "width": 0.5
             },
             "pattern": {
              "fillmode": "overlay",
              "size": 10,
              "solidity": 0.2
             }
            },
            "type": "barpolar"
           }
          ],
          "carpet": [
           {
            "aaxis": {
             "endlinecolor": "#2a3f5f",
             "gridcolor": "white",
             "linecolor": "white",
             "minorgridcolor": "white",
             "startlinecolor": "#2a3f5f"
            },
            "baxis": {
             "endlinecolor": "#2a3f5f",
             "gridcolor": "white",
             "linecolor": "white",
             "minorgridcolor": "white",
             "startlinecolor": "#2a3f5f"
            },
            "type": "carpet"
           }
          ],
          "choropleth": [
           {
            "colorbar": {
             "outlinewidth": 0,
             "ticks": ""
            },
            "type": "choropleth"
           }
          ],
          "contour": [
           {
            "colorbar": {
             "outlinewidth": 0,
             "ticks": ""
            },
            "colorscale": [
             [
              0,
              "#0d0887"
             ],
             [
              0.1111111111111111,
              "#46039f"
             ],
             [
              0.2222222222222222,
              "#7201a8"
             ],
             [
              0.3333333333333333,
              "#9c179e"
             ],
             [
              0.4444444444444444,
              "#bd3786"
             ],
             [
              0.5555555555555556,
              "#d8576b"
             ],
             [
              0.6666666666666666,
              "#ed7953"
             ],
             [
              0.7777777777777778,
              "#fb9f3a"
             ],
             [
              0.8888888888888888,
              "#fdca26"
             ],
             [
              1,
              "#f0f921"
             ]
            ],
            "type": "contour"
           }
          ],
          "contourcarpet": [
           {
            "colorbar": {
             "outlinewidth": 0,
             "ticks": ""
            },
            "type": "contourcarpet"
           }
          ],
          "heatmap": [
           {
            "colorbar": {
             "outlinewidth": 0,
             "ticks": ""
            },
            "colorscale": [
             [
              0,
              "#0d0887"
             ],
             [
              0.1111111111111111,
              "#46039f"
             ],
             [
              0.2222222222222222,
              "#7201a8"
             ],
             [
              0.3333333333333333,
              "#9c179e"
             ],
             [
              0.4444444444444444,
              "#bd3786"
             ],
             [
              0.5555555555555556,
              "#d8576b"
             ],
             [
              0.6666666666666666,
              "#ed7953"
             ],
             [
              0.7777777777777778,
              "#fb9f3a"
             ],
             [
              0.8888888888888888,
              "#fdca26"
             ],
             [
              1,
              "#f0f921"
             ]
            ],
            "type": "heatmap"
           }
          ],
          "heatmapgl": [
           {
            "colorbar": {
             "outlinewidth": 0,
             "ticks": ""
            },
            "colorscale": [
             [
              0,
              "#0d0887"
             ],
             [
              0.1111111111111111,
              "#46039f"
             ],
             [
              0.2222222222222222,
              "#7201a8"
             ],
             [
              0.3333333333333333,
              "#9c179e"
             ],
             [
              0.4444444444444444,
              "#bd3786"
             ],
             [
              0.5555555555555556,
              "#d8576b"
             ],
             [
              0.6666666666666666,
              "#ed7953"
             ],
             [
              0.7777777777777778,
              "#fb9f3a"
             ],
             [
              0.8888888888888888,
              "#fdca26"
             ],
             [
              1,
              "#f0f921"
             ]
            ],
            "type": "heatmapgl"
           }
          ],
          "histogram": [
           {
            "marker": {
             "pattern": {
              "fillmode": "overlay",
              "size": 10,
              "solidity": 0.2
             }
            },
            "type": "histogram"
           }
          ],
          "histogram2d": [
           {
            "colorbar": {
             "outlinewidth": 0,
             "ticks": ""
            },
            "colorscale": [
             [
              0,
              "#0d0887"
             ],
             [
              0.1111111111111111,
              "#46039f"
             ],
             [
              0.2222222222222222,
              "#7201a8"
             ],
             [
              0.3333333333333333,
              "#9c179e"
             ],
             [
              0.4444444444444444,
              "#bd3786"
             ],
             [
              0.5555555555555556,
              "#d8576b"
             ],
             [
              0.6666666666666666,
              "#ed7953"
             ],
             [
              0.7777777777777778,
              "#fb9f3a"
             ],
             [
              0.8888888888888888,
              "#fdca26"
             ],
             [
              1,
              "#f0f921"
             ]
            ],
            "type": "histogram2d"
           }
          ],
          "histogram2dcontour": [
           {
            "colorbar": {
             "outlinewidth": 0,
             "ticks": ""
            },
            "colorscale": [
             [
              0,
              "#0d0887"
             ],
             [
              0.1111111111111111,
              "#46039f"
             ],
             [
              0.2222222222222222,
              "#7201a8"
             ],
             [
              0.3333333333333333,
              "#9c179e"
             ],
             [
              0.4444444444444444,
              "#bd3786"
             ],
             [
              0.5555555555555556,
              "#d8576b"
             ],
             [
              0.6666666666666666,
              "#ed7953"
             ],
             [
              0.7777777777777778,
              "#fb9f3a"
             ],
             [
              0.8888888888888888,
              "#fdca26"
             ],
             [
              1,
              "#f0f921"
             ]
            ],
            "type": "histogram2dcontour"
           }
          ],
          "mesh3d": [
           {
            "colorbar": {
             "outlinewidth": 0,
             "ticks": ""
            },
            "type": "mesh3d"
           }
          ],
          "parcoords": [
           {
            "line": {
             "colorbar": {
              "outlinewidth": 0,
              "ticks": ""
             }
            },
            "type": "parcoords"
           }
          ],
          "pie": [
           {
            "automargin": true,
            "type": "pie"
           }
          ],
          "scatter": [
           {
            "fillpattern": {
             "fillmode": "overlay",
             "size": 10,
             "solidity": 0.2
            },
            "type": "scatter"
           }
          ],
          "scatter3d": [
           {
            "line": {
             "colorbar": {
              "outlinewidth": 0,
              "ticks": ""
             }
            },
            "marker": {
             "colorbar": {
              "outlinewidth": 0,
              "ticks": ""
             }
            },
            "type": "scatter3d"
           }
          ],
          "scattercarpet": [
           {
            "marker": {
             "colorbar": {
              "outlinewidth": 0,
              "ticks": ""
             }
            },
            "type": "scattercarpet"
           }
          ],
          "scattergeo": [
           {
            "marker": {
             "colorbar": {
              "outlinewidth": 0,
              "ticks": ""
             }
            },
            "type": "scattergeo"
           }
          ],
          "scattergl": [
           {
            "marker": {
             "colorbar": {
              "outlinewidth": 0,
              "ticks": ""
             }
            },
            "type": "scattergl"
           }
          ],
          "scattermapbox": [
           {
            "marker": {
             "colorbar": {
              "outlinewidth": 0,
              "ticks": ""
             }
            },
            "type": "scattermapbox"
           }
          ],
          "scatterpolar": [
           {
            "marker": {
             "colorbar": {
              "outlinewidth": 0,
              "ticks": ""
             }
            },
            "type": "scatterpolar"
           }
          ],
          "scatterpolargl": [
           {
            "marker": {
             "colorbar": {
              "outlinewidth": 0,
              "ticks": ""
             }
            },
            "type": "scatterpolargl"
           }
          ],
          "scatterternary": [
           {
            "marker": {
             "colorbar": {
              "outlinewidth": 0,
              "ticks": ""
             }
            },
            "type": "scatterternary"
           }
          ],
          "surface": [
           {
            "colorbar": {
             "outlinewidth": 0,
             "ticks": ""
            },
            "colorscale": [
             [
              0,
              "#0d0887"
             ],
             [
              0.1111111111111111,
              "#46039f"
             ],
             [
              0.2222222222222222,
              "#7201a8"
             ],
             [
              0.3333333333333333,
              "#9c179e"
             ],
             [
              0.4444444444444444,
              "#bd3786"
             ],
             [
              0.5555555555555556,
              "#d8576b"
             ],
             [
              0.6666666666666666,
              "#ed7953"
             ],
             [
              0.7777777777777778,
              "#fb9f3a"
             ],
             [
              0.8888888888888888,
              "#fdca26"
             ],
             [
              1,
              "#f0f921"
             ]
            ],
            "type": "surface"
           }
          ],
          "table": [
           {
            "cells": {
             "fill": {
              "color": "#EBF0F8"
             },
             "line": {
              "color": "white"
             }
            },
            "header": {
             "fill": {
              "color": "#C8D4E3"
             },
             "line": {
              "color": "white"
             }
            },
            "type": "table"
           }
          ]
         },
         "layout": {
          "annotationdefaults": {
           "arrowcolor": "#2a3f5f",
           "arrowhead": 0,
           "arrowwidth": 1
          },
          "autotypenumbers": "strict",
          "coloraxis": {
           "colorbar": {
            "outlinewidth": 0,
            "ticks": ""
           }
          },
          "colorscale": {
           "diverging": [
            [
             0,
             "#8e0152"
            ],
            [
             0.1,
             "#c51b7d"
            ],
            [
             0.2,
             "#de77ae"
            ],
            [
             0.3,
             "#f1b6da"
            ],
            [
             0.4,
             "#fde0ef"
            ],
            [
             0.5,
             "#f7f7f7"
            ],
            [
             0.6,
             "#e6f5d0"
            ],
            [
             0.7,
             "#b8e186"
            ],
            [
             0.8,
             "#7fbc41"
            ],
            [
             0.9,
             "#4d9221"
            ],
            [
             1,
             "#276419"
            ]
           ],
           "sequential": [
            [
             0,
             "#0d0887"
            ],
            [
             0.1111111111111111,
             "#46039f"
            ],
            [
             0.2222222222222222,
             "#7201a8"
            ],
            [
             0.3333333333333333,
             "#9c179e"
            ],
            [
             0.4444444444444444,
             "#bd3786"
            ],
            [
             0.5555555555555556,
             "#d8576b"
            ],
            [
             0.6666666666666666,
             "#ed7953"
            ],
            [
             0.7777777777777778,
             "#fb9f3a"
            ],
            [
             0.8888888888888888,
             "#fdca26"
            ],
            [
             1,
             "#f0f921"
            ]
           ],
           "sequentialminus": [
            [
             0,
             "#0d0887"
            ],
            [
             0.1111111111111111,
             "#46039f"
            ],
            [
             0.2222222222222222,
             "#7201a8"
            ],
            [
             0.3333333333333333,
             "#9c179e"
            ],
            [
             0.4444444444444444,
             "#bd3786"
            ],
            [
             0.5555555555555556,
             "#d8576b"
            ],
            [
             0.6666666666666666,
             "#ed7953"
            ],
            [
             0.7777777777777778,
             "#fb9f3a"
            ],
            [
             0.8888888888888888,
             "#fdca26"
            ],
            [
             1,
             "#f0f921"
            ]
           ]
          },
          "colorway": [
           "#636efa",
           "#EF553B",
           "#00cc96",
           "#ab63fa",
           "#FFA15A",
           "#19d3f3",
           "#FF6692",
           "#B6E880",
           "#FF97FF",
           "#FECB52"
          ],
          "font": {
           "color": "#2a3f5f"
          },
          "geo": {
           "bgcolor": "white",
           "lakecolor": "white",
           "landcolor": "#E5ECF6",
           "showlakes": true,
           "showland": true,
           "subunitcolor": "white"
          },
          "hoverlabel": {
           "align": "left"
          },
          "hovermode": "closest",
          "mapbox": {
           "style": "light"
          },
          "paper_bgcolor": "white",
          "plot_bgcolor": "#E5ECF6",
          "polar": {
           "angularaxis": {
            "gridcolor": "white",
            "linecolor": "white",
            "ticks": ""
           },
           "bgcolor": "#E5ECF6",
           "radialaxis": {
            "gridcolor": "white",
            "linecolor": "white",
            "ticks": ""
           }
          },
          "scene": {
           "xaxis": {
            "backgroundcolor": "#E5ECF6",
            "gridcolor": "white",
            "gridwidth": 2,
            "linecolor": "white",
            "showbackground": true,
            "ticks": "",
            "zerolinecolor": "white"
           },
           "yaxis": {
            "backgroundcolor": "#E5ECF6",
            "gridcolor": "white",
            "gridwidth": 2,
            "linecolor": "white",
            "showbackground": true,
            "ticks": "",
            "zerolinecolor": "white"
           },
           "zaxis": {
            "backgroundcolor": "#E5ECF6",
            "gridcolor": "white",
            "gridwidth": 2,
            "linecolor": "white",
            "showbackground": true,
            "ticks": "",
            "zerolinecolor": "white"
           }
          },
          "shapedefaults": {
           "line": {
            "color": "#2a3f5f"
           }
          },
          "ternary": {
           "aaxis": {
            "gridcolor": "white",
            "linecolor": "white",
            "ticks": ""
           },
           "baxis": {
            "gridcolor": "white",
            "linecolor": "white",
            "ticks": ""
           },
           "bgcolor": "#E5ECF6",
           "caxis": {
            "gridcolor": "white",
            "linecolor": "white",
            "ticks": ""
           }
          },
          "title": {
           "x": 0.05
          },
          "xaxis": {
           "automargin": true,
           "gridcolor": "white",
           "linecolor": "white",
           "ticks": "",
           "title": {
            "standoff": 15
           },
           "zerolinecolor": "white",
           "zerolinewidth": 2
          },
          "yaxis": {
           "automargin": true,
           "gridcolor": "white",
           "linecolor": "white",
           "ticks": "",
           "title": {
            "standoff": 15
           },
           "zerolinecolor": "white",
           "zerolinewidth": 2
          }
         }
        },
        "title": {
         "text": "Bar Graph: Distribution of Age",
         "x": 0.5
        },
        "width": 800,
        "xaxis": {
         "anchor": "y",
         "domain": [
          0,
          1
         ],
         "tickangle": -45,
         "title": {
          "text": "Age"
         }
        },
        "yaxis": {
         "anchor": "x",
         "domain": [
          0,
          1
         ],
         "title": {
          "text": "Count"
         }
        }
       }
      }
     },
     "metadata": {},
     "output_type": "display_data"
    }
   ],
   "source": [
    "plot_column(df, 'Age', 800, 520)"
   ]
  },
  {
   "cell_type": "code",
   "execution_count": 62,
   "metadata": {},
   "outputs": [
    {
     "data": {
      "application/vnd.plotly.v1+json": {
       "config": {
        "plotlyServerURL": "https://plot.ly"
       },
       "data": [
        {
         "alignmentgroup": "True",
         "hovertemplate": "Employment=%{x}<br>Count=%{y}<br>text=%{text}<extra></extra>",
         "legendgroup": "",
         "marker": {
          "color": "royalblue",
          "line": {
           "color": "black",
           "width": 1.5
          },
          "pattern": {
           "shape": ""
          }
         },
         "name": "",
         "offsetgroup": "",
         "opacity": 0.8,
         "orientation": "v",
         "showlegend": false,
         "text": [
          "59.01%",
          "13.55%",
          "11.4%",
          "4.87%",
          "4.05%",
          "3.28%",
          "1.34%",
          "0.71%",
          "0.53%"
         ],
         "textfont": {
          "size": 10
         },
         "textposition": "outside",
         "type": "bar",
         "x": [
          "Employed, full-time",
          "Independent contractor, freelancer, or self-employed",
          "Student, full-time",
          "Employed, part-time",
          "Not employed, but looking for work",
          "Student, part-time",
          "Not employed, and not looking for work",
          "Retired",
          "I prefer not to say"
         ],
         "xaxis": "x",
         "y": [
          60899,
          13988,
          11768,
          5029,
          4178,
          3390,
          1380,
          737,
          549
         ],
         "yaxis": "y"
        }
       ],
       "layout": {
        "barmode": "relative",
        "height": 700,
        "legend": {
         "tracegroupgap": 0
        },
        "plot_bgcolor": "white",
        "template": {
         "data": {
          "bar": [
           {
            "error_x": {
             "color": "#2a3f5f"
            },
            "error_y": {
             "color": "#2a3f5f"
            },
            "marker": {
             "line": {
              "color": "#E5ECF6",
              "width": 0.5
             },
             "pattern": {
              "fillmode": "overlay",
              "size": 10,
              "solidity": 0.2
             }
            },
            "type": "bar"
           }
          ],
          "barpolar": [
           {
            "marker": {
             "line": {
              "color": "#E5ECF6",
              "width": 0.5
             },
             "pattern": {
              "fillmode": "overlay",
              "size": 10,
              "solidity": 0.2
             }
            },
            "type": "barpolar"
           }
          ],
          "carpet": [
           {
            "aaxis": {
             "endlinecolor": "#2a3f5f",
             "gridcolor": "white",
             "linecolor": "white",
             "minorgridcolor": "white",
             "startlinecolor": "#2a3f5f"
            },
            "baxis": {
             "endlinecolor": "#2a3f5f",
             "gridcolor": "white",
             "linecolor": "white",
             "minorgridcolor": "white",
             "startlinecolor": "#2a3f5f"
            },
            "type": "carpet"
           }
          ],
          "choropleth": [
           {
            "colorbar": {
             "outlinewidth": 0,
             "ticks": ""
            },
            "type": "choropleth"
           }
          ],
          "contour": [
           {
            "colorbar": {
             "outlinewidth": 0,
             "ticks": ""
            },
            "colorscale": [
             [
              0,
              "#0d0887"
             ],
             [
              0.1111111111111111,
              "#46039f"
             ],
             [
              0.2222222222222222,
              "#7201a8"
             ],
             [
              0.3333333333333333,
              "#9c179e"
             ],
             [
              0.4444444444444444,
              "#bd3786"
             ],
             [
              0.5555555555555556,
              "#d8576b"
             ],
             [
              0.6666666666666666,
              "#ed7953"
             ],
             [
              0.7777777777777778,
              "#fb9f3a"
             ],
             [
              0.8888888888888888,
              "#fdca26"
             ],
             [
              1,
              "#f0f921"
             ]
            ],
            "type": "contour"
           }
          ],
          "contourcarpet": [
           {
            "colorbar": {
             "outlinewidth": 0,
             "ticks": ""
            },
            "type": "contourcarpet"
           }
          ],
          "heatmap": [
           {
            "colorbar": {
             "outlinewidth": 0,
             "ticks": ""
            },
            "colorscale": [
             [
              0,
              "#0d0887"
             ],
             [
              0.1111111111111111,
              "#46039f"
             ],
             [
              0.2222222222222222,
              "#7201a8"
             ],
             [
              0.3333333333333333,
              "#9c179e"
             ],
             [
              0.4444444444444444,
              "#bd3786"
             ],
             [
              0.5555555555555556,
              "#d8576b"
             ],
             [
              0.6666666666666666,
              "#ed7953"
             ],
             [
              0.7777777777777778,
              "#fb9f3a"
             ],
             [
              0.8888888888888888,
              "#fdca26"
             ],
             [
              1,
              "#f0f921"
             ]
            ],
            "type": "heatmap"
           }
          ],
          "heatmapgl": [
           {
            "colorbar": {
             "outlinewidth": 0,
             "ticks": ""
            },
            "colorscale": [
             [
              0,
              "#0d0887"
             ],
             [
              0.1111111111111111,
              "#46039f"
             ],
             [
              0.2222222222222222,
              "#7201a8"
             ],
             [
              0.3333333333333333,
              "#9c179e"
             ],
             [
              0.4444444444444444,
              "#bd3786"
             ],
             [
              0.5555555555555556,
              "#d8576b"
             ],
             [
              0.6666666666666666,
              "#ed7953"
             ],
             [
              0.7777777777777778,
              "#fb9f3a"
             ],
             [
              0.8888888888888888,
              "#fdca26"
             ],
             [
              1,
              "#f0f921"
             ]
            ],
            "type": "heatmapgl"
           }
          ],
          "histogram": [
           {
            "marker": {
             "pattern": {
              "fillmode": "overlay",
              "size": 10,
              "solidity": 0.2
             }
            },
            "type": "histogram"
           }
          ],
          "histogram2d": [
           {
            "colorbar": {
             "outlinewidth": 0,
             "ticks": ""
            },
            "colorscale": [
             [
              0,
              "#0d0887"
             ],
             [
              0.1111111111111111,
              "#46039f"
             ],
             [
              0.2222222222222222,
              "#7201a8"
             ],
             [
              0.3333333333333333,
              "#9c179e"
             ],
             [
              0.4444444444444444,
              "#bd3786"
             ],
             [
              0.5555555555555556,
              "#d8576b"
             ],
             [
              0.6666666666666666,
              "#ed7953"
             ],
             [
              0.7777777777777778,
              "#fb9f3a"
             ],
             [
              0.8888888888888888,
              "#fdca26"
             ],
             [
              1,
              "#f0f921"
             ]
            ],
            "type": "histogram2d"
           }
          ],
          "histogram2dcontour": [
           {
            "colorbar": {
             "outlinewidth": 0,
             "ticks": ""
            },
            "colorscale": [
             [
              0,
              "#0d0887"
             ],
             [
              0.1111111111111111,
              "#46039f"
             ],
             [
              0.2222222222222222,
              "#7201a8"
             ],
             [
              0.3333333333333333,
              "#9c179e"
             ],
             [
              0.4444444444444444,
              "#bd3786"
             ],
             [
              0.5555555555555556,
              "#d8576b"
             ],
             [
              0.6666666666666666,
              "#ed7953"
             ],
             [
              0.7777777777777778,
              "#fb9f3a"
             ],
             [
              0.8888888888888888,
              "#fdca26"
             ],
             [
              1,
              "#f0f921"
             ]
            ],
            "type": "histogram2dcontour"
           }
          ],
          "mesh3d": [
           {
            "colorbar": {
             "outlinewidth": 0,
             "ticks": ""
            },
            "type": "mesh3d"
           }
          ],
          "parcoords": [
           {
            "line": {
             "colorbar": {
              "outlinewidth": 0,
              "ticks": ""
             }
            },
            "type": "parcoords"
           }
          ],
          "pie": [
           {
            "automargin": true,
            "type": "pie"
           }
          ],
          "scatter": [
           {
            "fillpattern": {
             "fillmode": "overlay",
             "size": 10,
             "solidity": 0.2
            },
            "type": "scatter"
           }
          ],
          "scatter3d": [
           {
            "line": {
             "colorbar": {
              "outlinewidth": 0,
              "ticks": ""
             }
            },
            "marker": {
             "colorbar": {
              "outlinewidth": 0,
              "ticks": ""
             }
            },
            "type": "scatter3d"
           }
          ],
          "scattercarpet": [
           {
            "marker": {
             "colorbar": {
              "outlinewidth": 0,
              "ticks": ""
             }
            },
            "type": "scattercarpet"
           }
          ],
          "scattergeo": [
           {
            "marker": {
             "colorbar": {
              "outlinewidth": 0,
              "ticks": ""
             }
            },
            "type": "scattergeo"
           }
          ],
          "scattergl": [
           {
            "marker": {
             "colorbar": {
              "outlinewidth": 0,
              "ticks": ""
             }
            },
            "type": "scattergl"
           }
          ],
          "scattermapbox": [
           {
            "marker": {
             "colorbar": {
              "outlinewidth": 0,
              "ticks": ""
             }
            },
            "type": "scattermapbox"
           }
          ],
          "scatterpolar": [
           {
            "marker": {
             "colorbar": {
              "outlinewidth": 0,
              "ticks": ""
             }
            },
            "type": "scatterpolar"
           }
          ],
          "scatterpolargl": [
           {
            "marker": {
             "colorbar": {
              "outlinewidth": 0,
              "ticks": ""
             }
            },
            "type": "scatterpolargl"
           }
          ],
          "scatterternary": [
           {
            "marker": {
             "colorbar": {
              "outlinewidth": 0,
              "ticks": ""
             }
            },
            "type": "scatterternary"
           }
          ],
          "surface": [
           {
            "colorbar": {
             "outlinewidth": 0,
             "ticks": ""
            },
            "colorscale": [
             [
              0,
              "#0d0887"
             ],
             [
              0.1111111111111111,
              "#46039f"
             ],
             [
              0.2222222222222222,
              "#7201a8"
             ],
             [
              0.3333333333333333,
              "#9c179e"
             ],
             [
              0.4444444444444444,
              "#bd3786"
             ],
             [
              0.5555555555555556,
              "#d8576b"
             ],
             [
              0.6666666666666666,
              "#ed7953"
             ],
             [
              0.7777777777777778,
              "#fb9f3a"
             ],
             [
              0.8888888888888888,
              "#fdca26"
             ],
             [
              1,
              "#f0f921"
             ]
            ],
            "type": "surface"
           }
          ],
          "table": [
           {
            "cells": {
             "fill": {
              "color": "#EBF0F8"
             },
             "line": {
              "color": "white"
             }
            },
            "header": {
             "fill": {
              "color": "#C8D4E3"
             },
             "line": {
              "color": "white"
             }
            },
            "type": "table"
           }
          ]
         },
         "layout": {
          "annotationdefaults": {
           "arrowcolor": "#2a3f5f",
           "arrowhead": 0,
           "arrowwidth": 1
          },
          "autotypenumbers": "strict",
          "coloraxis": {
           "colorbar": {
            "outlinewidth": 0,
            "ticks": ""
           }
          },
          "colorscale": {
           "diverging": [
            [
             0,
             "#8e0152"
            ],
            [
             0.1,
             "#c51b7d"
            ],
            [
             0.2,
             "#de77ae"
            ],
            [
             0.3,
             "#f1b6da"
            ],
            [
             0.4,
             "#fde0ef"
            ],
            [
             0.5,
             "#f7f7f7"
            ],
            [
             0.6,
             "#e6f5d0"
            ],
            [
             0.7,
             "#b8e186"
            ],
            [
             0.8,
             "#7fbc41"
            ],
            [
             0.9,
             "#4d9221"
            ],
            [
             1,
             "#276419"
            ]
           ],
           "sequential": [
            [
             0,
             "#0d0887"
            ],
            [
             0.1111111111111111,
             "#46039f"
            ],
            [
             0.2222222222222222,
             "#7201a8"
            ],
            [
             0.3333333333333333,
             "#9c179e"
            ],
            [
             0.4444444444444444,
             "#bd3786"
            ],
            [
             0.5555555555555556,
             "#d8576b"
            ],
            [
             0.6666666666666666,
             "#ed7953"
            ],
            [
             0.7777777777777778,
             "#fb9f3a"
            ],
            [
             0.8888888888888888,
             "#fdca26"
            ],
            [
             1,
             "#f0f921"
            ]
           ],
           "sequentialminus": [
            [
             0,
             "#0d0887"
            ],
            [
             0.1111111111111111,
             "#46039f"
            ],
            [
             0.2222222222222222,
             "#7201a8"
            ],
            [
             0.3333333333333333,
             "#9c179e"
            ],
            [
             0.4444444444444444,
             "#bd3786"
            ],
            [
             0.5555555555555556,
             "#d8576b"
            ],
            [
             0.6666666666666666,
             "#ed7953"
            ],
            [
             0.7777777777777778,
             "#fb9f3a"
            ],
            [
             0.8888888888888888,
             "#fdca26"
            ],
            [
             1,
             "#f0f921"
            ]
           ]
          },
          "colorway": [
           "#636efa",
           "#EF553B",
           "#00cc96",
           "#ab63fa",
           "#FFA15A",
           "#19d3f3",
           "#FF6692",
           "#B6E880",
           "#FF97FF",
           "#FECB52"
          ],
          "font": {
           "color": "#2a3f5f"
          },
          "geo": {
           "bgcolor": "white",
           "lakecolor": "white",
           "landcolor": "#E5ECF6",
           "showlakes": true,
           "showland": true,
           "subunitcolor": "white"
          },
          "hoverlabel": {
           "align": "left"
          },
          "hovermode": "closest",
          "mapbox": {
           "style": "light"
          },
          "paper_bgcolor": "white",
          "plot_bgcolor": "#E5ECF6",
          "polar": {
           "angularaxis": {
            "gridcolor": "white",
            "linecolor": "white",
            "ticks": ""
           },
           "bgcolor": "#E5ECF6",
           "radialaxis": {
            "gridcolor": "white",
            "linecolor": "white",
            "ticks": ""
           }
          },
          "scene": {
           "xaxis": {
            "backgroundcolor": "#E5ECF6",
            "gridcolor": "white",
            "gridwidth": 2,
            "linecolor": "white",
            "showbackground": true,
            "ticks": "",
            "zerolinecolor": "white"
           },
           "yaxis": {
            "backgroundcolor": "#E5ECF6",
            "gridcolor": "white",
            "gridwidth": 2,
            "linecolor": "white",
            "showbackground": true,
            "ticks": "",
            "zerolinecolor": "white"
           },
           "zaxis": {
            "backgroundcolor": "#E5ECF6",
            "gridcolor": "white",
            "gridwidth": 2,
            "linecolor": "white",
            "showbackground": true,
            "ticks": "",
            "zerolinecolor": "white"
           }
          },
          "shapedefaults": {
           "line": {
            "color": "#2a3f5f"
           }
          },
          "ternary": {
           "aaxis": {
            "gridcolor": "white",
            "linecolor": "white",
            "ticks": ""
           },
           "baxis": {
            "gridcolor": "white",
            "linecolor": "white",
            "ticks": ""
           },
           "bgcolor": "#E5ECF6",
           "caxis": {
            "gridcolor": "white",
            "linecolor": "white",
            "ticks": ""
           }
          },
          "title": {
           "x": 0.05
          },
          "xaxis": {
           "automargin": true,
           "gridcolor": "white",
           "linecolor": "white",
           "ticks": "",
           "title": {
            "standoff": 15
           },
           "zerolinecolor": "white",
           "zerolinewidth": 2
          },
          "yaxis": {
           "automargin": true,
           "gridcolor": "white",
           "linecolor": "white",
           "ticks": "",
           "title": {
            "standoff": 15
           },
           "zerolinecolor": "white",
           "zerolinewidth": 2
          }
         }
        },
        "title": {
         "text": "Bar Graph: Distribution of Employment",
         "x": 0.5
        },
        "width": 800,
        "xaxis": {
         "anchor": "y",
         "domain": [
          0,
          1
         ],
         "tickangle": -45,
         "title": {
          "text": "Employment"
         }
        },
        "yaxis": {
         "anchor": "x",
         "domain": [
          0,
          1
         ],
         "title": {
          "text": "Count"
         }
        }
       }
      }
     },
     "metadata": {},
     "output_type": "display_data"
    }
   ],
   "source": [
    "plot_split_column(df, 'Employment', 800, 700)"
   ]
  },
  {
   "cell_type": "code",
   "execution_count": 63,
   "metadata": {},
   "outputs": [
    {
     "data": {
      "application/vnd.plotly.v1+json": {
       "config": {
        "plotlyServerURL": "https://plot.ly"
       },
       "data": [
        {
         "alignmentgroup": "True",
         "hovertemplate": "RemoteWork=%{x}<br>Count=%{y}<br>text=%{text}<extra></extra>",
         "legendgroup": "",
         "marker": {
          "color": "royalblue",
          "line": {
           "color": "black",
           "width": 1.5
          },
          "pattern": {
           "shape": ""
          }
         },
         "name": "",
         "offsetgroup": "",
         "opacity": 0.8,
         "orientation": "v",
         "showlegend": false,
         "text": [
          "34.91%",
          "34.27%",
          "13.58%"
         ],
         "textfont": {
          "size": 10
         },
         "textposition": "outside",
         "type": "bar",
         "x": [
          "Hybrid (some remote, some in-person)",
          "Remote",
          "In-person"
         ],
         "xaxis": "x",
         "y": [
          31131,
          30566,
          12113
         ],
         "yaxis": "y"
        }
       ],
       "layout": {
        "barmode": "relative",
        "height": 750,
        "legend": {
         "tracegroupgap": 0
        },
        "plot_bgcolor": "white",
        "template": {
         "data": {
          "bar": [
           {
            "error_x": {
             "color": "#2a3f5f"
            },
            "error_y": {
             "color": "#2a3f5f"
            },
            "marker": {
             "line": {
              "color": "#E5ECF6",
              "width": 0.5
             },
             "pattern": {
              "fillmode": "overlay",
              "size": 10,
              "solidity": 0.2
             }
            },
            "type": "bar"
           }
          ],
          "barpolar": [
           {
            "marker": {
             "line": {
              "color": "#E5ECF6",
              "width": 0.5
             },
             "pattern": {
              "fillmode": "overlay",
              "size": 10,
              "solidity": 0.2
             }
            },
            "type": "barpolar"
           }
          ],
          "carpet": [
           {
            "aaxis": {
             "endlinecolor": "#2a3f5f",
             "gridcolor": "white",
             "linecolor": "white",
             "minorgridcolor": "white",
             "startlinecolor": "#2a3f5f"
            },
            "baxis": {
             "endlinecolor": "#2a3f5f",
             "gridcolor": "white",
             "linecolor": "white",
             "minorgridcolor": "white",
             "startlinecolor": "#2a3f5f"
            },
            "type": "carpet"
           }
          ],
          "choropleth": [
           {
            "colorbar": {
             "outlinewidth": 0,
             "ticks": ""
            },
            "type": "choropleth"
           }
          ],
          "contour": [
           {
            "colorbar": {
             "outlinewidth": 0,
             "ticks": ""
            },
            "colorscale": [
             [
              0,
              "#0d0887"
             ],
             [
              0.1111111111111111,
              "#46039f"
             ],
             [
              0.2222222222222222,
              "#7201a8"
             ],
             [
              0.3333333333333333,
              "#9c179e"
             ],
             [
              0.4444444444444444,
              "#bd3786"
             ],
             [
              0.5555555555555556,
              "#d8576b"
             ],
             [
              0.6666666666666666,
              "#ed7953"
             ],
             [
              0.7777777777777778,
              "#fb9f3a"
             ],
             [
              0.8888888888888888,
              "#fdca26"
             ],
             [
              1,
              "#f0f921"
             ]
            ],
            "type": "contour"
           }
          ],
          "contourcarpet": [
           {
            "colorbar": {
             "outlinewidth": 0,
             "ticks": ""
            },
            "type": "contourcarpet"
           }
          ],
          "heatmap": [
           {
            "colorbar": {
             "outlinewidth": 0,
             "ticks": ""
            },
            "colorscale": [
             [
              0,
              "#0d0887"
             ],
             [
              0.1111111111111111,
              "#46039f"
             ],
             [
              0.2222222222222222,
              "#7201a8"
             ],
             [
              0.3333333333333333,
              "#9c179e"
             ],
             [
              0.4444444444444444,
              "#bd3786"
             ],
             [
              0.5555555555555556,
              "#d8576b"
             ],
             [
              0.6666666666666666,
              "#ed7953"
             ],
             [
              0.7777777777777778,
              "#fb9f3a"
             ],
             [
              0.8888888888888888,
              "#fdca26"
             ],
             [
              1,
              "#f0f921"
             ]
            ],
            "type": "heatmap"
           }
          ],
          "heatmapgl": [
           {
            "colorbar": {
             "outlinewidth": 0,
             "ticks": ""
            },
            "colorscale": [
             [
              0,
              "#0d0887"
             ],
             [
              0.1111111111111111,
              "#46039f"
             ],
             [
              0.2222222222222222,
              "#7201a8"
             ],
             [
              0.3333333333333333,
              "#9c179e"
             ],
             [
              0.4444444444444444,
              "#bd3786"
             ],
             [
              0.5555555555555556,
              "#d8576b"
             ],
             [
              0.6666666666666666,
              "#ed7953"
             ],
             [
              0.7777777777777778,
              "#fb9f3a"
             ],
             [
              0.8888888888888888,
              "#fdca26"
             ],
             [
              1,
              "#f0f921"
             ]
            ],
            "type": "heatmapgl"
           }
          ],
          "histogram": [
           {
            "marker": {
             "pattern": {
              "fillmode": "overlay",
              "size": 10,
              "solidity": 0.2
             }
            },
            "type": "histogram"
           }
          ],
          "histogram2d": [
           {
            "colorbar": {
             "outlinewidth": 0,
             "ticks": ""
            },
            "colorscale": [
             [
              0,
              "#0d0887"
             ],
             [
              0.1111111111111111,
              "#46039f"
             ],
             [
              0.2222222222222222,
              "#7201a8"
             ],
             [
              0.3333333333333333,
              "#9c179e"
             ],
             [
              0.4444444444444444,
              "#bd3786"
             ],
             [
              0.5555555555555556,
              "#d8576b"
             ],
             [
              0.6666666666666666,
              "#ed7953"
             ],
             [
              0.7777777777777778,
              "#fb9f3a"
             ],
             [
              0.8888888888888888,
              "#fdca26"
             ],
             [
              1,
              "#f0f921"
             ]
            ],
            "type": "histogram2d"
           }
          ],
          "histogram2dcontour": [
           {
            "colorbar": {
             "outlinewidth": 0,
             "ticks": ""
            },
            "colorscale": [
             [
              0,
              "#0d0887"
             ],
             [
              0.1111111111111111,
              "#46039f"
             ],
             [
              0.2222222222222222,
              "#7201a8"
             ],
             [
              0.3333333333333333,
              "#9c179e"
             ],
             [
              0.4444444444444444,
              "#bd3786"
             ],
             [
              0.5555555555555556,
              "#d8576b"
             ],
             [
              0.6666666666666666,
              "#ed7953"
             ],
             [
              0.7777777777777778,
              "#fb9f3a"
             ],
             [
              0.8888888888888888,
              "#fdca26"
             ],
             [
              1,
              "#f0f921"
             ]
            ],
            "type": "histogram2dcontour"
           }
          ],
          "mesh3d": [
           {
            "colorbar": {
             "outlinewidth": 0,
             "ticks": ""
            },
            "type": "mesh3d"
           }
          ],
          "parcoords": [
           {
            "line": {
             "colorbar": {
              "outlinewidth": 0,
              "ticks": ""
             }
            },
            "type": "parcoords"
           }
          ],
          "pie": [
           {
            "automargin": true,
            "type": "pie"
           }
          ],
          "scatter": [
           {
            "fillpattern": {
             "fillmode": "overlay",
             "size": 10,
             "solidity": 0.2
            },
            "type": "scatter"
           }
          ],
          "scatter3d": [
           {
            "line": {
             "colorbar": {
              "outlinewidth": 0,
              "ticks": ""
             }
            },
            "marker": {
             "colorbar": {
              "outlinewidth": 0,
              "ticks": ""
             }
            },
            "type": "scatter3d"
           }
          ],
          "scattercarpet": [
           {
            "marker": {
             "colorbar": {
              "outlinewidth": 0,
              "ticks": ""
             }
            },
            "type": "scattercarpet"
           }
          ],
          "scattergeo": [
           {
            "marker": {
             "colorbar": {
              "outlinewidth": 0,
              "ticks": ""
             }
            },
            "type": "scattergeo"
           }
          ],
          "scattergl": [
           {
            "marker": {
             "colorbar": {
              "outlinewidth": 0,
              "ticks": ""
             }
            },
            "type": "scattergl"
           }
          ],
          "scattermapbox": [
           {
            "marker": {
             "colorbar": {
              "outlinewidth": 0,
              "ticks": ""
             }
            },
            "type": "scattermapbox"
           }
          ],
          "scatterpolar": [
           {
            "marker": {
             "colorbar": {
              "outlinewidth": 0,
              "ticks": ""
             }
            },
            "type": "scatterpolar"
           }
          ],
          "scatterpolargl": [
           {
            "marker": {
             "colorbar": {
              "outlinewidth": 0,
              "ticks": ""
             }
            },
            "type": "scatterpolargl"
           }
          ],
          "scatterternary": [
           {
            "marker": {
             "colorbar": {
              "outlinewidth": 0,
              "ticks": ""
             }
            },
            "type": "scatterternary"
           }
          ],
          "surface": [
           {
            "colorbar": {
             "outlinewidth": 0,
             "ticks": ""
            },
            "colorscale": [
             [
              0,
              "#0d0887"
             ],
             [
              0.1111111111111111,
              "#46039f"
             ],
             [
              0.2222222222222222,
              "#7201a8"
             ],
             [
              0.3333333333333333,
              "#9c179e"
             ],
             [
              0.4444444444444444,
              "#bd3786"
             ],
             [
              0.5555555555555556,
              "#d8576b"
             ],
             [
              0.6666666666666666,
              "#ed7953"
             ],
             [
              0.7777777777777778,
              "#fb9f3a"
             ],
             [
              0.8888888888888888,
              "#fdca26"
             ],
             [
              1,
              "#f0f921"
             ]
            ],
            "type": "surface"
           }
          ],
          "table": [
           {
            "cells": {
             "fill": {
              "color": "#EBF0F8"
             },
             "line": {
              "color": "white"
             }
            },
            "header": {
             "fill": {
              "color": "#C8D4E3"
             },
             "line": {
              "color": "white"
             }
            },
            "type": "table"
           }
          ]
         },
         "layout": {
          "annotationdefaults": {
           "arrowcolor": "#2a3f5f",
           "arrowhead": 0,
           "arrowwidth": 1
          },
          "autotypenumbers": "strict",
          "coloraxis": {
           "colorbar": {
            "outlinewidth": 0,
            "ticks": ""
           }
          },
          "colorscale": {
           "diverging": [
            [
             0,
             "#8e0152"
            ],
            [
             0.1,
             "#c51b7d"
            ],
            [
             0.2,
             "#de77ae"
            ],
            [
             0.3,
             "#f1b6da"
            ],
            [
             0.4,
             "#fde0ef"
            ],
            [
             0.5,
             "#f7f7f7"
            ],
            [
             0.6,
             "#e6f5d0"
            ],
            [
             0.7,
             "#b8e186"
            ],
            [
             0.8,
             "#7fbc41"
            ],
            [
             0.9,
             "#4d9221"
            ],
            [
             1,
             "#276419"
            ]
           ],
           "sequential": [
            [
             0,
             "#0d0887"
            ],
            [
             0.1111111111111111,
             "#46039f"
            ],
            [
             0.2222222222222222,
             "#7201a8"
            ],
            [
             0.3333333333333333,
             "#9c179e"
            ],
            [
             0.4444444444444444,
             "#bd3786"
            ],
            [
             0.5555555555555556,
             "#d8576b"
            ],
            [
             0.6666666666666666,
             "#ed7953"
            ],
            [
             0.7777777777777778,
             "#fb9f3a"
            ],
            [
             0.8888888888888888,
             "#fdca26"
            ],
            [
             1,
             "#f0f921"
            ]
           ],
           "sequentialminus": [
            [
             0,
             "#0d0887"
            ],
            [
             0.1111111111111111,
             "#46039f"
            ],
            [
             0.2222222222222222,
             "#7201a8"
            ],
            [
             0.3333333333333333,
             "#9c179e"
            ],
            [
             0.4444444444444444,
             "#bd3786"
            ],
            [
             0.5555555555555556,
             "#d8576b"
            ],
            [
             0.6666666666666666,
             "#ed7953"
            ],
            [
             0.7777777777777778,
             "#fb9f3a"
            ],
            [
             0.8888888888888888,
             "#fdca26"
            ],
            [
             1,
             "#f0f921"
            ]
           ]
          },
          "colorway": [
           "#636efa",
           "#EF553B",
           "#00cc96",
           "#ab63fa",
           "#FFA15A",
           "#19d3f3",
           "#FF6692",
           "#B6E880",
           "#FF97FF",
           "#FECB52"
          ],
          "font": {
           "color": "#2a3f5f"
          },
          "geo": {
           "bgcolor": "white",
           "lakecolor": "white",
           "landcolor": "#E5ECF6",
           "showlakes": true,
           "showland": true,
           "subunitcolor": "white"
          },
          "hoverlabel": {
           "align": "left"
          },
          "hovermode": "closest",
          "mapbox": {
           "style": "light"
          },
          "paper_bgcolor": "white",
          "plot_bgcolor": "#E5ECF6",
          "polar": {
           "angularaxis": {
            "gridcolor": "white",
            "linecolor": "white",
            "ticks": ""
           },
           "bgcolor": "#E5ECF6",
           "radialaxis": {
            "gridcolor": "white",
            "linecolor": "white",
            "ticks": ""
           }
          },
          "scene": {
           "xaxis": {
            "backgroundcolor": "#E5ECF6",
            "gridcolor": "white",
            "gridwidth": 2,
            "linecolor": "white",
            "showbackground": true,
            "ticks": "",
            "zerolinecolor": "white"
           },
           "yaxis": {
            "backgroundcolor": "#E5ECF6",
            "gridcolor": "white",
            "gridwidth": 2,
            "linecolor": "white",
            "showbackground": true,
            "ticks": "",
            "zerolinecolor": "white"
           },
           "zaxis": {
            "backgroundcolor": "#E5ECF6",
            "gridcolor": "white",
            "gridwidth": 2,
            "linecolor": "white",
            "showbackground": true,
            "ticks": "",
            "zerolinecolor": "white"
           }
          },
          "shapedefaults": {
           "line": {
            "color": "#2a3f5f"
           }
          },
          "ternary": {
           "aaxis": {
            "gridcolor": "white",
            "linecolor": "white",
            "ticks": ""
           },
           "baxis": {
            "gridcolor": "white",
            "linecolor": "white",
            "ticks": ""
           },
           "bgcolor": "#E5ECF6",
           "caxis": {
            "gridcolor": "white",
            "linecolor": "white",
            "ticks": ""
           }
          },
          "title": {
           "x": 0.05
          },
          "xaxis": {
           "automargin": true,
           "gridcolor": "white",
           "linecolor": "white",
           "ticks": "",
           "title": {
            "standoff": 15
           },
           "zerolinecolor": "white",
           "zerolinewidth": 2
          },
          "yaxis": {
           "automargin": true,
           "gridcolor": "white",
           "linecolor": "white",
           "ticks": "",
           "title": {
            "standoff": 15
           },
           "zerolinecolor": "white",
           "zerolinewidth": 2
          }
         }
        },
        "title": {
         "text": "Bar Graph: Distribution of RemoteWork",
         "x": 0.5
        },
        "width": 800,
        "xaxis": {
         "anchor": "y",
         "domain": [
          0,
          1
         ],
         "tickangle": -45,
         "title": {
          "text": "RemoteWork"
         }
        },
        "yaxis": {
         "anchor": "x",
         "domain": [
          0,
          1
         ],
         "title": {
          "text": "Count"
         }
        }
       }
      }
     },
     "metadata": {},
     "output_type": "display_data"
    }
   ],
   "source": [
    "plot_column(df, 'RemoteWork', 800, 750)"
   ]
  },
  {
   "cell_type": "markdown",
   "metadata": {},
   "source": [
    "~1/3 of survey participants work remotely, and another ~1/3 works hybrid."
   ]
  },
  {
   "cell_type": "markdown",
   "metadata": {},
   "source": [
    "Most survey participants code as a hobby or are professional developers"
   ]
  },
  {
   "cell_type": "code",
   "execution_count": 64,
   "metadata": {},
   "outputs": [
    {
     "data": {
      "application/vnd.plotly.v1+json": {
       "config": {
        "plotlyServerURL": "https://plot.ly"
       },
       "data": [
        {
         "alignmentgroup": "True",
         "hovertemplate": "LearnCode=%{x}<br>Count=%{y}<br>text=%{text}<extra></extra>",
         "legendgroup": "",
         "marker": {
          "color": "royalblue",
          "line": {
           "color": "black",
           "width": 1.5
          },
          "pattern": {
           "shape": ""
          }
         },
         "name": "",
         "offsetgroup": "",
         "opacity": 0.8,
         "orientation": "v",
         "showlegend": false,
         "text": [
          "23.71%",
          "15.33%",
          "14.84%",
          "14.58%",
          "13.63%",
          "6.93%",
          "3.35%",
          "2.9%",
          "2.37%",
          "1.84%"
         ],
         "textfont": {
          "size": 10
         },
         "textposition": "outside",
         "type": "bar",
         "x": [
          "Other online resources (e.g., videos, blogs, forum)",
          "Books / Physical media",
          "School (i.e., University, College, etc)",
          "Online Courses or Certification",
          "On the job training",
          "Colleague",
          "Friend or family member",
          "Coding Bootcamp",
          "Hackathons (virtual or in-person)",
          "Other (please specify):"
         ],
         "xaxis": "x",
         "y": [
          70244,
          45406,
          43957,
          43201,
          40380,
          20523,
          9936,
          8602,
          7033,
          5451
         ],
         "yaxis": "y"
        }
       ],
       "layout": {
        "barmode": "relative",
        "height": 700,
        "legend": {
         "tracegroupgap": 0
        },
        "plot_bgcolor": "white",
        "template": {
         "data": {
          "bar": [
           {
            "error_x": {
             "color": "#2a3f5f"
            },
            "error_y": {
             "color": "#2a3f5f"
            },
            "marker": {
             "line": {
              "color": "#E5ECF6",
              "width": 0.5
             },
             "pattern": {
              "fillmode": "overlay",
              "size": 10,
              "solidity": 0.2
             }
            },
            "type": "bar"
           }
          ],
          "barpolar": [
           {
            "marker": {
             "line": {
              "color": "#E5ECF6",
              "width": 0.5
             },
             "pattern": {
              "fillmode": "overlay",
              "size": 10,
              "solidity": 0.2
             }
            },
            "type": "barpolar"
           }
          ],
          "carpet": [
           {
            "aaxis": {
             "endlinecolor": "#2a3f5f",
             "gridcolor": "white",
             "linecolor": "white",
             "minorgridcolor": "white",
             "startlinecolor": "#2a3f5f"
            },
            "baxis": {
             "endlinecolor": "#2a3f5f",
             "gridcolor": "white",
             "linecolor": "white",
             "minorgridcolor": "white",
             "startlinecolor": "#2a3f5f"
            },
            "type": "carpet"
           }
          ],
          "choropleth": [
           {
            "colorbar": {
             "outlinewidth": 0,
             "ticks": ""
            },
            "type": "choropleth"
           }
          ],
          "contour": [
           {
            "colorbar": {
             "outlinewidth": 0,
             "ticks": ""
            },
            "colorscale": [
             [
              0,
              "#0d0887"
             ],
             [
              0.1111111111111111,
              "#46039f"
             ],
             [
              0.2222222222222222,
              "#7201a8"
             ],
             [
              0.3333333333333333,
              "#9c179e"
             ],
             [
              0.4444444444444444,
              "#bd3786"
             ],
             [
              0.5555555555555556,
              "#d8576b"
             ],
             [
              0.6666666666666666,
              "#ed7953"
             ],
             [
              0.7777777777777778,
              "#fb9f3a"
             ],
             [
              0.8888888888888888,
              "#fdca26"
             ],
             [
              1,
              "#f0f921"
             ]
            ],
            "type": "contour"
           }
          ],
          "contourcarpet": [
           {
            "colorbar": {
             "outlinewidth": 0,
             "ticks": ""
            },
            "type": "contourcarpet"
           }
          ],
          "heatmap": [
           {
            "colorbar": {
             "outlinewidth": 0,
             "ticks": ""
            },
            "colorscale": [
             [
              0,
              "#0d0887"
             ],
             [
              0.1111111111111111,
              "#46039f"
             ],
             [
              0.2222222222222222,
              "#7201a8"
             ],
             [
              0.3333333333333333,
              "#9c179e"
             ],
             [
              0.4444444444444444,
              "#bd3786"
             ],
             [
              0.5555555555555556,
              "#d8576b"
             ],
             [
              0.6666666666666666,
              "#ed7953"
             ],
             [
              0.7777777777777778,
              "#fb9f3a"
             ],
             [
              0.8888888888888888,
              "#fdca26"
             ],
             [
              1,
              "#f0f921"
             ]
            ],
            "type": "heatmap"
           }
          ],
          "heatmapgl": [
           {
            "colorbar": {
             "outlinewidth": 0,
             "ticks": ""
            },
            "colorscale": [
             [
              0,
              "#0d0887"
             ],
             [
              0.1111111111111111,
              "#46039f"
             ],
             [
              0.2222222222222222,
              "#7201a8"
             ],
             [
              0.3333333333333333,
              "#9c179e"
             ],
             [
              0.4444444444444444,
              "#bd3786"
             ],
             [
              0.5555555555555556,
              "#d8576b"
             ],
             [
              0.6666666666666666,
              "#ed7953"
             ],
             [
              0.7777777777777778,
              "#fb9f3a"
             ],
             [
              0.8888888888888888,
              "#fdca26"
             ],
             [
              1,
              "#f0f921"
             ]
            ],
            "type": "heatmapgl"
           }
          ],
          "histogram": [
           {
            "marker": {
             "pattern": {
              "fillmode": "overlay",
              "size": 10,
              "solidity": 0.2
             }
            },
            "type": "histogram"
           }
          ],
          "histogram2d": [
           {
            "colorbar": {
             "outlinewidth": 0,
             "ticks": ""
            },
            "colorscale": [
             [
              0,
              "#0d0887"
             ],
             [
              0.1111111111111111,
              "#46039f"
             ],
             [
              0.2222222222222222,
              "#7201a8"
             ],
             [
              0.3333333333333333,
              "#9c179e"
             ],
             [
              0.4444444444444444,
              "#bd3786"
             ],
             [
              0.5555555555555556,
              "#d8576b"
             ],
             [
              0.6666666666666666,
              "#ed7953"
             ],
             [
              0.7777777777777778,
              "#fb9f3a"
             ],
             [
              0.8888888888888888,
              "#fdca26"
             ],
             [
              1,
              "#f0f921"
             ]
            ],
            "type": "histogram2d"
           }
          ],
          "histogram2dcontour": [
           {
            "colorbar": {
             "outlinewidth": 0,
             "ticks": ""
            },
            "colorscale": [
             [
              0,
              "#0d0887"
             ],
             [
              0.1111111111111111,
              "#46039f"
             ],
             [
              0.2222222222222222,
              "#7201a8"
             ],
             [
              0.3333333333333333,
              "#9c179e"
             ],
             [
              0.4444444444444444,
              "#bd3786"
             ],
             [
              0.5555555555555556,
              "#d8576b"
             ],
             [
              0.6666666666666666,
              "#ed7953"
             ],
             [
              0.7777777777777778,
              "#fb9f3a"
             ],
             [
              0.8888888888888888,
              "#fdca26"
             ],
             [
              1,
              "#f0f921"
             ]
            ],
            "type": "histogram2dcontour"
           }
          ],
          "mesh3d": [
           {
            "colorbar": {
             "outlinewidth": 0,
             "ticks": ""
            },
            "type": "mesh3d"
           }
          ],
          "parcoords": [
           {
            "line": {
             "colorbar": {
              "outlinewidth": 0,
              "ticks": ""
             }
            },
            "type": "parcoords"
           }
          ],
          "pie": [
           {
            "automargin": true,
            "type": "pie"
           }
          ],
          "scatter": [
           {
            "fillpattern": {
             "fillmode": "overlay",
             "size": 10,
             "solidity": 0.2
            },
            "type": "scatter"
           }
          ],
          "scatter3d": [
           {
            "line": {
             "colorbar": {
              "outlinewidth": 0,
              "ticks": ""
             }
            },
            "marker": {
             "colorbar": {
              "outlinewidth": 0,
              "ticks": ""
             }
            },
            "type": "scatter3d"
           }
          ],
          "scattercarpet": [
           {
            "marker": {
             "colorbar": {
              "outlinewidth": 0,
              "ticks": ""
             }
            },
            "type": "scattercarpet"
           }
          ],
          "scattergeo": [
           {
            "marker": {
             "colorbar": {
              "outlinewidth": 0,
              "ticks": ""
             }
            },
            "type": "scattergeo"
           }
          ],
          "scattergl": [
           {
            "marker": {
             "colorbar": {
              "outlinewidth": 0,
              "ticks": ""
             }
            },
            "type": "scattergl"
           }
          ],
          "scattermapbox": [
           {
            "marker": {
             "colorbar": {
              "outlinewidth": 0,
              "ticks": ""
             }
            },
            "type": "scattermapbox"
           }
          ],
          "scatterpolar": [
           {
            "marker": {
             "colorbar": {
              "outlinewidth": 0,
              "ticks": ""
             }
            },
            "type": "scatterpolar"
           }
          ],
          "scatterpolargl": [
           {
            "marker": {
             "colorbar": {
              "outlinewidth": 0,
              "ticks": ""
             }
            },
            "type": "scatterpolargl"
           }
          ],
          "scatterternary": [
           {
            "marker": {
             "colorbar": {
              "outlinewidth": 0,
              "ticks": ""
             }
            },
            "type": "scatterternary"
           }
          ],
          "surface": [
           {
            "colorbar": {
             "outlinewidth": 0,
             "ticks": ""
            },
            "colorscale": [
             [
              0,
              "#0d0887"
             ],
             [
              0.1111111111111111,
              "#46039f"
             ],
             [
              0.2222222222222222,
              "#7201a8"
             ],
             [
              0.3333333333333333,
              "#9c179e"
             ],
             [
              0.4444444444444444,
              "#bd3786"
             ],
             [
              0.5555555555555556,
              "#d8576b"
             ],
             [
              0.6666666666666666,
              "#ed7953"
             ],
             [
              0.7777777777777778,
              "#fb9f3a"
             ],
             [
              0.8888888888888888,
              "#fdca26"
             ],
             [
              1,
              "#f0f921"
             ]
            ],
            "type": "surface"
           }
          ],
          "table": [
           {
            "cells": {
             "fill": {
              "color": "#EBF0F8"
             },
             "line": {
              "color": "white"
             }
            },
            "header": {
             "fill": {
              "color": "#C8D4E3"
             },
             "line": {
              "color": "white"
             }
            },
            "type": "table"
           }
          ]
         },
         "layout": {
          "annotationdefaults": {
           "arrowcolor": "#2a3f5f",
           "arrowhead": 0,
           "arrowwidth": 1
          },
          "autotypenumbers": "strict",
          "coloraxis": {
           "colorbar": {
            "outlinewidth": 0,
            "ticks": ""
           }
          },
          "colorscale": {
           "diverging": [
            [
             0,
             "#8e0152"
            ],
            [
             0.1,
             "#c51b7d"
            ],
            [
             0.2,
             "#de77ae"
            ],
            [
             0.3,
             "#f1b6da"
            ],
            [
             0.4,
             "#fde0ef"
            ],
            [
             0.5,
             "#f7f7f7"
            ],
            [
             0.6,
             "#e6f5d0"
            ],
            [
             0.7,
             "#b8e186"
            ],
            [
             0.8,
             "#7fbc41"
            ],
            [
             0.9,
             "#4d9221"
            ],
            [
             1,
             "#276419"
            ]
           ],
           "sequential": [
            [
             0,
             "#0d0887"
            ],
            [
             0.1111111111111111,
             "#46039f"
            ],
            [
             0.2222222222222222,
             "#7201a8"
            ],
            [
             0.3333333333333333,
             "#9c179e"
            ],
            [
             0.4444444444444444,
             "#bd3786"
            ],
            [
             0.5555555555555556,
             "#d8576b"
            ],
            [
             0.6666666666666666,
             "#ed7953"
            ],
            [
             0.7777777777777778,
             "#fb9f3a"
            ],
            [
             0.8888888888888888,
             "#fdca26"
            ],
            [
             1,
             "#f0f921"
            ]
           ],
           "sequentialminus": [
            [
             0,
             "#0d0887"
            ],
            [
             0.1111111111111111,
             "#46039f"
            ],
            [
             0.2222222222222222,
             "#7201a8"
            ],
            [
             0.3333333333333333,
             "#9c179e"
            ],
            [
             0.4444444444444444,
             "#bd3786"
            ],
            [
             0.5555555555555556,
             "#d8576b"
            ],
            [
             0.6666666666666666,
             "#ed7953"
            ],
            [
             0.7777777777777778,
             "#fb9f3a"
            ],
            [
             0.8888888888888888,
             "#fdca26"
            ],
            [
             1,
             "#f0f921"
            ]
           ]
          },
          "colorway": [
           "#636efa",
           "#EF553B",
           "#00cc96",
           "#ab63fa",
           "#FFA15A",
           "#19d3f3",
           "#FF6692",
           "#B6E880",
           "#FF97FF",
           "#FECB52"
          ],
          "font": {
           "color": "#2a3f5f"
          },
          "geo": {
           "bgcolor": "white",
           "lakecolor": "white",
           "landcolor": "#E5ECF6",
           "showlakes": true,
           "showland": true,
           "subunitcolor": "white"
          },
          "hoverlabel": {
           "align": "left"
          },
          "hovermode": "closest",
          "mapbox": {
           "style": "light"
          },
          "paper_bgcolor": "white",
          "plot_bgcolor": "#E5ECF6",
          "polar": {
           "angularaxis": {
            "gridcolor": "white",
            "linecolor": "white",
            "ticks": ""
           },
           "bgcolor": "#E5ECF6",
           "radialaxis": {
            "gridcolor": "white",
            "linecolor": "white",
            "ticks": ""
           }
          },
          "scene": {
           "xaxis": {
            "backgroundcolor": "#E5ECF6",
            "gridcolor": "white",
            "gridwidth": 2,
            "linecolor": "white",
            "showbackground": true,
            "ticks": "",
            "zerolinecolor": "white"
           },
           "yaxis": {
            "backgroundcolor": "#E5ECF6",
            "gridcolor": "white",
            "gridwidth": 2,
            "linecolor": "white",
            "showbackground": true,
            "ticks": "",
            "zerolinecolor": "white"
           },
           "zaxis": {
            "backgroundcolor": "#E5ECF6",
            "gridcolor": "white",
            "gridwidth": 2,
            "linecolor": "white",
            "showbackground": true,
            "ticks": "",
            "zerolinecolor": "white"
           }
          },
          "shapedefaults": {
           "line": {
            "color": "#2a3f5f"
           }
          },
          "ternary": {
           "aaxis": {
            "gridcolor": "white",
            "linecolor": "white",
            "ticks": ""
           },
           "baxis": {
            "gridcolor": "white",
            "linecolor": "white",
            "ticks": ""
           },
           "bgcolor": "#E5ECF6",
           "caxis": {
            "gridcolor": "white",
            "linecolor": "white",
            "ticks": ""
           }
          },
          "title": {
           "x": 0.05
          },
          "xaxis": {
           "automargin": true,
           "gridcolor": "white",
           "linecolor": "white",
           "ticks": "",
           "title": {
            "standoff": 15
           },
           "zerolinecolor": "white",
           "zerolinewidth": 2
          },
          "yaxis": {
           "automargin": true,
           "gridcolor": "white",
           "linecolor": "white",
           "ticks": "",
           "title": {
            "standoff": 15
           },
           "zerolinecolor": "white",
           "zerolinewidth": 2
          }
         }
        },
        "title": {
         "text": "Bar Graph: Distribution of LearnCode",
         "x": 0.5
        },
        "width": 800,
        "xaxis": {
         "anchor": "y",
         "domain": [
          0,
          1
         ],
         "tickangle": -45,
         "title": {
          "text": "LearnCode"
         }
        },
        "yaxis": {
         "anchor": "x",
         "domain": [
          0,
          1
         ],
         "title": {
          "text": "Count"
         }
        }
       }
      }
     },
     "metadata": {},
     "output_type": "display_data"
    }
   ],
   "source": [
    "plot_split_column(df, 'LearnCode', 800, 700)"
   ]
  },
  {
   "cell_type": "markdown",
   "metadata": {},
   "source": [
    "The most common ways to learn coding are **online resources** like **videos, blogs, or forums**. Other common ways are **books/physical media, school, and online courses**."
   ]
  },
  {
   "cell_type": "code",
   "execution_count": 67,
   "metadata": {},
   "outputs": [
    {
     "data": {
      "application/vnd.plotly.v1+json": {
       "config": {
        "plotlyServerURL": "https://plot.ly"
       },
       "data": [
        {
         "alignmentgroup": "True",
         "hovertemplate": "YearsCodePro=%{x}<br>Count=%{y}<br>text=%{text}<extra></extra>",
         "legendgroup": "",
         "marker": {
          "color": "royalblue",
          "line": {
           "color": "black",
           "width": 1.5
          },
          "pattern": {
           "shape": ""
          }
         },
         "name": "",
         "offsetgroup": "",
         "opacity": 0.8,
         "orientation": "v",
         "showlegend": false,
         "text": [
          "5.37%",
          "5.15%",
          "5.01%",
          "4.91%",
          "4.45%",
          "4.08%",
          "3.93%",
          "3.88%",
          "3.13%",
          "2.91%",
          "2.69%",
          "2.5%",
          "2.41%",
          "2.26%",
          "2.06%"
         ],
         "textfont": {
          "size": 10
         },
         "textposition": "outside",
         "type": "bar",
         "x": [
          "5",
          "10",
          "2",
          "3",
          "4",
          "6",
          "7",
          "8",
          "15",
          "1",
          "12",
          "20",
          "9",
          "11",
          "Less than 1 year"
         ],
         "xaxis": "x",
         "y": [
          4792,
          4594,
          4464,
          4378,
          3970,
          3637,
          3509,
          3462,
          2789,
          2596,
          2398,
          2227,
          2145,
          2013,
          1836
         ],
         "yaxis": "y"
        }
       ],
       "layout": {
        "barmode": "relative",
        "height": 800,
        "legend": {
         "tracegroupgap": 0
        },
        "plot_bgcolor": "white",
        "template": {
         "data": {
          "bar": [
           {
            "error_x": {
             "color": "#2a3f5f"
            },
            "error_y": {
             "color": "#2a3f5f"
            },
            "marker": {
             "line": {
              "color": "#E5ECF6",
              "width": 0.5
             },
             "pattern": {
              "fillmode": "overlay",
              "size": 10,
              "solidity": 0.2
             }
            },
            "type": "bar"
           }
          ],
          "barpolar": [
           {
            "marker": {
             "line": {
              "color": "#E5ECF6",
              "width": 0.5
             },
             "pattern": {
              "fillmode": "overlay",
              "size": 10,
              "solidity": 0.2
             }
            },
            "type": "barpolar"
           }
          ],
          "carpet": [
           {
            "aaxis": {
             "endlinecolor": "#2a3f5f",
             "gridcolor": "white",
             "linecolor": "white",
             "minorgridcolor": "white",
             "startlinecolor": "#2a3f5f"
            },
            "baxis": {
             "endlinecolor": "#2a3f5f",
             "gridcolor": "white",
             "linecolor": "white",
             "minorgridcolor": "white",
             "startlinecolor": "#2a3f5f"
            },
            "type": "carpet"
           }
          ],
          "choropleth": [
           {
            "colorbar": {
             "outlinewidth": 0,
             "ticks": ""
            },
            "type": "choropleth"
           }
          ],
          "contour": [
           {
            "colorbar": {
             "outlinewidth": 0,
             "ticks": ""
            },
            "colorscale": [
             [
              0,
              "#0d0887"
             ],
             [
              0.1111111111111111,
              "#46039f"
             ],
             [
              0.2222222222222222,
              "#7201a8"
             ],
             [
              0.3333333333333333,
              "#9c179e"
             ],
             [
              0.4444444444444444,
              "#bd3786"
             ],
             [
              0.5555555555555556,
              "#d8576b"
             ],
             [
              0.6666666666666666,
              "#ed7953"
             ],
             [
              0.7777777777777778,
              "#fb9f3a"
             ],
             [
              0.8888888888888888,
              "#fdca26"
             ],
             [
              1,
              "#f0f921"
             ]
            ],
            "type": "contour"
           }
          ],
          "contourcarpet": [
           {
            "colorbar": {
             "outlinewidth": 0,
             "ticks": ""
            },
            "type": "contourcarpet"
           }
          ],
          "heatmap": [
           {
            "colorbar": {
             "outlinewidth": 0,
             "ticks": ""
            },
            "colorscale": [
             [
              0,
              "#0d0887"
             ],
             [
              0.1111111111111111,
              "#46039f"
             ],
             [
              0.2222222222222222,
              "#7201a8"
             ],
             [
              0.3333333333333333,
              "#9c179e"
             ],
             [
              0.4444444444444444,
              "#bd3786"
             ],
             [
              0.5555555555555556,
              "#d8576b"
             ],
             [
              0.6666666666666666,
              "#ed7953"
             ],
             [
              0.7777777777777778,
              "#fb9f3a"
             ],
             [
              0.8888888888888888,
              "#fdca26"
             ],
             [
              1,
              "#f0f921"
             ]
            ],
            "type": "heatmap"
           }
          ],
          "heatmapgl": [
           {
            "colorbar": {
             "outlinewidth": 0,
             "ticks": ""
            },
            "colorscale": [
             [
              0,
              "#0d0887"
             ],
             [
              0.1111111111111111,
              "#46039f"
             ],
             [
              0.2222222222222222,
              "#7201a8"
             ],
             [
              0.3333333333333333,
              "#9c179e"
             ],
             [
              0.4444444444444444,
              "#bd3786"
             ],
             [
              0.5555555555555556,
              "#d8576b"
             ],
             [
              0.6666666666666666,
              "#ed7953"
             ],
             [
              0.7777777777777778,
              "#fb9f3a"
             ],
             [
              0.8888888888888888,
              "#fdca26"
             ],
             [
              1,
              "#f0f921"
             ]
            ],
            "type": "heatmapgl"
           }
          ],
          "histogram": [
           {
            "marker": {
             "pattern": {
              "fillmode": "overlay",
              "size": 10,
              "solidity": 0.2
             }
            },
            "type": "histogram"
           }
          ],
          "histogram2d": [
           {
            "colorbar": {
             "outlinewidth": 0,
             "ticks": ""
            },
            "colorscale": [
             [
              0,
              "#0d0887"
             ],
             [
              0.1111111111111111,
              "#46039f"
             ],
             [
              0.2222222222222222,
              "#7201a8"
             ],
             [
              0.3333333333333333,
              "#9c179e"
             ],
             [
              0.4444444444444444,
              "#bd3786"
             ],
             [
              0.5555555555555556,
              "#d8576b"
             ],
             [
              0.6666666666666666,
              "#ed7953"
             ],
             [
              0.7777777777777778,
              "#fb9f3a"
             ],
             [
              0.8888888888888888,
              "#fdca26"
             ],
             [
              1,
              "#f0f921"
             ]
            ],
            "type": "histogram2d"
           }
          ],
          "histogram2dcontour": [
           {
            "colorbar": {
             "outlinewidth": 0,
             "ticks": ""
            },
            "colorscale": [
             [
              0,
              "#0d0887"
             ],
             [
              0.1111111111111111,
              "#46039f"
             ],
             [
              0.2222222222222222,
              "#7201a8"
             ],
             [
              0.3333333333333333,
              "#9c179e"
             ],
             [
              0.4444444444444444,
              "#bd3786"
             ],
             [
              0.5555555555555556,
              "#d8576b"
             ],
             [
              0.6666666666666666,
              "#ed7953"
             ],
             [
              0.7777777777777778,
              "#fb9f3a"
             ],
             [
              0.8888888888888888,
              "#fdca26"
             ],
             [
              1,
              "#f0f921"
             ]
            ],
            "type": "histogram2dcontour"
           }
          ],
          "mesh3d": [
           {
            "colorbar": {
             "outlinewidth": 0,
             "ticks": ""
            },
            "type": "mesh3d"
           }
          ],
          "parcoords": [
           {
            "line": {
             "colorbar": {
              "outlinewidth": 0,
              "ticks": ""
             }
            },
            "type": "parcoords"
           }
          ],
          "pie": [
           {
            "automargin": true,
            "type": "pie"
           }
          ],
          "scatter": [
           {
            "fillpattern": {
             "fillmode": "overlay",
             "size": 10,
             "solidity": 0.2
            },
            "type": "scatter"
           }
          ],
          "scatter3d": [
           {
            "line": {
             "colorbar": {
              "outlinewidth": 0,
              "ticks": ""
             }
            },
            "marker": {
             "colorbar": {
              "outlinewidth": 0,
              "ticks": ""
             }
            },
            "type": "scatter3d"
           }
          ],
          "scattercarpet": [
           {
            "marker": {
             "colorbar": {
              "outlinewidth": 0,
              "ticks": ""
             }
            },
            "type": "scattercarpet"
           }
          ],
          "scattergeo": [
           {
            "marker": {
             "colorbar": {
              "outlinewidth": 0,
              "ticks": ""
             }
            },
            "type": "scattergeo"
           }
          ],
          "scattergl": [
           {
            "marker": {
             "colorbar": {
              "outlinewidth": 0,
              "ticks": ""
             }
            },
            "type": "scattergl"
           }
          ],
          "scattermapbox": [
           {
            "marker": {
             "colorbar": {
              "outlinewidth": 0,
              "ticks": ""
             }
            },
            "type": "scattermapbox"
           }
          ],
          "scatterpolar": [
           {
            "marker": {
             "colorbar": {
              "outlinewidth": 0,
              "ticks": ""
             }
            },
            "type": "scatterpolar"
           }
          ],
          "scatterpolargl": [
           {
            "marker": {
             "colorbar": {
              "outlinewidth": 0,
              "ticks": ""
             }
            },
            "type": "scatterpolargl"
           }
          ],
          "scatterternary": [
           {
            "marker": {
             "colorbar": {
              "outlinewidth": 0,
              "ticks": ""
             }
            },
            "type": "scatterternary"
           }
          ],
          "surface": [
           {
            "colorbar": {
             "outlinewidth": 0,
             "ticks": ""
            },
            "colorscale": [
             [
              0,
              "#0d0887"
             ],
             [
              0.1111111111111111,
              "#46039f"
             ],
             [
              0.2222222222222222,
              "#7201a8"
             ],
             [
              0.3333333333333333,
              "#9c179e"
             ],
             [
              0.4444444444444444,
              "#bd3786"
             ],
             [
              0.5555555555555556,
              "#d8576b"
             ],
             [
              0.6666666666666666,
              "#ed7953"
             ],
             [
              0.7777777777777778,
              "#fb9f3a"
             ],
             [
              0.8888888888888888,
              "#fdca26"
             ],
             [
              1,
              "#f0f921"
             ]
            ],
            "type": "surface"
           }
          ],
          "table": [
           {
            "cells": {
             "fill": {
              "color": "#EBF0F8"
             },
             "line": {
              "color": "white"
             }
            },
            "header": {
             "fill": {
              "color": "#C8D4E3"
             },
             "line": {
              "color": "white"
             }
            },
            "type": "table"
           }
          ]
         },
         "layout": {
          "annotationdefaults": {
           "arrowcolor": "#2a3f5f",
           "arrowhead": 0,
           "arrowwidth": 1
          },
          "autotypenumbers": "strict",
          "coloraxis": {
           "colorbar": {
            "outlinewidth": 0,
            "ticks": ""
           }
          },
          "colorscale": {
           "diverging": [
            [
             0,
             "#8e0152"
            ],
            [
             0.1,
             "#c51b7d"
            ],
            [
             0.2,
             "#de77ae"
            ],
            [
             0.3,
             "#f1b6da"
            ],
            [
             0.4,
             "#fde0ef"
            ],
            [
             0.5,
             "#f7f7f7"
            ],
            [
             0.6,
             "#e6f5d0"
            ],
            [
             0.7,
             "#b8e186"
            ],
            [
             0.8,
             "#7fbc41"
            ],
            [
             0.9,
             "#4d9221"
            ],
            [
             1,
             "#276419"
            ]
           ],
           "sequential": [
            [
             0,
             "#0d0887"
            ],
            [
             0.1111111111111111,
             "#46039f"
            ],
            [
             0.2222222222222222,
             "#7201a8"
            ],
            [
             0.3333333333333333,
             "#9c179e"
            ],
            [
             0.4444444444444444,
             "#bd3786"
            ],
            [
             0.5555555555555556,
             "#d8576b"
            ],
            [
             0.6666666666666666,
             "#ed7953"
            ],
            [
             0.7777777777777778,
             "#fb9f3a"
            ],
            [
             0.8888888888888888,
             "#fdca26"
            ],
            [
             1,
             "#f0f921"
            ]
           ],
           "sequentialminus": [
            [
             0,
             "#0d0887"
            ],
            [
             0.1111111111111111,
             "#46039f"
            ],
            [
             0.2222222222222222,
             "#7201a8"
            ],
            [
             0.3333333333333333,
             "#9c179e"
            ],
            [
             0.4444444444444444,
             "#bd3786"
            ],
            [
             0.5555555555555556,
             "#d8576b"
            ],
            [
             0.6666666666666666,
             "#ed7953"
            ],
            [
             0.7777777777777778,
             "#fb9f3a"
            ],
            [
             0.8888888888888888,
             "#fdca26"
            ],
            [
             1,
             "#f0f921"
            ]
           ]
          },
          "colorway": [
           "#636efa",
           "#EF553B",
           "#00cc96",
           "#ab63fa",
           "#FFA15A",
           "#19d3f3",
           "#FF6692",
           "#B6E880",
           "#FF97FF",
           "#FECB52"
          ],
          "font": {
           "color": "#2a3f5f"
          },
          "geo": {
           "bgcolor": "white",
           "lakecolor": "white",
           "landcolor": "#E5ECF6",
           "showlakes": true,
           "showland": true,
           "subunitcolor": "white"
          },
          "hoverlabel": {
           "align": "left"
          },
          "hovermode": "closest",
          "mapbox": {
           "style": "light"
          },
          "paper_bgcolor": "white",
          "plot_bgcolor": "#E5ECF6",
          "polar": {
           "angularaxis": {
            "gridcolor": "white",
            "linecolor": "white",
            "ticks": ""
           },
           "bgcolor": "#E5ECF6",
           "radialaxis": {
            "gridcolor": "white",
            "linecolor": "white",
            "ticks": ""
           }
          },
          "scene": {
           "xaxis": {
            "backgroundcolor": "#E5ECF6",
            "gridcolor": "white",
            "gridwidth": 2,
            "linecolor": "white",
            "showbackground": true,
            "ticks": "",
            "zerolinecolor": "white"
           },
           "yaxis": {
            "backgroundcolor": "#E5ECF6",
            "gridcolor": "white",
            "gridwidth": 2,
            "linecolor": "white",
            "showbackground": true,
            "ticks": "",
            "zerolinecolor": "white"
           },
           "zaxis": {
            "backgroundcolor": "#E5ECF6",
            "gridcolor": "white",
            "gridwidth": 2,
            "linecolor": "white",
            "showbackground": true,
            "ticks": "",
            "zerolinecolor": "white"
           }
          },
          "shapedefaults": {
           "line": {
            "color": "#2a3f5f"
           }
          },
          "ternary": {
           "aaxis": {
            "gridcolor": "white",
            "linecolor": "white",
            "ticks": ""
           },
           "baxis": {
            "gridcolor": "white",
            "linecolor": "white",
            "ticks": ""
           },
           "bgcolor": "#E5ECF6",
           "caxis": {
            "gridcolor": "white",
            "linecolor": "white",
            "ticks": ""
           }
          },
          "title": {
           "x": 0.05
          },
          "xaxis": {
           "automargin": true,
           "gridcolor": "white",
           "linecolor": "white",
           "ticks": "",
           "title": {
            "standoff": 15
           },
           "zerolinecolor": "white",
           "zerolinewidth": 2
          },
          "yaxis": {
           "automargin": true,
           "gridcolor": "white",
           "linecolor": "white",
           "ticks": "",
           "title": {
            "standoff": 15
           },
           "zerolinecolor": "white",
           "zerolinewidth": 2
          }
         }
        },
        "title": {
         "text": "Bar Graph: Distribution of YearsCodePro",
         "x": 0.5
        },
        "width": 800,
        "xaxis": {
         "anchor": "y",
         "domain": [
          0,
          1
         ],
         "tickangle": -45,
         "title": {
          "text": "YearsCodePro"
         }
        },
        "yaxis": {
         "anchor": "x",
         "domain": [
          0,
          1
         ],
         "title": {
          "text": "Count"
         }
        }
       }
      }
     },
     "metadata": {},
     "output_type": "display_data"
    }
   ],
   "source": [
    "plot_column(df, 'YearsCodePro', 800, 800, 15)"
   ]
  },
  {
   "cell_type": "code",
   "execution_count": 69,
   "metadata": {},
   "outputs": [
    {
     "data": {
      "application/vnd.plotly.v1+json": {
       "config": {
        "plotlyServerURL": "https://plot.ly"
       },
       "data": [
        {
         "alignmentgroup": "True",
         "hovertemplate": "OrgSize=%{x}<br>Count=%{y}<br>text=%{text}<extra></extra>",
         "legendgroup": "",
         "marker": {
          "color": "royalblue",
          "line": {
           "color": "black",
           "width": 1.5
          },
          "pattern": {
           "shape": ""
          }
         },
         "name": "",
         "offsetgroup": "",
         "opacity": 0.8,
         "orientation": "v",
         "showlegend": false,
         "text": [
          "15.0%",
          "13.7%",
          "8.89%",
          "8.11%",
          "7.22%",
          "5.89%",
          "5.01%",
          "4.7%",
          "3.0%",
          "1.39%"
         ],
         "textfont": {
          "size": 10
         },
         "textposition": "outside",
         "type": "bar",
         "x": [
          "20 to 99 employees",
          "100 to 499 employees",
          "10,000 or more employees",
          "1,000 to 4,999 employees",
          "2 to 9 employees",
          "10 to 19 employees",
          "500 to 999 employees",
          "Just me - I am a freelancer, sole proprietor, etc.",
          "5,000 to 9,999 employees",
          "I don’t know"
         ],
         "xaxis": "x",
         "y": [
          13380,
          12218,
          7929,
          7235,
          6439,
          5254,
          4472,
          4196,
          2677,
          1243
         ],
         "yaxis": "y"
        }
       ],
       "layout": {
        "barmode": "relative",
        "height": 800,
        "legend": {
         "tracegroupgap": 0
        },
        "plot_bgcolor": "white",
        "template": {
         "data": {
          "bar": [
           {
            "error_x": {
             "color": "#2a3f5f"
            },
            "error_y": {
             "color": "#2a3f5f"
            },
            "marker": {
             "line": {
              "color": "#E5ECF6",
              "width": 0.5
             },
             "pattern": {
              "fillmode": "overlay",
              "size": 10,
              "solidity": 0.2
             }
            },
            "type": "bar"
           }
          ],
          "barpolar": [
           {
            "marker": {
             "line": {
              "color": "#E5ECF6",
              "width": 0.5
             },
             "pattern": {
              "fillmode": "overlay",
              "size": 10,
              "solidity": 0.2
             }
            },
            "type": "barpolar"
           }
          ],
          "carpet": [
           {
            "aaxis": {
             "endlinecolor": "#2a3f5f",
             "gridcolor": "white",
             "linecolor": "white",
             "minorgridcolor": "white",
             "startlinecolor": "#2a3f5f"
            },
            "baxis": {
             "endlinecolor": "#2a3f5f",
             "gridcolor": "white",
             "linecolor": "white",
             "minorgridcolor": "white",
             "startlinecolor": "#2a3f5f"
            },
            "type": "carpet"
           }
          ],
          "choropleth": [
           {
            "colorbar": {
             "outlinewidth": 0,
             "ticks": ""
            },
            "type": "choropleth"
           }
          ],
          "contour": [
           {
            "colorbar": {
             "outlinewidth": 0,
             "ticks": ""
            },
            "colorscale": [
             [
              0,
              "#0d0887"
             ],
             [
              0.1111111111111111,
              "#46039f"
             ],
             [
              0.2222222222222222,
              "#7201a8"
             ],
             [
              0.3333333333333333,
              "#9c179e"
             ],
             [
              0.4444444444444444,
              "#bd3786"
             ],
             [
              0.5555555555555556,
              "#d8576b"
             ],
             [
              0.6666666666666666,
              "#ed7953"
             ],
             [
              0.7777777777777778,
              "#fb9f3a"
             ],
             [
              0.8888888888888888,
              "#fdca26"
             ],
             [
              1,
              "#f0f921"
             ]
            ],
            "type": "contour"
           }
          ],
          "contourcarpet": [
           {
            "colorbar": {
             "outlinewidth": 0,
             "ticks": ""
            },
            "type": "contourcarpet"
           }
          ],
          "heatmap": [
           {
            "colorbar": {
             "outlinewidth": 0,
             "ticks": ""
            },
            "colorscale": [
             [
              0,
              "#0d0887"
             ],
             [
              0.1111111111111111,
              "#46039f"
             ],
             [
              0.2222222222222222,
              "#7201a8"
             ],
             [
              0.3333333333333333,
              "#9c179e"
             ],
             [
              0.4444444444444444,
              "#bd3786"
             ],
             [
              0.5555555555555556,
              "#d8576b"
             ],
             [
              0.6666666666666666,
              "#ed7953"
             ],
             [
              0.7777777777777778,
              "#fb9f3a"
             ],
             [
              0.8888888888888888,
              "#fdca26"
             ],
             [
              1,
              "#f0f921"
             ]
            ],
            "type": "heatmap"
           }
          ],
          "heatmapgl": [
           {
            "colorbar": {
             "outlinewidth": 0,
             "ticks": ""
            },
            "colorscale": [
             [
              0,
              "#0d0887"
             ],
             [
              0.1111111111111111,
              "#46039f"
             ],
             [
              0.2222222222222222,
              "#7201a8"
             ],
             [
              0.3333333333333333,
              "#9c179e"
             ],
             [
              0.4444444444444444,
              "#bd3786"
             ],
             [
              0.5555555555555556,
              "#d8576b"
             ],
             [
              0.6666666666666666,
              "#ed7953"
             ],
             [
              0.7777777777777778,
              "#fb9f3a"
             ],
             [
              0.8888888888888888,
              "#fdca26"
             ],
             [
              1,
              "#f0f921"
             ]
            ],
            "type": "heatmapgl"
           }
          ],
          "histogram": [
           {
            "marker": {
             "pattern": {
              "fillmode": "overlay",
              "size": 10,
              "solidity": 0.2
             }
            },
            "type": "histogram"
           }
          ],
          "histogram2d": [
           {
            "colorbar": {
             "outlinewidth": 0,
             "ticks": ""
            },
            "colorscale": [
             [
              0,
              "#0d0887"
             ],
             [
              0.1111111111111111,
              "#46039f"
             ],
             [
              0.2222222222222222,
              "#7201a8"
             ],
             [
              0.3333333333333333,
              "#9c179e"
             ],
             [
              0.4444444444444444,
              "#bd3786"
             ],
             [
              0.5555555555555556,
              "#d8576b"
             ],
             [
              0.6666666666666666,
              "#ed7953"
             ],
             [
              0.7777777777777778,
              "#fb9f3a"
             ],
             [
              0.8888888888888888,
              "#fdca26"
             ],
             [
              1,
              "#f0f921"
             ]
            ],
            "type": "histogram2d"
           }
          ],
          "histogram2dcontour": [
           {
            "colorbar": {
             "outlinewidth": 0,
             "ticks": ""
            },
            "colorscale": [
             [
              0,
              "#0d0887"
             ],
             [
              0.1111111111111111,
              "#46039f"
             ],
             [
              0.2222222222222222,
              "#7201a8"
             ],
             [
              0.3333333333333333,
              "#9c179e"
             ],
             [
              0.4444444444444444,
              "#bd3786"
             ],
             [
              0.5555555555555556,
              "#d8576b"
             ],
             [
              0.6666666666666666,
              "#ed7953"
             ],
             [
              0.7777777777777778,
              "#fb9f3a"
             ],
             [
              0.8888888888888888,
              "#fdca26"
             ],
             [
              1,
              "#f0f921"
             ]
            ],
            "type": "histogram2dcontour"
           }
          ],
          "mesh3d": [
           {
            "colorbar": {
             "outlinewidth": 0,
             "ticks": ""
            },
            "type": "mesh3d"
           }
          ],
          "parcoords": [
           {
            "line": {
             "colorbar": {
              "outlinewidth": 0,
              "ticks": ""
             }
            },
            "type": "parcoords"
           }
          ],
          "pie": [
           {
            "automargin": true,
            "type": "pie"
           }
          ],
          "scatter": [
           {
            "fillpattern": {
             "fillmode": "overlay",
             "size": 10,
             "solidity": 0.2
            },
            "type": "scatter"
           }
          ],
          "scatter3d": [
           {
            "line": {
             "colorbar": {
              "outlinewidth": 0,
              "ticks": ""
             }
            },
            "marker": {
             "colorbar": {
              "outlinewidth": 0,
              "ticks": ""
             }
            },
            "type": "scatter3d"
           }
          ],
          "scattercarpet": [
           {
            "marker": {
             "colorbar": {
              "outlinewidth": 0,
              "ticks": ""
             }
            },
            "type": "scattercarpet"
           }
          ],
          "scattergeo": [
           {
            "marker": {
             "colorbar": {
              "outlinewidth": 0,
              "ticks": ""
             }
            },
            "type": "scattergeo"
           }
          ],
          "scattergl": [
           {
            "marker": {
             "colorbar": {
              "outlinewidth": 0,
              "ticks": ""
             }
            },
            "type": "scattergl"
           }
          ],
          "scattermapbox": [
           {
            "marker": {
             "colorbar": {
              "outlinewidth": 0,
              "ticks": ""
             }
            },
            "type": "scattermapbox"
           }
          ],
          "scatterpolar": [
           {
            "marker": {
             "colorbar": {
              "outlinewidth": 0,
              "ticks": ""
             }
            },
            "type": "scatterpolar"
           }
          ],
          "scatterpolargl": [
           {
            "marker": {
             "colorbar": {
              "outlinewidth": 0,
              "ticks": ""
             }
            },
            "type": "scatterpolargl"
           }
          ],
          "scatterternary": [
           {
            "marker": {
             "colorbar": {
              "outlinewidth": 0,
              "ticks": ""
             }
            },
            "type": "scatterternary"
           }
          ],
          "surface": [
           {
            "colorbar": {
             "outlinewidth": 0,
             "ticks": ""
            },
            "colorscale": [
             [
              0,
              "#0d0887"
             ],
             [
              0.1111111111111111,
              "#46039f"
             ],
             [
              0.2222222222222222,
              "#7201a8"
             ],
             [
              0.3333333333333333,
              "#9c179e"
             ],
             [
              0.4444444444444444,
              "#bd3786"
             ],
             [
              0.5555555555555556,
              "#d8576b"
             ],
             [
              0.6666666666666666,
              "#ed7953"
             ],
             [
              0.7777777777777778,
              "#fb9f3a"
             ],
             [
              0.8888888888888888,
              "#fdca26"
             ],
             [
              1,
              "#f0f921"
             ]
            ],
            "type": "surface"
           }
          ],
          "table": [
           {
            "cells": {
             "fill": {
              "color": "#EBF0F8"
             },
             "line": {
              "color": "white"
             }
            },
            "header": {
             "fill": {
              "color": "#C8D4E3"
             },
             "line": {
              "color": "white"
             }
            },
            "type": "table"
           }
          ]
         },
         "layout": {
          "annotationdefaults": {
           "arrowcolor": "#2a3f5f",
           "arrowhead": 0,
           "arrowwidth": 1
          },
          "autotypenumbers": "strict",
          "coloraxis": {
           "colorbar": {
            "outlinewidth": 0,
            "ticks": ""
           }
          },
          "colorscale": {
           "diverging": [
            [
             0,
             "#8e0152"
            ],
            [
             0.1,
             "#c51b7d"
            ],
            [
             0.2,
             "#de77ae"
            ],
            [
             0.3,
             "#f1b6da"
            ],
            [
             0.4,
             "#fde0ef"
            ],
            [
             0.5,
             "#f7f7f7"
            ],
            [
             0.6,
             "#e6f5d0"
            ],
            [
             0.7,
             "#b8e186"
            ],
            [
             0.8,
             "#7fbc41"
            ],
            [
             0.9,
             "#4d9221"
            ],
            [
             1,
             "#276419"
            ]
           ],
           "sequential": [
            [
             0,
             "#0d0887"
            ],
            [
             0.1111111111111111,
             "#46039f"
            ],
            [
             0.2222222222222222,
             "#7201a8"
            ],
            [
             0.3333333333333333,
             "#9c179e"
            ],
            [
             0.4444444444444444,
             "#bd3786"
            ],
            [
             0.5555555555555556,
             "#d8576b"
            ],
            [
             0.6666666666666666,
             "#ed7953"
            ],
            [
             0.7777777777777778,
             "#fb9f3a"
            ],
            [
             0.8888888888888888,
             "#fdca26"
            ],
            [
             1,
             "#f0f921"
            ]
           ],
           "sequentialminus": [
            [
             0,
             "#0d0887"
            ],
            [
             0.1111111111111111,
             "#46039f"
            ],
            [
             0.2222222222222222,
             "#7201a8"
            ],
            [
             0.3333333333333333,
             "#9c179e"
            ],
            [
             0.4444444444444444,
             "#bd3786"
            ],
            [
             0.5555555555555556,
             "#d8576b"
            ],
            [
             0.6666666666666666,
             "#ed7953"
            ],
            [
             0.7777777777777778,
             "#fb9f3a"
            ],
            [
             0.8888888888888888,
             "#fdca26"
            ],
            [
             1,
             "#f0f921"
            ]
           ]
          },
          "colorway": [
           "#636efa",
           "#EF553B",
           "#00cc96",
           "#ab63fa",
           "#FFA15A",
           "#19d3f3",
           "#FF6692",
           "#B6E880",
           "#FF97FF",
           "#FECB52"
          ],
          "font": {
           "color": "#2a3f5f"
          },
          "geo": {
           "bgcolor": "white",
           "lakecolor": "white",
           "landcolor": "#E5ECF6",
           "showlakes": true,
           "showland": true,
           "subunitcolor": "white"
          },
          "hoverlabel": {
           "align": "left"
          },
          "hovermode": "closest",
          "mapbox": {
           "style": "light"
          },
          "paper_bgcolor": "white",
          "plot_bgcolor": "#E5ECF6",
          "polar": {
           "angularaxis": {
            "gridcolor": "white",
            "linecolor": "white",
            "ticks": ""
           },
           "bgcolor": "#E5ECF6",
           "radialaxis": {
            "gridcolor": "white",
            "linecolor": "white",
            "ticks": ""
           }
          },
          "scene": {
           "xaxis": {
            "backgroundcolor": "#E5ECF6",
            "gridcolor": "white",
            "gridwidth": 2,
            "linecolor": "white",
            "showbackground": true,
            "ticks": "",
            "zerolinecolor": "white"
           },
           "yaxis": {
            "backgroundcolor": "#E5ECF6",
            "gridcolor": "white",
            "gridwidth": 2,
            "linecolor": "white",
            "showbackground": true,
            "ticks": "",
            "zerolinecolor": "white"
           },
           "zaxis": {
            "backgroundcolor": "#E5ECF6",
            "gridcolor": "white",
            "gridwidth": 2,
            "linecolor": "white",
            "showbackground": true,
            "ticks": "",
            "zerolinecolor": "white"
           }
          },
          "shapedefaults": {
           "line": {
            "color": "#2a3f5f"
           }
          },
          "ternary": {
           "aaxis": {
            "gridcolor": "white",
            "linecolor": "white",
            "ticks": ""
           },
           "baxis": {
            "gridcolor": "white",
            "linecolor": "white",
            "ticks": ""
           },
           "bgcolor": "#E5ECF6",
           "caxis": {
            "gridcolor": "white",
            "linecolor": "white",
            "ticks": ""
           }
          },
          "title": {
           "x": 0.05
          },
          "xaxis": {
           "automargin": true,
           "gridcolor": "white",
           "linecolor": "white",
           "ticks": "",
           "title": {
            "standoff": 15
           },
           "zerolinecolor": "white",
           "zerolinewidth": 2
          },
          "yaxis": {
           "automargin": true,
           "gridcolor": "white",
           "linecolor": "white",
           "ticks": "",
           "title": {
            "standoff": 15
           },
           "zerolinecolor": "white",
           "zerolinewidth": 2
          }
         }
        },
        "title": {
         "text": "Bar Graph: Distribution of OrgSize",
         "x": 0.5
        },
        "width": 1000,
        "xaxis": {
         "anchor": "y",
         "domain": [
          0,
          1
         ],
         "tickangle": -45,
         "title": {
          "text": "OrgSize"
         }
        },
        "yaxis": {
         "anchor": "x",
         "domain": [
          0,
          1
         ],
         "title": {
          "text": "Count"
         }
        }
       }
      }
     },
     "metadata": {},
     "output_type": "display_data"
    }
   ],
   "source": [
    "plot_column(df, 'OrgSize', 1000, 800)"
   ]
  },
  {
   "cell_type": "code",
   "execution_count": 70,
   "metadata": {},
   "outputs": [
    {
     "data": {
      "text/plain": [
       "Index(['Age', 'Employment', 'RemoteWork', 'LearnCode', 'YearsCodePro',\n",
       "       'OrgSize', 'DatabaseHaveWorkedWith', 'PlatformHaveWorkedWith', 'Salary',\n",
       "       'Salary_Level'],\n",
       "      dtype='object')"
      ]
     },
     "execution_count": 70,
     "metadata": {},
     "output_type": "execute_result"
    }
   ],
   "source": [
    "df.columns"
   ]
  },
  {
   "cell_type": "code",
   "execution_count": 71,
   "metadata": {},
   "outputs": [
    {
     "data": {
      "application/vnd.plotly.v1+json": {
       "config": {
        "plotlyServerURL": "https://plot.ly"
       },
       "data": [
        {
         "alignmentgroup": "True",
         "hovertemplate": "DatabaseHaveWorkedWith=%{x}<br>Count=%{y}<br>text=%{text}<extra></extra>",
         "legendgroup": "",
         "marker": {
          "color": "royalblue",
          "line": {
           "color": "black",
           "width": 1.5
          },
          "pattern": {
           "shape": ""
          }
         },
         "name": "",
         "offsetgroup": "",
         "opacity": 0.8,
         "orientation": "v",
         "showlegend": false,
         "text": [
          "14.67%",
          "13.23%",
          "9.95%",
          "8.22%",
          "8.2%",
          "6.57%",
          "5.67%",
          "4.31%",
          "3.15%",
          "2.86%",
          "2.08%",
          "2.06%",
          "1.45%",
          "1.37%",
          "1.18%"
         ],
         "textfont": {
          "size": 10
         },
         "textposition": "outside",
         "type": "bar",
         "x": [
          "PostgreSQL",
          "MySQL",
          "SQLite",
          "MongoDB",
          "Microsoft SQL Server",
          "Redis",
          "MariaDB",
          "Elasticsearch",
          "Oracle",
          "Dynamodb",
          "Firebase Realtime Database",
          "Cloud Firestore",
          "BigQuery",
          "Microsoft Access",
          "H2"
         ],
         "xaxis": "x",
         "y": [
          34909,
          31489,
          23678,
          19556,
          19506,
          15639,
          13495,
          10263,
          7507,
          6798,
          4939,
          4901,
          3456,
          3257,
          2808
         ],
         "yaxis": "y"
        }
       ],
       "layout": {
        "barmode": "relative",
        "height": 700,
        "legend": {
         "tracegroupgap": 0
        },
        "plot_bgcolor": "white",
        "template": {
         "data": {
          "bar": [
           {
            "error_x": {
             "color": "#2a3f5f"
            },
            "error_y": {
             "color": "#2a3f5f"
            },
            "marker": {
             "line": {
              "color": "#E5ECF6",
              "width": 0.5
             },
             "pattern": {
              "fillmode": "overlay",
              "size": 10,
              "solidity": 0.2
             }
            },
            "type": "bar"
           }
          ],
          "barpolar": [
           {
            "marker": {
             "line": {
              "color": "#E5ECF6",
              "width": 0.5
             },
             "pattern": {
              "fillmode": "overlay",
              "size": 10,
              "solidity": 0.2
             }
            },
            "type": "barpolar"
           }
          ],
          "carpet": [
           {
            "aaxis": {
             "endlinecolor": "#2a3f5f",
             "gridcolor": "white",
             "linecolor": "white",
             "minorgridcolor": "white",
             "startlinecolor": "#2a3f5f"
            },
            "baxis": {
             "endlinecolor": "#2a3f5f",
             "gridcolor": "white",
             "linecolor": "white",
             "minorgridcolor": "white",
             "startlinecolor": "#2a3f5f"
            },
            "type": "carpet"
           }
          ],
          "choropleth": [
           {
            "colorbar": {
             "outlinewidth": 0,
             "ticks": ""
            },
            "type": "choropleth"
           }
          ],
          "contour": [
           {
            "colorbar": {
             "outlinewidth": 0,
             "ticks": ""
            },
            "colorscale": [
             [
              0,
              "#0d0887"
             ],
             [
              0.1111111111111111,
              "#46039f"
             ],
             [
              0.2222222222222222,
              "#7201a8"
             ],
             [
              0.3333333333333333,
              "#9c179e"
             ],
             [
              0.4444444444444444,
              "#bd3786"
             ],
             [
              0.5555555555555556,
              "#d8576b"
             ],
             [
              0.6666666666666666,
              "#ed7953"
             ],
             [
              0.7777777777777778,
              "#fb9f3a"
             ],
             [
              0.8888888888888888,
              "#fdca26"
             ],
             [
              1,
              "#f0f921"
             ]
            ],
            "type": "contour"
           }
          ],
          "contourcarpet": [
           {
            "colorbar": {
             "outlinewidth": 0,
             "ticks": ""
            },
            "type": "contourcarpet"
           }
          ],
          "heatmap": [
           {
            "colorbar": {
             "outlinewidth": 0,
             "ticks": ""
            },
            "colorscale": [
             [
              0,
              "#0d0887"
             ],
             [
              0.1111111111111111,
              "#46039f"
             ],
             [
              0.2222222222222222,
              "#7201a8"
             ],
             [
              0.3333333333333333,
              "#9c179e"
             ],
             [
              0.4444444444444444,
              "#bd3786"
             ],
             [
              0.5555555555555556,
              "#d8576b"
             ],
             [
              0.6666666666666666,
              "#ed7953"
             ],
             [
              0.7777777777777778,
              "#fb9f3a"
             ],
             [
              0.8888888888888888,
              "#fdca26"
             ],
             [
              1,
              "#f0f921"
             ]
            ],
            "type": "heatmap"
           }
          ],
          "heatmapgl": [
           {
            "colorbar": {
             "outlinewidth": 0,
             "ticks": ""
            },
            "colorscale": [
             [
              0,
              "#0d0887"
             ],
             [
              0.1111111111111111,
              "#46039f"
             ],
             [
              0.2222222222222222,
              "#7201a8"
             ],
             [
              0.3333333333333333,
              "#9c179e"
             ],
             [
              0.4444444444444444,
              "#bd3786"
             ],
             [
              0.5555555555555556,
              "#d8576b"
             ],
             [
              0.6666666666666666,
              "#ed7953"
             ],
             [
              0.7777777777777778,
              "#fb9f3a"
             ],
             [
              0.8888888888888888,
              "#fdca26"
             ],
             [
              1,
              "#f0f921"
             ]
            ],
            "type": "heatmapgl"
           }
          ],
          "histogram": [
           {
            "marker": {
             "pattern": {
              "fillmode": "overlay",
              "size": 10,
              "solidity": 0.2
             }
            },
            "type": "histogram"
           }
          ],
          "histogram2d": [
           {
            "colorbar": {
             "outlinewidth": 0,
             "ticks": ""
            },
            "colorscale": [
             [
              0,
              "#0d0887"
             ],
             [
              0.1111111111111111,
              "#46039f"
             ],
             [
              0.2222222222222222,
              "#7201a8"
             ],
             [
              0.3333333333333333,
              "#9c179e"
             ],
             [
              0.4444444444444444,
              "#bd3786"
             ],
             [
              0.5555555555555556,
              "#d8576b"
             ],
             [
              0.6666666666666666,
              "#ed7953"
             ],
             [
              0.7777777777777778,
              "#fb9f3a"
             ],
             [
              0.8888888888888888,
              "#fdca26"
             ],
             [
              1,
              "#f0f921"
             ]
            ],
            "type": "histogram2d"
           }
          ],
          "histogram2dcontour": [
           {
            "colorbar": {
             "outlinewidth": 0,
             "ticks": ""
            },
            "colorscale": [
             [
              0,
              "#0d0887"
             ],
             [
              0.1111111111111111,
              "#46039f"
             ],
             [
              0.2222222222222222,
              "#7201a8"
             ],
             [
              0.3333333333333333,
              "#9c179e"
             ],
             [
              0.4444444444444444,
              "#bd3786"
             ],
             [
              0.5555555555555556,
              "#d8576b"
             ],
             [
              0.6666666666666666,
              "#ed7953"
             ],
             [
              0.7777777777777778,
              "#fb9f3a"
             ],
             [
              0.8888888888888888,
              "#fdca26"
             ],
             [
              1,
              "#f0f921"
             ]
            ],
            "type": "histogram2dcontour"
           }
          ],
          "mesh3d": [
           {
            "colorbar": {
             "outlinewidth": 0,
             "ticks": ""
            },
            "type": "mesh3d"
           }
          ],
          "parcoords": [
           {
            "line": {
             "colorbar": {
              "outlinewidth": 0,
              "ticks": ""
             }
            },
            "type": "parcoords"
           }
          ],
          "pie": [
           {
            "automargin": true,
            "type": "pie"
           }
          ],
          "scatter": [
           {
            "fillpattern": {
             "fillmode": "overlay",
             "size": 10,
             "solidity": 0.2
            },
            "type": "scatter"
           }
          ],
          "scatter3d": [
           {
            "line": {
             "colorbar": {
              "outlinewidth": 0,
              "ticks": ""
             }
            },
            "marker": {
             "colorbar": {
              "outlinewidth": 0,
              "ticks": ""
             }
            },
            "type": "scatter3d"
           }
          ],
          "scattercarpet": [
           {
            "marker": {
             "colorbar": {
              "outlinewidth": 0,
              "ticks": ""
             }
            },
            "type": "scattercarpet"
           }
          ],
          "scattergeo": [
           {
            "marker": {
             "colorbar": {
              "outlinewidth": 0,
              "ticks": ""
             }
            },
            "type": "scattergeo"
           }
          ],
          "scattergl": [
           {
            "marker": {
             "colorbar": {
              "outlinewidth": 0,
              "ticks": ""
             }
            },
            "type": "scattergl"
           }
          ],
          "scattermapbox": [
           {
            "marker": {
             "colorbar": {
              "outlinewidth": 0,
              "ticks": ""
             }
            },
            "type": "scattermapbox"
           }
          ],
          "scatterpolar": [
           {
            "marker": {
             "colorbar": {
              "outlinewidth": 0,
              "ticks": ""
             }
            },
            "type": "scatterpolar"
           }
          ],
          "scatterpolargl": [
           {
            "marker": {
             "colorbar": {
              "outlinewidth": 0,
              "ticks": ""
             }
            },
            "type": "scatterpolargl"
           }
          ],
          "scatterternary": [
           {
            "marker": {
             "colorbar": {
              "outlinewidth": 0,
              "ticks": ""
             }
            },
            "type": "scatterternary"
           }
          ],
          "surface": [
           {
            "colorbar": {
             "outlinewidth": 0,
             "ticks": ""
            },
            "colorscale": [
             [
              0,
              "#0d0887"
             ],
             [
              0.1111111111111111,
              "#46039f"
             ],
             [
              0.2222222222222222,
              "#7201a8"
             ],
             [
              0.3333333333333333,
              "#9c179e"
             ],
             [
              0.4444444444444444,
              "#bd3786"
             ],
             [
              0.5555555555555556,
              "#d8576b"
             ],
             [
              0.6666666666666666,
              "#ed7953"
             ],
             [
              0.7777777777777778,
              "#fb9f3a"
             ],
             [
              0.8888888888888888,
              "#fdca26"
             ],
             [
              1,
              "#f0f921"
             ]
            ],
            "type": "surface"
           }
          ],
          "table": [
           {
            "cells": {
             "fill": {
              "color": "#EBF0F8"
             },
             "line": {
              "color": "white"
             }
            },
            "header": {
             "fill": {
              "color": "#C8D4E3"
             },
             "line": {
              "color": "white"
             }
            },
            "type": "table"
           }
          ]
         },
         "layout": {
          "annotationdefaults": {
           "arrowcolor": "#2a3f5f",
           "arrowhead": 0,
           "arrowwidth": 1
          },
          "autotypenumbers": "strict",
          "coloraxis": {
           "colorbar": {
            "outlinewidth": 0,
            "ticks": ""
           }
          },
          "colorscale": {
           "diverging": [
            [
             0,
             "#8e0152"
            ],
            [
             0.1,
             "#c51b7d"
            ],
            [
             0.2,
             "#de77ae"
            ],
            [
             0.3,
             "#f1b6da"
            ],
            [
             0.4,
             "#fde0ef"
            ],
            [
             0.5,
             "#f7f7f7"
            ],
            [
             0.6,
             "#e6f5d0"
            ],
            [
             0.7,
             "#b8e186"
            ],
            [
             0.8,
             "#7fbc41"
            ],
            [
             0.9,
             "#4d9221"
            ],
            [
             1,
             "#276419"
            ]
           ],
           "sequential": [
            [
             0,
             "#0d0887"
            ],
            [
             0.1111111111111111,
             "#46039f"
            ],
            [
             0.2222222222222222,
             "#7201a8"
            ],
            [
             0.3333333333333333,
             "#9c179e"
            ],
            [
             0.4444444444444444,
             "#bd3786"
            ],
            [
             0.5555555555555556,
             "#d8576b"
            ],
            [
             0.6666666666666666,
             "#ed7953"
            ],
            [
             0.7777777777777778,
             "#fb9f3a"
            ],
            [
             0.8888888888888888,
             "#fdca26"
            ],
            [
             1,
             "#f0f921"
            ]
           ],
           "sequentialminus": [
            [
             0,
             "#0d0887"
            ],
            [
             0.1111111111111111,
             "#46039f"
            ],
            [
             0.2222222222222222,
             "#7201a8"
            ],
            [
             0.3333333333333333,
             "#9c179e"
            ],
            [
             0.4444444444444444,
             "#bd3786"
            ],
            [
             0.5555555555555556,
             "#d8576b"
            ],
            [
             0.6666666666666666,
             "#ed7953"
            ],
            [
             0.7777777777777778,
             "#fb9f3a"
            ],
            [
             0.8888888888888888,
             "#fdca26"
            ],
            [
             1,
             "#f0f921"
            ]
           ]
          },
          "colorway": [
           "#636efa",
           "#EF553B",
           "#00cc96",
           "#ab63fa",
           "#FFA15A",
           "#19d3f3",
           "#FF6692",
           "#B6E880",
           "#FF97FF",
           "#FECB52"
          ],
          "font": {
           "color": "#2a3f5f"
          },
          "geo": {
           "bgcolor": "white",
           "lakecolor": "white",
           "landcolor": "#E5ECF6",
           "showlakes": true,
           "showland": true,
           "subunitcolor": "white"
          },
          "hoverlabel": {
           "align": "left"
          },
          "hovermode": "closest",
          "mapbox": {
           "style": "light"
          },
          "paper_bgcolor": "white",
          "plot_bgcolor": "#E5ECF6",
          "polar": {
           "angularaxis": {
            "gridcolor": "white",
            "linecolor": "white",
            "ticks": ""
           },
           "bgcolor": "#E5ECF6",
           "radialaxis": {
            "gridcolor": "white",
            "linecolor": "white",
            "ticks": ""
           }
          },
          "scene": {
           "xaxis": {
            "backgroundcolor": "#E5ECF6",
            "gridcolor": "white",
            "gridwidth": 2,
            "linecolor": "white",
            "showbackground": true,
            "ticks": "",
            "zerolinecolor": "white"
           },
           "yaxis": {
            "backgroundcolor": "#E5ECF6",
            "gridcolor": "white",
            "gridwidth": 2,
            "linecolor": "white",
            "showbackground": true,
            "ticks": "",
            "zerolinecolor": "white"
           },
           "zaxis": {
            "backgroundcolor": "#E5ECF6",
            "gridcolor": "white",
            "gridwidth": 2,
            "linecolor": "white",
            "showbackground": true,
            "ticks": "",
            "zerolinecolor": "white"
           }
          },
          "shapedefaults": {
           "line": {
            "color": "#2a3f5f"
           }
          },
          "ternary": {
           "aaxis": {
            "gridcolor": "white",
            "linecolor": "white",
            "ticks": ""
           },
           "baxis": {
            "gridcolor": "white",
            "linecolor": "white",
            "ticks": ""
           },
           "bgcolor": "#E5ECF6",
           "caxis": {
            "gridcolor": "white",
            "linecolor": "white",
            "ticks": ""
           }
          },
          "title": {
           "x": 0.05
          },
          "xaxis": {
           "automargin": true,
           "gridcolor": "white",
           "linecolor": "white",
           "ticks": "",
           "title": {
            "standoff": 15
           },
           "zerolinecolor": "white",
           "zerolinewidth": 2
          },
          "yaxis": {
           "automargin": true,
           "gridcolor": "white",
           "linecolor": "white",
           "ticks": "",
           "title": {
            "standoff": 15
           },
           "zerolinecolor": "white",
           "zerolinewidth": 2
          }
         }
        },
        "title": {
         "text": "Bar Graph: Distribution of DatabaseHaveWorkedWith",
         "x": 0.5
        },
        "width": 800,
        "xaxis": {
         "anchor": "y",
         "domain": [
          0,
          1
         ],
         "tickangle": -45,
         "title": {
          "text": "DatabaseHaveWorkedWith"
         }
        },
        "yaxis": {
         "anchor": "x",
         "domain": [
          0,
          1
         ],
         "title": {
          "text": "Count"
         }
        }
       }
      }
     },
     "metadata": {},
     "output_type": "display_data"
    }
   ],
   "source": [
    "plot_split_column(df, 'DatabaseHaveWorkedWith', 800, 700, 15)"
   ]
  },
  {
   "cell_type": "code",
   "execution_count": 73,
   "metadata": {},
   "outputs": [
    {
     "data": {
      "text/plain": [
       "Index(['Age', 'Employment', 'RemoteWork', 'LearnCode', 'YearsCodePro',\n",
       "       'OrgSize', 'DatabaseHaveWorkedWith', 'PlatformHaveWorkedWith', 'Salary',\n",
       "       'Salary_Level'],\n",
       "      dtype='object')"
      ]
     },
     "execution_count": 73,
     "metadata": {},
     "output_type": "execute_result"
    }
   ],
   "source": [
    "df.columns"
   ]
  },
  {
   "cell_type": "code",
   "execution_count": 74,
   "metadata": {},
   "outputs": [
    {
     "data": {
      "application/vnd.plotly.v1+json": {
       "config": {
        "plotlyServerURL": "https://plot.ly"
       },
       "data": [
        {
         "alignmentgroup": "True",
         "hovertemplate": "PlatformHaveWorkedWith=%{x}<br>Count=%{y}<br>text=%{text}<extra></extra>",
         "legendgroup": "",
         "marker": {
          "color": "royalblue",
          "line": {
           "color": "black",
           "width": 1.5
          },
          "pattern": {
           "shape": ""
          }
         },
         "name": "",
         "offsetgroup": "",
         "opacity": 0.8,
         "orientation": "v",
         "showlegend": false,
         "text": [
          "19.54%",
          "10.46%",
          "9.59%",
          "6.22%",
          "6.12%",
          "5.37%",
          "4.83%",
          "4.29%",
          "3.6%",
          "2.87%",
          "1.77%",
          "1.59%",
          "1.37%",
          "1.37%",
          "1.05%"
         ],
         "textfont": {
          "size": 10
         },
         "textposition": "outside",
         "type": "bar",
         "x": [
          "Amazon Web Services (AWS)",
          "Microsoft Azure",
          "Google Cloud",
          "Firebase",
          "Cloudflare",
          "Digital Ocean",
          "Heroku",
          "Vercel",
          "Netlify",
          "VMware",
          "Hetzner",
          "Linode, now Akamai",
          "Managed Hosting",
          "OVH",
          "Oracle Cloud Infrastructure (OCI)"
         ],
         "xaxis": "x",
         "y": [
          33818,
          18105,
          16592,
          10761,
          10599,
          9299,
          8358,
          7431,
          6228,
          4964,
          3069,
          2755,
          2379,
          2378,
          1810
         ],
         "yaxis": "y"
        }
       ],
       "layout": {
        "barmode": "relative",
        "height": 700,
        "legend": {
         "tracegroupgap": 0
        },
        "plot_bgcolor": "white",
        "template": {
         "data": {
          "bar": [
           {
            "error_x": {
             "color": "#2a3f5f"
            },
            "error_y": {
             "color": "#2a3f5f"
            },
            "marker": {
             "line": {
              "color": "#E5ECF6",
              "width": 0.5
             },
             "pattern": {
              "fillmode": "overlay",
              "size": 10,
              "solidity": 0.2
             }
            },
            "type": "bar"
           }
          ],
          "barpolar": [
           {
            "marker": {
             "line": {
              "color": "#E5ECF6",
              "width": 0.5
             },
             "pattern": {
              "fillmode": "overlay",
              "size": 10,
              "solidity": 0.2
             }
            },
            "type": "barpolar"
           }
          ],
          "carpet": [
           {
            "aaxis": {
             "endlinecolor": "#2a3f5f",
             "gridcolor": "white",
             "linecolor": "white",
             "minorgridcolor": "white",
             "startlinecolor": "#2a3f5f"
            },
            "baxis": {
             "endlinecolor": "#2a3f5f",
             "gridcolor": "white",
             "linecolor": "white",
             "minorgridcolor": "white",
             "startlinecolor": "#2a3f5f"
            },
            "type": "carpet"
           }
          ],
          "choropleth": [
           {
            "colorbar": {
             "outlinewidth": 0,
             "ticks": ""
            },
            "type": "choropleth"
           }
          ],
          "contour": [
           {
            "colorbar": {
             "outlinewidth": 0,
             "ticks": ""
            },
            "colorscale": [
             [
              0,
              "#0d0887"
             ],
             [
              0.1111111111111111,
              "#46039f"
             ],
             [
              0.2222222222222222,
              "#7201a8"
             ],
             [
              0.3333333333333333,
              "#9c179e"
             ],
             [
              0.4444444444444444,
              "#bd3786"
             ],
             [
              0.5555555555555556,
              "#d8576b"
             ],
             [
              0.6666666666666666,
              "#ed7953"
             ],
             [
              0.7777777777777778,
              "#fb9f3a"
             ],
             [
              0.8888888888888888,
              "#fdca26"
             ],
             [
              1,
              "#f0f921"
             ]
            ],
            "type": "contour"
           }
          ],
          "contourcarpet": [
           {
            "colorbar": {
             "outlinewidth": 0,
             "ticks": ""
            },
            "type": "contourcarpet"
           }
          ],
          "heatmap": [
           {
            "colorbar": {
             "outlinewidth": 0,
             "ticks": ""
            },
            "colorscale": [
             [
              0,
              "#0d0887"
             ],
             [
              0.1111111111111111,
              "#46039f"
             ],
             [
              0.2222222222222222,
              "#7201a8"
             ],
             [
              0.3333333333333333,
              "#9c179e"
             ],
             [
              0.4444444444444444,
              "#bd3786"
             ],
             [
              0.5555555555555556,
              "#d8576b"
             ],
             [
              0.6666666666666666,
              "#ed7953"
             ],
             [
              0.7777777777777778,
              "#fb9f3a"
             ],
             [
              0.8888888888888888,
              "#fdca26"
             ],
             [
              1,
              "#f0f921"
             ]
            ],
            "type": "heatmap"
           }
          ],
          "heatmapgl": [
           {
            "colorbar": {
             "outlinewidth": 0,
             "ticks": ""
            },
            "colorscale": [
             [
              0,
              "#0d0887"
             ],
             [
              0.1111111111111111,
              "#46039f"
             ],
             [
              0.2222222222222222,
              "#7201a8"
             ],
             [
              0.3333333333333333,
              "#9c179e"
             ],
             [
              0.4444444444444444,
              "#bd3786"
             ],
             [
              0.5555555555555556,
              "#d8576b"
             ],
             [
              0.6666666666666666,
              "#ed7953"
             ],
             [
              0.7777777777777778,
              "#fb9f3a"
             ],
             [
              0.8888888888888888,
              "#fdca26"
             ],
             [
              1,
              "#f0f921"
             ]
            ],
            "type": "heatmapgl"
           }
          ],
          "histogram": [
           {
            "marker": {
             "pattern": {
              "fillmode": "overlay",
              "size": 10,
              "solidity": 0.2
             }
            },
            "type": "histogram"
           }
          ],
          "histogram2d": [
           {
            "colorbar": {
             "outlinewidth": 0,
             "ticks": ""
            },
            "colorscale": [
             [
              0,
              "#0d0887"
             ],
             [
              0.1111111111111111,
              "#46039f"
             ],
             [
              0.2222222222222222,
              "#7201a8"
             ],
             [
              0.3333333333333333,
              "#9c179e"
             ],
             [
              0.4444444444444444,
              "#bd3786"
             ],
             [
              0.5555555555555556,
              "#d8576b"
             ],
             [
              0.6666666666666666,
              "#ed7953"
             ],
             [
              0.7777777777777778,
              "#fb9f3a"
             ],
             [
              0.8888888888888888,
              "#fdca26"
             ],
             [
              1,
              "#f0f921"
             ]
            ],
            "type": "histogram2d"
           }
          ],
          "histogram2dcontour": [
           {
            "colorbar": {
             "outlinewidth": 0,
             "ticks": ""
            },
            "colorscale": [
             [
              0,
              "#0d0887"
             ],
             [
              0.1111111111111111,
              "#46039f"
             ],
             [
              0.2222222222222222,
              "#7201a8"
             ],
             [
              0.3333333333333333,
              "#9c179e"
             ],
             [
              0.4444444444444444,
              "#bd3786"
             ],
             [
              0.5555555555555556,
              "#d8576b"
             ],
             [
              0.6666666666666666,
              "#ed7953"
             ],
             [
              0.7777777777777778,
              "#fb9f3a"
             ],
             [
              0.8888888888888888,
              "#fdca26"
             ],
             [
              1,
              "#f0f921"
             ]
            ],
            "type": "histogram2dcontour"
           }
          ],
          "mesh3d": [
           {
            "colorbar": {
             "outlinewidth": 0,
             "ticks": ""
            },
            "type": "mesh3d"
           }
          ],
          "parcoords": [
           {
            "line": {
             "colorbar": {
              "outlinewidth": 0,
              "ticks": ""
             }
            },
            "type": "parcoords"
           }
          ],
          "pie": [
           {
            "automargin": true,
            "type": "pie"
           }
          ],
          "scatter": [
           {
            "fillpattern": {
             "fillmode": "overlay",
             "size": 10,
             "solidity": 0.2
            },
            "type": "scatter"
           }
          ],
          "scatter3d": [
           {
            "line": {
             "colorbar": {
              "outlinewidth": 0,
              "ticks": ""
             }
            },
            "marker": {
             "colorbar": {
              "outlinewidth": 0,
              "ticks": ""
             }
            },
            "type": "scatter3d"
           }
          ],
          "scattercarpet": [
           {
            "marker": {
             "colorbar": {
              "outlinewidth": 0,
              "ticks": ""
             }
            },
            "type": "scattercarpet"
           }
          ],
          "scattergeo": [
           {
            "marker": {
             "colorbar": {
              "outlinewidth": 0,
              "ticks": ""
             }
            },
            "type": "scattergeo"
           }
          ],
          "scattergl": [
           {
            "marker": {
             "colorbar": {
              "outlinewidth": 0,
              "ticks": ""
             }
            },
            "type": "scattergl"
           }
          ],
          "scattermapbox": [
           {
            "marker": {
             "colorbar": {
              "outlinewidth": 0,
              "ticks": ""
             }
            },
            "type": "scattermapbox"
           }
          ],
          "scatterpolar": [
           {
            "marker": {
             "colorbar": {
              "outlinewidth": 0,
              "ticks": ""
             }
            },
            "type": "scatterpolar"
           }
          ],
          "scatterpolargl": [
           {
            "marker": {
             "colorbar": {
              "outlinewidth": 0,
              "ticks": ""
             }
            },
            "type": "scatterpolargl"
           }
          ],
          "scatterternary": [
           {
            "marker": {
             "colorbar": {
              "outlinewidth": 0,
              "ticks": ""
             }
            },
            "type": "scatterternary"
           }
          ],
          "surface": [
           {
            "colorbar": {
             "outlinewidth": 0,
             "ticks": ""
            },
            "colorscale": [
             [
              0,
              "#0d0887"
             ],
             [
              0.1111111111111111,
              "#46039f"
             ],
             [
              0.2222222222222222,
              "#7201a8"
             ],
             [
              0.3333333333333333,
              "#9c179e"
             ],
             [
              0.4444444444444444,
              "#bd3786"
             ],
             [
              0.5555555555555556,
              "#d8576b"
             ],
             [
              0.6666666666666666,
              "#ed7953"
             ],
             [
              0.7777777777777778,
              "#fb9f3a"
             ],
             [
              0.8888888888888888,
              "#fdca26"
             ],
             [
              1,
              "#f0f921"
             ]
            ],
            "type": "surface"
           }
          ],
          "table": [
           {
            "cells": {
             "fill": {
              "color": "#EBF0F8"
             },
             "line": {
              "color": "white"
             }
            },
            "header": {
             "fill": {
              "color": "#C8D4E3"
             },
             "line": {
              "color": "white"
             }
            },
            "type": "table"
           }
          ]
         },
         "layout": {
          "annotationdefaults": {
           "arrowcolor": "#2a3f5f",
           "arrowhead": 0,
           "arrowwidth": 1
          },
          "autotypenumbers": "strict",
          "coloraxis": {
           "colorbar": {
            "outlinewidth": 0,
            "ticks": ""
           }
          },
          "colorscale": {
           "diverging": [
            [
             0,
             "#8e0152"
            ],
            [
             0.1,
             "#c51b7d"
            ],
            [
             0.2,
             "#de77ae"
            ],
            [
             0.3,
             "#f1b6da"
            ],
            [
             0.4,
             "#fde0ef"
            ],
            [
             0.5,
             "#f7f7f7"
            ],
            [
             0.6,
             "#e6f5d0"
            ],
            [
             0.7,
             "#b8e186"
            ],
            [
             0.8,
             "#7fbc41"
            ],
            [
             0.9,
             "#4d9221"
            ],
            [
             1,
             "#276419"
            ]
           ],
           "sequential": [
            [
             0,
             "#0d0887"
            ],
            [
             0.1111111111111111,
             "#46039f"
            ],
            [
             0.2222222222222222,
             "#7201a8"
            ],
            [
             0.3333333333333333,
             "#9c179e"
            ],
            [
             0.4444444444444444,
             "#bd3786"
            ],
            [
             0.5555555555555556,
             "#d8576b"
            ],
            [
             0.6666666666666666,
             "#ed7953"
            ],
            [
             0.7777777777777778,
             "#fb9f3a"
            ],
            [
             0.8888888888888888,
             "#fdca26"
            ],
            [
             1,
             "#f0f921"
            ]
           ],
           "sequentialminus": [
            [
             0,
             "#0d0887"
            ],
            [
             0.1111111111111111,
             "#46039f"
            ],
            [
             0.2222222222222222,
             "#7201a8"
            ],
            [
             0.3333333333333333,
             "#9c179e"
            ],
            [
             0.4444444444444444,
             "#bd3786"
            ],
            [
             0.5555555555555556,
             "#d8576b"
            ],
            [
             0.6666666666666666,
             "#ed7953"
            ],
            [
             0.7777777777777778,
             "#fb9f3a"
            ],
            [
             0.8888888888888888,
             "#fdca26"
            ],
            [
             1,
             "#f0f921"
            ]
           ]
          },
          "colorway": [
           "#636efa",
           "#EF553B",
           "#00cc96",
           "#ab63fa",
           "#FFA15A",
           "#19d3f3",
           "#FF6692",
           "#B6E880",
           "#FF97FF",
           "#FECB52"
          ],
          "font": {
           "color": "#2a3f5f"
          },
          "geo": {
           "bgcolor": "white",
           "lakecolor": "white",
           "landcolor": "#E5ECF6",
           "showlakes": true,
           "showland": true,
           "subunitcolor": "white"
          },
          "hoverlabel": {
           "align": "left"
          },
          "hovermode": "closest",
          "mapbox": {
           "style": "light"
          },
          "paper_bgcolor": "white",
          "plot_bgcolor": "#E5ECF6",
          "polar": {
           "angularaxis": {
            "gridcolor": "white",
            "linecolor": "white",
            "ticks": ""
           },
           "bgcolor": "#E5ECF6",
           "radialaxis": {
            "gridcolor": "white",
            "linecolor": "white",
            "ticks": ""
           }
          },
          "scene": {
           "xaxis": {
            "backgroundcolor": "#E5ECF6",
            "gridcolor": "white",
            "gridwidth": 2,
            "linecolor": "white",
            "showbackground": true,
            "ticks": "",
            "zerolinecolor": "white"
           },
           "yaxis": {
            "backgroundcolor": "#E5ECF6",
            "gridcolor": "white",
            "gridwidth": 2,
            "linecolor": "white",
            "showbackground": true,
            "ticks": "",
            "zerolinecolor": "white"
           },
           "zaxis": {
            "backgroundcolor": "#E5ECF6",
            "gridcolor": "white",
            "gridwidth": 2,
            "linecolor": "white",
            "showbackground": true,
            "ticks": "",
            "zerolinecolor": "white"
           }
          },
          "shapedefaults": {
           "line": {
            "color": "#2a3f5f"
           }
          },
          "ternary": {
           "aaxis": {
            "gridcolor": "white",
            "linecolor": "white",
            "ticks": ""
           },
           "baxis": {
            "gridcolor": "white",
            "linecolor": "white",
            "ticks": ""
           },
           "bgcolor": "#E5ECF6",
           "caxis": {
            "gridcolor": "white",
            "linecolor": "white",
            "ticks": ""
           }
          },
          "title": {
           "x": 0.05
          },
          "xaxis": {
           "automargin": true,
           "gridcolor": "white",
           "linecolor": "white",
           "ticks": "",
           "title": {
            "standoff": 15
           },
           "zerolinecolor": "white",
           "zerolinewidth": 2
          },
          "yaxis": {
           "automargin": true,
           "gridcolor": "white",
           "linecolor": "white",
           "ticks": "",
           "title": {
            "standoff": 15
           },
           "zerolinecolor": "white",
           "zerolinewidth": 2
          }
         }
        },
        "title": {
         "text": "Bar Graph: Distribution of PlatformHaveWorkedWith",
         "x": 0.5
        },
        "width": 800,
        "xaxis": {
         "anchor": "y",
         "domain": [
          0,
          1
         ],
         "tickangle": -45,
         "title": {
          "text": "PlatformHaveWorkedWith"
         }
        },
        "yaxis": {
         "anchor": "x",
         "domain": [
          0,
          1
         ],
         "title": {
          "text": "Count"
         }
        }
       }
      }
     },
     "metadata": {},
     "output_type": "display_data"
    }
   ],
   "source": [
    "plot_split_column(df, 'PlatformHaveWorkedWith', 800, 700, 15)"
   ]
  },
  {
   "cell_type": "code",
   "execution_count": 75,
   "metadata": {},
   "outputs": [
    {
     "data": {
      "application/vnd.plotly.v1+json": {
       "config": {
        "plotlyServerURL": "https://plot.ly"
       },
       "data": [
        {
         "alignmentgroup": "True",
         "hovertemplate": "Salary_Level=%{x}<br>Count=%{y}<br>text=%{text}<extra></extra>",
         "legendgroup": "",
         "marker": {
          "color": "royalblue",
          "line": {
           "color": "black",
           "width": 1.5
          },
          "pattern": {
           "shape": ""
          }
         },
         "name": "",
         "offsetgroup": "",
         "opacity": 0.8,
         "orientation": "v",
         "showlegend": false,
         "text": [
          "8.64%",
          "8.08%",
          "6.6%",
          "5.95%",
          "5.86%",
          "4.58%",
          "4.29%",
          "3.55%",
          "2.72%",
          "2.12%",
          "1.46%"
         ],
         "textfont": {
          "size": 10
         },
         "textposition": "outside",
         "type": "bar",
         "x": [
          "40K-60K",
          "60K-80K",
          "80K-100K",
          "Under 20K",
          "20K-40K",
          "100K-120K",
          "Over 200K",
          "120K-140K",
          "140K-160K",
          "160K-180K",
          "180K-200K"
         ],
         "xaxis": "x",
         "y": [
          7703,
          7210,
          5887,
          5302,
          5222,
          4087,
          3829,
          3166,
          2422,
          1891,
          1300
         ],
         "yaxis": "y"
        }
       ],
       "layout": {
        "barmode": "relative",
        "height": 500,
        "legend": {
         "tracegroupgap": 0
        },
        "plot_bgcolor": "white",
        "template": {
         "data": {
          "bar": [
           {
            "error_x": {
             "color": "#2a3f5f"
            },
            "error_y": {
             "color": "#2a3f5f"
            },
            "marker": {
             "line": {
              "color": "#E5ECF6",
              "width": 0.5
             },
             "pattern": {
              "fillmode": "overlay",
              "size": 10,
              "solidity": 0.2
             }
            },
            "type": "bar"
           }
          ],
          "barpolar": [
           {
            "marker": {
             "line": {
              "color": "#E5ECF6",
              "width": 0.5
             },
             "pattern": {
              "fillmode": "overlay",
              "size": 10,
              "solidity": 0.2
             }
            },
            "type": "barpolar"
           }
          ],
          "carpet": [
           {
            "aaxis": {
             "endlinecolor": "#2a3f5f",
             "gridcolor": "white",
             "linecolor": "white",
             "minorgridcolor": "white",
             "startlinecolor": "#2a3f5f"
            },
            "baxis": {
             "endlinecolor": "#2a3f5f",
             "gridcolor": "white",
             "linecolor": "white",
             "minorgridcolor": "white",
             "startlinecolor": "#2a3f5f"
            },
            "type": "carpet"
           }
          ],
          "choropleth": [
           {
            "colorbar": {
             "outlinewidth": 0,
             "ticks": ""
            },
            "type": "choropleth"
           }
          ],
          "contour": [
           {
            "colorbar": {
             "outlinewidth": 0,
             "ticks": ""
            },
            "colorscale": [
             [
              0,
              "#0d0887"
             ],
             [
              0.1111111111111111,
              "#46039f"
             ],
             [
              0.2222222222222222,
              "#7201a8"
             ],
             [
              0.3333333333333333,
              "#9c179e"
             ],
             [
              0.4444444444444444,
              "#bd3786"
             ],
             [
              0.5555555555555556,
              "#d8576b"
             ],
             [
              0.6666666666666666,
              "#ed7953"
             ],
             [
              0.7777777777777778,
              "#fb9f3a"
             ],
             [
              0.8888888888888888,
              "#fdca26"
             ],
             [
              1,
              "#f0f921"
             ]
            ],
            "type": "contour"
           }
          ],
          "contourcarpet": [
           {
            "colorbar": {
             "outlinewidth": 0,
             "ticks": ""
            },
            "type": "contourcarpet"
           }
          ],
          "heatmap": [
           {
            "colorbar": {
             "outlinewidth": 0,
             "ticks": ""
            },
            "colorscale": [
             [
              0,
              "#0d0887"
             ],
             [
              0.1111111111111111,
              "#46039f"
             ],
             [
              0.2222222222222222,
              "#7201a8"
             ],
             [
              0.3333333333333333,
              "#9c179e"
             ],
             [
              0.4444444444444444,
              "#bd3786"
             ],
             [
              0.5555555555555556,
              "#d8576b"
             ],
             [
              0.6666666666666666,
              "#ed7953"
             ],
             [
              0.7777777777777778,
              "#fb9f3a"
             ],
             [
              0.8888888888888888,
              "#fdca26"
             ],
             [
              1,
              "#f0f921"
             ]
            ],
            "type": "heatmap"
           }
          ],
          "heatmapgl": [
           {
            "colorbar": {
             "outlinewidth": 0,
             "ticks": ""
            },
            "colorscale": [
             [
              0,
              "#0d0887"
             ],
             [
              0.1111111111111111,
              "#46039f"
             ],
             [
              0.2222222222222222,
              "#7201a8"
             ],
             [
              0.3333333333333333,
              "#9c179e"
             ],
             [
              0.4444444444444444,
              "#bd3786"
             ],
             [
              0.5555555555555556,
              "#d8576b"
             ],
             [
              0.6666666666666666,
              "#ed7953"
             ],
             [
              0.7777777777777778,
              "#fb9f3a"
             ],
             [
              0.8888888888888888,
              "#fdca26"
             ],
             [
              1,
              "#f0f921"
             ]
            ],
            "type": "heatmapgl"
           }
          ],
          "histogram": [
           {
            "marker": {
             "pattern": {
              "fillmode": "overlay",
              "size": 10,
              "solidity": 0.2
             }
            },
            "type": "histogram"
           }
          ],
          "histogram2d": [
           {
            "colorbar": {
             "outlinewidth": 0,
             "ticks": ""
            },
            "colorscale": [
             [
              0,
              "#0d0887"
             ],
             [
              0.1111111111111111,
              "#46039f"
             ],
             [
              0.2222222222222222,
              "#7201a8"
             ],
             [
              0.3333333333333333,
              "#9c179e"
             ],
             [
              0.4444444444444444,
              "#bd3786"
             ],
             [
              0.5555555555555556,
              "#d8576b"
             ],
             [
              0.6666666666666666,
              "#ed7953"
             ],
             [
              0.7777777777777778,
              "#fb9f3a"
             ],
             [
              0.8888888888888888,
              "#fdca26"
             ],
             [
              1,
              "#f0f921"
             ]
            ],
            "type": "histogram2d"
           }
          ],
          "histogram2dcontour": [
           {
            "colorbar": {
             "outlinewidth": 0,
             "ticks": ""
            },
            "colorscale": [
             [
              0,
              "#0d0887"
             ],
             [
              0.1111111111111111,
              "#46039f"
             ],
             [
              0.2222222222222222,
              "#7201a8"
             ],
             [
              0.3333333333333333,
              "#9c179e"
             ],
             [
              0.4444444444444444,
              "#bd3786"
             ],
             [
              0.5555555555555556,
              "#d8576b"
             ],
             [
              0.6666666666666666,
              "#ed7953"
             ],
             [
              0.7777777777777778,
              "#fb9f3a"
             ],
             [
              0.8888888888888888,
              "#fdca26"
             ],
             [
              1,
              "#f0f921"
             ]
            ],
            "type": "histogram2dcontour"
           }
          ],
          "mesh3d": [
           {
            "colorbar": {
             "outlinewidth": 0,
             "ticks": ""
            },
            "type": "mesh3d"
           }
          ],
          "parcoords": [
           {
            "line": {
             "colorbar": {
              "outlinewidth": 0,
              "ticks": ""
             }
            },
            "type": "parcoords"
           }
          ],
          "pie": [
           {
            "automargin": true,
            "type": "pie"
           }
          ],
          "scatter": [
           {
            "fillpattern": {
             "fillmode": "overlay",
             "size": 10,
             "solidity": 0.2
            },
            "type": "scatter"
           }
          ],
          "scatter3d": [
           {
            "line": {
             "colorbar": {
              "outlinewidth": 0,
              "ticks": ""
             }
            },
            "marker": {
             "colorbar": {
              "outlinewidth": 0,
              "ticks": ""
             }
            },
            "type": "scatter3d"
           }
          ],
          "scattercarpet": [
           {
            "marker": {
             "colorbar": {
              "outlinewidth": 0,
              "ticks": ""
             }
            },
            "type": "scattercarpet"
           }
          ],
          "scattergeo": [
           {
            "marker": {
             "colorbar": {
              "outlinewidth": 0,
              "ticks": ""
             }
            },
            "type": "scattergeo"
           }
          ],
          "scattergl": [
           {
            "marker": {
             "colorbar": {
              "outlinewidth": 0,
              "ticks": ""
             }
            },
            "type": "scattergl"
           }
          ],
          "scattermapbox": [
           {
            "marker": {
             "colorbar": {
              "outlinewidth": 0,
              "ticks": ""
             }
            },
            "type": "scattermapbox"
           }
          ],
          "scatterpolar": [
           {
            "marker": {
             "colorbar": {
              "outlinewidth": 0,
              "ticks": ""
             }
            },
            "type": "scatterpolar"
           }
          ],
          "scatterpolargl": [
           {
            "marker": {
             "colorbar": {
              "outlinewidth": 0,
              "ticks": ""
             }
            },
            "type": "scatterpolargl"
           }
          ],
          "scatterternary": [
           {
            "marker": {
             "colorbar": {
              "outlinewidth": 0,
              "ticks": ""
             }
            },
            "type": "scatterternary"
           }
          ],
          "surface": [
           {
            "colorbar": {
             "outlinewidth": 0,
             "ticks": ""
            },
            "colorscale": [
             [
              0,
              "#0d0887"
             ],
             [
              0.1111111111111111,
              "#46039f"
             ],
             [
              0.2222222222222222,
              "#7201a8"
             ],
             [
              0.3333333333333333,
              "#9c179e"
             ],
             [
              0.4444444444444444,
              "#bd3786"
             ],
             [
              0.5555555555555556,
              "#d8576b"
             ],
             [
              0.6666666666666666,
              "#ed7953"
             ],
             [
              0.7777777777777778,
              "#fb9f3a"
             ],
             [
              0.8888888888888888,
              "#fdca26"
             ],
             [
              1,
              "#f0f921"
             ]
            ],
            "type": "surface"
           }
          ],
          "table": [
           {
            "cells": {
             "fill": {
              "color": "#EBF0F8"
             },
             "line": {
              "color": "white"
             }
            },
            "header": {
             "fill": {
              "color": "#C8D4E3"
             },
             "line": {
              "color": "white"
             }
            },
            "type": "table"
           }
          ]
         },
         "layout": {
          "annotationdefaults": {
           "arrowcolor": "#2a3f5f",
           "arrowhead": 0,
           "arrowwidth": 1
          },
          "autotypenumbers": "strict",
          "coloraxis": {
           "colorbar": {
            "outlinewidth": 0,
            "ticks": ""
           }
          },
          "colorscale": {
           "diverging": [
            [
             0,
             "#8e0152"
            ],
            [
             0.1,
             "#c51b7d"
            ],
            [
             0.2,
             "#de77ae"
            ],
            [
             0.3,
             "#f1b6da"
            ],
            [
             0.4,
             "#fde0ef"
            ],
            [
             0.5,
             "#f7f7f7"
            ],
            [
             0.6,
             "#e6f5d0"
            ],
            [
             0.7,
             "#b8e186"
            ],
            [
             0.8,
             "#7fbc41"
            ],
            [
             0.9,
             "#4d9221"
            ],
            [
             1,
             "#276419"
            ]
           ],
           "sequential": [
            [
             0,
             "#0d0887"
            ],
            [
             0.1111111111111111,
             "#46039f"
            ],
            [
             0.2222222222222222,
             "#7201a8"
            ],
            [
             0.3333333333333333,
             "#9c179e"
            ],
            [
             0.4444444444444444,
             "#bd3786"
            ],
            [
             0.5555555555555556,
             "#d8576b"
            ],
            [
             0.6666666666666666,
             "#ed7953"
            ],
            [
             0.7777777777777778,
             "#fb9f3a"
            ],
            [
             0.8888888888888888,
             "#fdca26"
            ],
            [
             1,
             "#f0f921"
            ]
           ],
           "sequentialminus": [
            [
             0,
             "#0d0887"
            ],
            [
             0.1111111111111111,
             "#46039f"
            ],
            [
             0.2222222222222222,
             "#7201a8"
            ],
            [
             0.3333333333333333,
             "#9c179e"
            ],
            [
             0.4444444444444444,
             "#bd3786"
            ],
            [
             0.5555555555555556,
             "#d8576b"
            ],
            [
             0.6666666666666666,
             "#ed7953"
            ],
            [
             0.7777777777777778,
             "#fb9f3a"
            ],
            [
             0.8888888888888888,
             "#fdca26"
            ],
            [
             1,
             "#f0f921"
            ]
           ]
          },
          "colorway": [
           "#636efa",
           "#EF553B",
           "#00cc96",
           "#ab63fa",
           "#FFA15A",
           "#19d3f3",
           "#FF6692",
           "#B6E880",
           "#FF97FF",
           "#FECB52"
          ],
          "font": {
           "color": "#2a3f5f"
          },
          "geo": {
           "bgcolor": "white",
           "lakecolor": "white",
           "landcolor": "#E5ECF6",
           "showlakes": true,
           "showland": true,
           "subunitcolor": "white"
          },
          "hoverlabel": {
           "align": "left"
          },
          "hovermode": "closest",
          "mapbox": {
           "style": "light"
          },
          "paper_bgcolor": "white",
          "plot_bgcolor": "#E5ECF6",
          "polar": {
           "angularaxis": {
            "gridcolor": "white",
            "linecolor": "white",
            "ticks": ""
           },
           "bgcolor": "#E5ECF6",
           "radialaxis": {
            "gridcolor": "white",
            "linecolor": "white",
            "ticks": ""
           }
          },
          "scene": {
           "xaxis": {
            "backgroundcolor": "#E5ECF6",
            "gridcolor": "white",
            "gridwidth": 2,
            "linecolor": "white",
            "showbackground": true,
            "ticks": "",
            "zerolinecolor": "white"
           },
           "yaxis": {
            "backgroundcolor": "#E5ECF6",
            "gridcolor": "white",
            "gridwidth": 2,
            "linecolor": "white",
            "showbackground": true,
            "ticks": "",
            "zerolinecolor": "white"
           },
           "zaxis": {
            "backgroundcolor": "#E5ECF6",
            "gridcolor": "white",
            "gridwidth": 2,
            "linecolor": "white",
            "showbackground": true,
            "ticks": "",
            "zerolinecolor": "white"
           }
          },
          "shapedefaults": {
           "line": {
            "color": "#2a3f5f"
           }
          },
          "ternary": {
           "aaxis": {
            "gridcolor": "white",
            "linecolor": "white",
            "ticks": ""
           },
           "baxis": {
            "gridcolor": "white",
            "linecolor": "white",
            "ticks": ""
           },
           "bgcolor": "#E5ECF6",
           "caxis": {
            "gridcolor": "white",
            "linecolor": "white",
            "ticks": ""
           }
          },
          "title": {
           "x": 0.05
          },
          "xaxis": {
           "automargin": true,
           "gridcolor": "white",
           "linecolor": "white",
           "ticks": "",
           "title": {
            "standoff": 15
           },
           "zerolinecolor": "white",
           "zerolinewidth": 2
          },
          "yaxis": {
           "automargin": true,
           "gridcolor": "white",
           "linecolor": "white",
           "ticks": "",
           "title": {
            "standoff": 15
           },
           "zerolinecolor": "white",
           "zerolinewidth": 2
          }
         }
        },
        "title": {
         "text": "Bar Graph: Distribution of Salary_Level",
         "x": 0.5
        },
        "width": 800,
        "xaxis": {
         "anchor": "y",
         "domain": [
          0,
          1
         ],
         "tickangle": -45,
         "title": {
          "text": "Salary_Level"
         }
        },
        "yaxis": {
         "anchor": "x",
         "domain": [
          0,
          1
         ],
         "title": {
          "text": "Count"
         }
        }
       }
      }
     },
     "metadata": {},
     "output_type": "display_data"
    }
   ],
   "source": [
    "plot_column(df, 'Salary_Level')"
   ]
  },
  {
   "cell_type": "markdown",
   "metadata": {},
   "source": [
    "### Treemaps\n",
    "These will show how the salaries of different groups are distributed."
   ]
  },
  {
   "cell_type": "code",
   "execution_count": 76,
   "metadata": {},
   "outputs": [],
   "source": [
    "def salary_treemap(data, column, salary_bin_column='Salary_Level'):\n",
    "    \"\"\"\n",
    "    Plot a treemap visualizing salary distribution based on a given column with reversed hierarchy.\n",
    "\n",
    "    Parameters:\n",
    "    - data (pd.DataFrame): Input data.\n",
    "    - column (str): Name of the column to be plotted in the treemap.\n",
    "    - salary_bin_column (str, optional): Name of the column representing salary bins. Default is 'Salary_Level'.\n",
    "    \"\"\"\n",
    "    \n",
    "    # Group the data by the given column and salary bin column and count the occurrences\n",
    "    df_count = data.groupby([column, salary_bin_column], observed=True).size().reset_index(name='Counts')\n",
    "    \n",
    "    # Count the number of unique values in the given column\n",
    "    unique_values_count = len(df_count[column].unique())\n",
    "    \n",
    "    # Use a blue color scale\n",
    "    colormap = px.colors.sequential.Blues\n",
    "\n",
    "    # Create a color map dictionary for each unique value in the given column\n",
    "    color_map = {val: colormap[i % len(colormap)] for i, val in enumerate(sorted(df_count[column].unique()))}\n",
    "    \n",
    "    # Create the treemap plot with reversed hierarchy\n",
    "    fig = px.treemap(df_count,\n",
    "                     path=[salary_bin_column, column],  # Notice the order is switched for hierarchy\n",
    "                     values='Counts',\n",
    "                     color='Counts',\n",
    "                     title=f\"Treemap of Salary Distribution by {column}\",\n",
    "                     labels={'Counts': 'Number of Developers'},\n",
    "                     color_continuous_scale=colormap\n",
    "                    )\n",
    "\n",
    "    # Update the layout of the treemap\n",
    "    fig.update_layout(\n",
    "        title_x=0.5,  # Centering the title\n",
    "        title_font=dict(size=24),\n",
    "        margin=dict(t=60, b=20, l=20, r=20),\n",
    "        coloraxis_colorbar=dict(title='Number of Developers'),\n",
    "        treemapcolorway=colormap\n",
    "    )\n",
    "\n",
    "    # Display the treemap\n",
    "    fig.show()\n"
   ]
  },
  {
   "cell_type": "code",
   "execution_count": 77,
   "metadata": {},
   "outputs": [
    {
     "name": "stderr",
     "output_type": "stream",
     "text": [
      "C:\\Users\\ntlmp\\AppData\\Roaming\\Python\\Python310\\site-packages\\plotly\\express\\_core.py:1706: FutureWarning:\n",
      "\n",
      "The default of observed=False is deprecated and will be changed to True in a future version of pandas. Pass observed=False to retain current behavior or observed=True to adopt the future default and silence this warning.\n",
      "\n",
      "C:\\Users\\ntlmp\\AppData\\Roaming\\Python\\Python310\\site-packages\\plotly\\express\\_core.py:1706: FutureWarning:\n",
      "\n",
      "The default of observed=False is deprecated and will be changed to True in a future version of pandas. Pass observed=False to retain current behavior or observed=True to adopt the future default and silence this warning.\n",
      "\n"
     ]
    },
    {
     "data": {
      "application/vnd.plotly.v1+json": {
       "config": {
        "plotlyServerURL": "https://plot.ly"
       },
       "data": [
        {
         "branchvalues": "total",
         "customdata": [
          [
           1585
          ],
          [
           989
          ],
          [
           902
          ],
          [
           513
          ],
          [
           350
          ],
          [
           204
          ],
          [
           145
          ],
          [
           64
          ],
          [
           45
          ],
          [
           32
          ],
          [
           93
          ],
          [
           2662
          ],
          [
           2815
          ],
          [
           4185
          ],
          [
           3602
          ],
          [
           2564
          ],
          [
           1683
          ],
          [
           1295
          ],
          [
           893
          ],
          [
           652
          ],
          [
           475
          ],
          [
           1337
          ],
          [
           733
          ],
          [
           1014
          ],
          [
           1850
          ],
          [
           2148
          ],
          [
           2024
          ],
          [
           1453
          ],
          [
           1074
          ],
          [
           887
          ],
          [
           724
          ],
          [
           491
          ],
          [
           1450
          ],
          [
           217
          ],
          [
           282
          ],
          [
           558
          ],
          [
           678
          ],
          [
           663
          ],
          [
           519
          ],
          [
           420
          ],
          [
           379
          ],
          [
           302
          ],
          [
           215
          ],
          [
           633
          ],
          [
           56
          ],
          [
           88
          ],
          [
           176
          ],
          [
           218
          ],
          [
           247
          ],
          [
           190
          ],
          [
           182
          ],
          [
           164
          ],
          [
           139
          ],
          [
           73
          ],
          [
           262
          ],
          [
           14
          ],
          [
           26
          ],
          [
           22
          ],
          [
           43
          ],
          [
           39
          ],
          [
           34
          ],
          [
           45
          ],
          [
           33
          ],
          [
           27
          ],
          [
           13
          ],
          [
           43
          ],
          [
           1
          ],
          [
           2
          ],
          [
           2
          ],
          [
           6
          ],
          [
           null
          ],
          [
           3
          ],
          [
           5
          ],
          [
           2
          ],
          [
           2
          ],
          [
           1
          ],
          [
           6
          ],
          [
           34
          ],
          [
           6
          ],
          [
           8
          ],
          [
           2
          ],
          [
           null
          ],
          [
           1
          ],
          [
           null
          ],
          [
           null
          ],
          [
           null
          ],
          [
           null
          ],
          [
           5
          ],
          [
           1921.4138061109015
          ],
          [
           1918.5227882037534
          ],
          [
           2868.1320264831884
          ],
          [
           2546.542857142857
          ],
          [
           1918.680312553083
          ],
          [
           1294.8228529483729
          ],
          [
           967.4984207201516
          ],
          [
           726.6490503715937
          ],
          [
           561.9053410893707
          ],
          [
           399.58
          ],
          [
           1141.2799686602245
          ]
         ],
         "domain": {
          "x": [
           0,
           1
          ],
          "y": [
           0,
           1
          ]
         },
         "hovertemplate": "labels=%{label}<br>Counts_sum=%{value}<br>parent=%{parent}<br>id=%{id}<br>Number of Developers=%{color}<extra></extra>",
         "ids": [
          "Under 20K/18-24 years old",
          "20K-40K/18-24 years old",
          "40K-60K/18-24 years old",
          "60K-80K/18-24 years old",
          "80K-100K/18-24 years old",
          "100K-120K/18-24 years old",
          "120K-140K/18-24 years old",
          "140K-160K/18-24 years old",
          "160K-180K/18-24 years old",
          "180K-200K/18-24 years old",
          "Over 200K/18-24 years old",
          "Under 20K/25-34 years old",
          "20K-40K/25-34 years old",
          "40K-60K/25-34 years old",
          "60K-80K/25-34 years old",
          "80K-100K/25-34 years old",
          "100K-120K/25-34 years old",
          "120K-140K/25-34 years old",
          "140K-160K/25-34 years old",
          "160K-180K/25-34 years old",
          "180K-200K/25-34 years old",
          "Over 200K/25-34 years old",
          "Under 20K/35-44 years old",
          "20K-40K/35-44 years old",
          "40K-60K/35-44 years old",
          "60K-80K/35-44 years old",
          "80K-100K/35-44 years old",
          "100K-120K/35-44 years old",
          "120K-140K/35-44 years old",
          "140K-160K/35-44 years old",
          "160K-180K/35-44 years old",
          "180K-200K/35-44 years old",
          "Over 200K/35-44 years old",
          "Under 20K/45-54 years old",
          "20K-40K/45-54 years old",
          "40K-60K/45-54 years old",
          "60K-80K/45-54 years old",
          "80K-100K/45-54 years old",
          "100K-120K/45-54 years old",
          "120K-140K/45-54 years old",
          "140K-160K/45-54 years old",
          "160K-180K/45-54 years old",
          "180K-200K/45-54 years old",
          "Over 200K/45-54 years old",
          "Under 20K/55-64 years old",
          "20K-40K/55-64 years old",
          "40K-60K/55-64 years old",
          "60K-80K/55-64 years old",
          "80K-100K/55-64 years old",
          "100K-120K/55-64 years old",
          "120K-140K/55-64 years old",
          "140K-160K/55-64 years old",
          "160K-180K/55-64 years old",
          "180K-200K/55-64 years old",
          "Over 200K/55-64 years old",
          "Under 20K/65 years or older",
          "20K-40K/65 years or older",
          "40K-60K/65 years or older",
          "60K-80K/65 years or older",
          "80K-100K/65 years or older",
          "100K-120K/65 years or older",
          "120K-140K/65 years or older",
          "140K-160K/65 years or older",
          "160K-180K/65 years or older",
          "180K-200K/65 years or older",
          "Over 200K/65 years or older",
          "Under 20K/Prefer not to say",
          "20K-40K/Prefer not to say",
          "40K-60K/Prefer not to say",
          "60K-80K/Prefer not to say",
          "80K-100K/Prefer not to say",
          "100K-120K/Prefer not to say",
          "120K-140K/Prefer not to say",
          "140K-160K/Prefer not to say",
          "160K-180K/Prefer not to say",
          "180K-200K/Prefer not to say",
          "Over 200K/Prefer not to say",
          "Under 20K/Under 18 years old",
          "20K-40K/Under 18 years old",
          "40K-60K/Under 18 years old",
          "60K-80K/Under 18 years old",
          "80K-100K/Under 18 years old",
          "100K-120K/Under 18 years old",
          "120K-140K/Under 18 years old",
          "140K-160K/Under 18 years old",
          "160K-180K/Under 18 years old",
          "180K-200K/Under 18 years old",
          "Over 200K/Under 18 years old",
          "Under 20K",
          "20K-40K",
          "40K-60K",
          "60K-80K",
          "80K-100K",
          "100K-120K",
          "120K-140K",
          "140K-160K",
          "160K-180K",
          "180K-200K",
          "Over 200K"
         ],
         "labels": [
          "18-24 years old",
          "18-24 years old",
          "18-24 years old",
          "18-24 years old",
          "18-24 years old",
          "18-24 years old",
          "18-24 years old",
          "18-24 years old",
          "18-24 years old",
          "18-24 years old",
          "18-24 years old",
          "25-34 years old",
          "25-34 years old",
          "25-34 years old",
          "25-34 years old",
          "25-34 years old",
          "25-34 years old",
          "25-34 years old",
          "25-34 years old",
          "25-34 years old",
          "25-34 years old",
          "25-34 years old",
          "35-44 years old",
          "35-44 years old",
          "35-44 years old",
          "35-44 years old",
          "35-44 years old",
          "35-44 years old",
          "35-44 years old",
          "35-44 years old",
          "35-44 years old",
          "35-44 years old",
          "35-44 years old",
          "45-54 years old",
          "45-54 years old",
          "45-54 years old",
          "45-54 years old",
          "45-54 years old",
          "45-54 years old",
          "45-54 years old",
          "45-54 years old",
          "45-54 years old",
          "45-54 years old",
          "45-54 years old",
          "55-64 years old",
          "55-64 years old",
          "55-64 years old",
          "55-64 years old",
          "55-64 years old",
          "55-64 years old",
          "55-64 years old",
          "55-64 years old",
          "55-64 years old",
          "55-64 years old",
          "55-64 years old",
          "65 years or older",
          "65 years or older",
          "65 years or older",
          "65 years or older",
          "65 years or older",
          "65 years or older",
          "65 years or older",
          "65 years or older",
          "65 years or older",
          "65 years or older",
          "65 years or older",
          "Prefer not to say",
          "Prefer not to say",
          "Prefer not to say",
          "Prefer not to say",
          "Prefer not to say",
          "Prefer not to say",
          "Prefer not to say",
          "Prefer not to say",
          "Prefer not to say",
          "Prefer not to say",
          "Prefer not to say",
          "Under 18 years old",
          "Under 18 years old",
          "Under 18 years old",
          "Under 18 years old",
          "Under 18 years old",
          "Under 18 years old",
          "Under 18 years old",
          "Under 18 years old",
          "Under 18 years old",
          "Under 18 years old",
          "Under 18 years old",
          "Under 20K",
          "20K-40K",
          "40K-60K",
          "60K-80K",
          "80K-100K",
          "100K-120K",
          "120K-140K",
          "140K-160K",
          "160K-180K",
          "180K-200K",
          "Over 200K"
         ],
         "marker": {
          "coloraxis": "coloraxis",
          "colors": [
           1585,
           989,
           902,
           513,
           350,
           204,
           145,
           64,
           45,
           32,
           93,
           2662,
           2815,
           4185,
           3602,
           2564,
           1683,
           1295,
           893,
           652,
           475,
           1337,
           733,
           1014,
           1850,
           2148,
           2024,
           1453,
           1074,
           887,
           724,
           491,
           1450,
           217,
           282,
           558,
           678,
           663,
           519,
           420,
           379,
           302,
           215,
           633,
           56,
           88,
           176,
           218,
           247,
           190,
           182,
           164,
           139,
           73,
           262,
           14,
           26,
           22,
           43,
           39,
           34,
           45,
           33,
           27,
           13,
           43,
           1,
           2,
           2,
           6,
           null,
           3,
           5,
           2,
           2,
           1,
           6,
           34,
           6,
           8,
           2,
           null,
           1,
           null,
           null,
           null,
           null,
           5,
           1921.4138061109015,
           1918.5227882037534,
           2868.1320264831884,
           2546.542857142857,
           1918.680312553083,
           1294.8228529483729,
           967.4984207201516,
           726.6490503715937,
           561.9053410893707,
           399.58,
           1141.2799686602245
          ]
         },
         "name": "",
         "parents": [
          "Under 20K",
          "20K-40K",
          "40K-60K",
          "60K-80K",
          "80K-100K",
          "100K-120K",
          "120K-140K",
          "140K-160K",
          "160K-180K",
          "180K-200K",
          "Over 200K",
          "Under 20K",
          "20K-40K",
          "40K-60K",
          "60K-80K",
          "80K-100K",
          "100K-120K",
          "120K-140K",
          "140K-160K",
          "160K-180K",
          "180K-200K",
          "Over 200K",
          "Under 20K",
          "20K-40K",
          "40K-60K",
          "60K-80K",
          "80K-100K",
          "100K-120K",
          "120K-140K",
          "140K-160K",
          "160K-180K",
          "180K-200K",
          "Over 200K",
          "Under 20K",
          "20K-40K",
          "40K-60K",
          "60K-80K",
          "80K-100K",
          "100K-120K",
          "120K-140K",
          "140K-160K",
          "160K-180K",
          "180K-200K",
          "Over 200K",
          "Under 20K",
          "20K-40K",
          "40K-60K",
          "60K-80K",
          "80K-100K",
          "100K-120K",
          "120K-140K",
          "140K-160K",
          "160K-180K",
          "180K-200K",
          "Over 200K",
          "Under 20K",
          "20K-40K",
          "40K-60K",
          "60K-80K",
          "80K-100K",
          "100K-120K",
          "120K-140K",
          "140K-160K",
          "160K-180K",
          "180K-200K",
          "Over 200K",
          "Under 20K",
          "20K-40K",
          "40K-60K",
          "60K-80K",
          "80K-100K",
          "100K-120K",
          "120K-140K",
          "140K-160K",
          "160K-180K",
          "180K-200K",
          "Over 200K",
          "Under 20K",
          "20K-40K",
          "40K-60K",
          "60K-80K",
          "80K-100K",
          "100K-120K",
          "120K-140K",
          "140K-160K",
          "160K-180K",
          "180K-200K",
          "Over 200K",
          "",
          "",
          "",
          "",
          "",
          "",
          "",
          "",
          "",
          "",
          ""
         ],
         "type": "treemap",
         "values": [
          1585,
          989,
          902,
          513,
          350,
          204,
          145,
          64,
          45,
          32,
          93,
          2662,
          2815,
          4185,
          3602,
          2564,
          1683,
          1295,
          893,
          652,
          475,
          1337,
          733,
          1014,
          1850,
          2148,
          2024,
          1453,
          1074,
          887,
          724,
          491,
          1450,
          217,
          282,
          558,
          678,
          663,
          519,
          420,
          379,
          302,
          215,
          633,
          56,
          88,
          176,
          218,
          247,
          190,
          182,
          164,
          139,
          73,
          262,
          14,
          26,
          22,
          43,
          39,
          34,
          45,
          33,
          27,
          13,
          43,
          1,
          2,
          2,
          6,
          0,
          3,
          5,
          2,
          2,
          1,
          6,
          34,
          6,
          8,
          2,
          0,
          1,
          0,
          0,
          0,
          0,
          5,
          5302,
          5222,
          7703,
          7210,
          5887,
          4087,
          3166,
          2422,
          1891,
          1300,
          3829
         ]
        }
       ],
       "layout": {
        "coloraxis": {
         "colorbar": {
          "title": {
           "text": "Number of Developers"
          }
         },
         "colorscale": [
          [
           0,
           "rgb(247,251,255)"
          ],
          [
           0.125,
           "rgb(222,235,247)"
          ],
          [
           0.25,
           "rgb(198,219,239)"
          ],
          [
           0.375,
           "rgb(158,202,225)"
          ],
          [
           0.5,
           "rgb(107,174,214)"
          ],
          [
           0.625,
           "rgb(66,146,198)"
          ],
          [
           0.75,
           "rgb(33,113,181)"
          ],
          [
           0.875,
           "rgb(8,81,156)"
          ],
          [
           1,
           "rgb(8,48,107)"
          ]
         ]
        },
        "legend": {
         "tracegroupgap": 0
        },
        "margin": {
         "b": 20,
         "l": 20,
         "r": 20,
         "t": 60
        },
        "template": {
         "data": {
          "bar": [
           {
            "error_x": {
             "color": "#2a3f5f"
            },
            "error_y": {
             "color": "#2a3f5f"
            },
            "marker": {
             "line": {
              "color": "#E5ECF6",
              "width": 0.5
             },
             "pattern": {
              "fillmode": "overlay",
              "size": 10,
              "solidity": 0.2
             }
            },
            "type": "bar"
           }
          ],
          "barpolar": [
           {
            "marker": {
             "line": {
              "color": "#E5ECF6",
              "width": 0.5
             },
             "pattern": {
              "fillmode": "overlay",
              "size": 10,
              "solidity": 0.2
             }
            },
            "type": "barpolar"
           }
          ],
          "carpet": [
           {
            "aaxis": {
             "endlinecolor": "#2a3f5f",
             "gridcolor": "white",
             "linecolor": "white",
             "minorgridcolor": "white",
             "startlinecolor": "#2a3f5f"
            },
            "baxis": {
             "endlinecolor": "#2a3f5f",
             "gridcolor": "white",
             "linecolor": "white",
             "minorgridcolor": "white",
             "startlinecolor": "#2a3f5f"
            },
            "type": "carpet"
           }
          ],
          "choropleth": [
           {
            "colorbar": {
             "outlinewidth": 0,
             "ticks": ""
            },
            "type": "choropleth"
           }
          ],
          "contour": [
           {
            "colorbar": {
             "outlinewidth": 0,
             "ticks": ""
            },
            "colorscale": [
             [
              0,
              "#0d0887"
             ],
             [
              0.1111111111111111,
              "#46039f"
             ],
             [
              0.2222222222222222,
              "#7201a8"
             ],
             [
              0.3333333333333333,
              "#9c179e"
             ],
             [
              0.4444444444444444,
              "#bd3786"
             ],
             [
              0.5555555555555556,
              "#d8576b"
             ],
             [
              0.6666666666666666,
              "#ed7953"
             ],
             [
              0.7777777777777778,
              "#fb9f3a"
             ],
             [
              0.8888888888888888,
              "#fdca26"
             ],
             [
              1,
              "#f0f921"
             ]
            ],
            "type": "contour"
           }
          ],
          "contourcarpet": [
           {
            "colorbar": {
             "outlinewidth": 0,
             "ticks": ""
            },
            "type": "contourcarpet"
           }
          ],
          "heatmap": [
           {
            "colorbar": {
             "outlinewidth": 0,
             "ticks": ""
            },
            "colorscale": [
             [
              0,
              "#0d0887"
             ],
             [
              0.1111111111111111,
              "#46039f"
             ],
             [
              0.2222222222222222,
              "#7201a8"
             ],
             [
              0.3333333333333333,
              "#9c179e"
             ],
             [
              0.4444444444444444,
              "#bd3786"
             ],
             [
              0.5555555555555556,
              "#d8576b"
             ],
             [
              0.6666666666666666,
              "#ed7953"
             ],
             [
              0.7777777777777778,
              "#fb9f3a"
             ],
             [
              0.8888888888888888,
              "#fdca26"
             ],
             [
              1,
              "#f0f921"
             ]
            ],
            "type": "heatmap"
           }
          ],
          "heatmapgl": [
           {
            "colorbar": {
             "outlinewidth": 0,
             "ticks": ""
            },
            "colorscale": [
             [
              0,
              "#0d0887"
             ],
             [
              0.1111111111111111,
              "#46039f"
             ],
             [
              0.2222222222222222,
              "#7201a8"
             ],
             [
              0.3333333333333333,
              "#9c179e"
             ],
             [
              0.4444444444444444,
              "#bd3786"
             ],
             [
              0.5555555555555556,
              "#d8576b"
             ],
             [
              0.6666666666666666,
              "#ed7953"
             ],
             [
              0.7777777777777778,
              "#fb9f3a"
             ],
             [
              0.8888888888888888,
              "#fdca26"
             ],
             [
              1,
              "#f0f921"
             ]
            ],
            "type": "heatmapgl"
           }
          ],
          "histogram": [
           {
            "marker": {
             "pattern": {
              "fillmode": "overlay",
              "size": 10,
              "solidity": 0.2
             }
            },
            "type": "histogram"
           }
          ],
          "histogram2d": [
           {
            "colorbar": {
             "outlinewidth": 0,
             "ticks": ""
            },
            "colorscale": [
             [
              0,
              "#0d0887"
             ],
             [
              0.1111111111111111,
              "#46039f"
             ],
             [
              0.2222222222222222,
              "#7201a8"
             ],
             [
              0.3333333333333333,
              "#9c179e"
             ],
             [
              0.4444444444444444,
              "#bd3786"
             ],
             [
              0.5555555555555556,
              "#d8576b"
             ],
             [
              0.6666666666666666,
              "#ed7953"
             ],
             [
              0.7777777777777778,
              "#fb9f3a"
             ],
             [
              0.8888888888888888,
              "#fdca26"
             ],
             [
              1,
              "#f0f921"
             ]
            ],
            "type": "histogram2d"
           }
          ],
          "histogram2dcontour": [
           {
            "colorbar": {
             "outlinewidth": 0,
             "ticks": ""
            },
            "colorscale": [
             [
              0,
              "#0d0887"
             ],
             [
              0.1111111111111111,
              "#46039f"
             ],
             [
              0.2222222222222222,
              "#7201a8"
             ],
             [
              0.3333333333333333,
              "#9c179e"
             ],
             [
              0.4444444444444444,
              "#bd3786"
             ],
             [
              0.5555555555555556,
              "#d8576b"
             ],
             [
              0.6666666666666666,
              "#ed7953"
             ],
             [
              0.7777777777777778,
              "#fb9f3a"
             ],
             [
              0.8888888888888888,
              "#fdca26"
             ],
             [
              1,
              "#f0f921"
             ]
            ],
            "type": "histogram2dcontour"
           }
          ],
          "mesh3d": [
           {
            "colorbar": {
             "outlinewidth": 0,
             "ticks": ""
            },
            "type": "mesh3d"
           }
          ],
          "parcoords": [
           {
            "line": {
             "colorbar": {
              "outlinewidth": 0,
              "ticks": ""
             }
            },
            "type": "parcoords"
           }
          ],
          "pie": [
           {
            "automargin": true,
            "type": "pie"
           }
          ],
          "scatter": [
           {
            "fillpattern": {
             "fillmode": "overlay",
             "size": 10,
             "solidity": 0.2
            },
            "type": "scatter"
           }
          ],
          "scatter3d": [
           {
            "line": {
             "colorbar": {
              "outlinewidth": 0,
              "ticks": ""
             }
            },
            "marker": {
             "colorbar": {
              "outlinewidth": 0,
              "ticks": ""
             }
            },
            "type": "scatter3d"
           }
          ],
          "scattercarpet": [
           {
            "marker": {
             "colorbar": {
              "outlinewidth": 0,
              "ticks": ""
             }
            },
            "type": "scattercarpet"
           }
          ],
          "scattergeo": [
           {
            "marker": {
             "colorbar": {
              "outlinewidth": 0,
              "ticks": ""
             }
            },
            "type": "scattergeo"
           }
          ],
          "scattergl": [
           {
            "marker": {
             "colorbar": {
              "outlinewidth": 0,
              "ticks": ""
             }
            },
            "type": "scattergl"
           }
          ],
          "scattermapbox": [
           {
            "marker": {
             "colorbar": {
              "outlinewidth": 0,
              "ticks": ""
             }
            },
            "type": "scattermapbox"
           }
          ],
          "scatterpolar": [
           {
            "marker": {
             "colorbar": {
              "outlinewidth": 0,
              "ticks": ""
             }
            },
            "type": "scatterpolar"
           }
          ],
          "scatterpolargl": [
           {
            "marker": {
             "colorbar": {
              "outlinewidth": 0,
              "ticks": ""
             }
            },
            "type": "scatterpolargl"
           }
          ],
          "scatterternary": [
           {
            "marker": {
             "colorbar": {
              "outlinewidth": 0,
              "ticks": ""
             }
            },
            "type": "scatterternary"
           }
          ],
          "surface": [
           {
            "colorbar": {
             "outlinewidth": 0,
             "ticks": ""
            },
            "colorscale": [
             [
              0,
              "#0d0887"
             ],
             [
              0.1111111111111111,
              "#46039f"
             ],
             [
              0.2222222222222222,
              "#7201a8"
             ],
             [
              0.3333333333333333,
              "#9c179e"
             ],
             [
              0.4444444444444444,
              "#bd3786"
             ],
             [
              0.5555555555555556,
              "#d8576b"
             ],
             [
              0.6666666666666666,
              "#ed7953"
             ],
             [
              0.7777777777777778,
              "#fb9f3a"
             ],
             [
              0.8888888888888888,
              "#fdca26"
             ],
             [
              1,
              "#f0f921"
             ]
            ],
            "type": "surface"
           }
          ],
          "table": [
           {
            "cells": {
             "fill": {
              "color": "#EBF0F8"
             },
             "line": {
              "color": "white"
             }
            },
            "header": {
             "fill": {
              "color": "#C8D4E3"
             },
             "line": {
              "color": "white"
             }
            },
            "type": "table"
           }
          ]
         },
         "layout": {
          "annotationdefaults": {
           "arrowcolor": "#2a3f5f",
           "arrowhead": 0,
           "arrowwidth": 1
          },
          "autotypenumbers": "strict",
          "coloraxis": {
           "colorbar": {
            "outlinewidth": 0,
            "ticks": ""
           }
          },
          "colorscale": {
           "diverging": [
            [
             0,
             "#8e0152"
            ],
            [
             0.1,
             "#c51b7d"
            ],
            [
             0.2,
             "#de77ae"
            ],
            [
             0.3,
             "#f1b6da"
            ],
            [
             0.4,
             "#fde0ef"
            ],
            [
             0.5,
             "#f7f7f7"
            ],
            [
             0.6,
             "#e6f5d0"
            ],
            [
             0.7,
             "#b8e186"
            ],
            [
             0.8,
             "#7fbc41"
            ],
            [
             0.9,
             "#4d9221"
            ],
            [
             1,
             "#276419"
            ]
           ],
           "sequential": [
            [
             0,
             "#0d0887"
            ],
            [
             0.1111111111111111,
             "#46039f"
            ],
            [
             0.2222222222222222,
             "#7201a8"
            ],
            [
             0.3333333333333333,
             "#9c179e"
            ],
            [
             0.4444444444444444,
             "#bd3786"
            ],
            [
             0.5555555555555556,
             "#d8576b"
            ],
            [
             0.6666666666666666,
             "#ed7953"
            ],
            [
             0.7777777777777778,
             "#fb9f3a"
            ],
            [
             0.8888888888888888,
             "#fdca26"
            ],
            [
             1,
             "#f0f921"
            ]
           ],
           "sequentialminus": [
            [
             0,
             "#0d0887"
            ],
            [
             0.1111111111111111,
             "#46039f"
            ],
            [
             0.2222222222222222,
             "#7201a8"
            ],
            [
             0.3333333333333333,
             "#9c179e"
            ],
            [
             0.4444444444444444,
             "#bd3786"
            ],
            [
             0.5555555555555556,
             "#d8576b"
            ],
            [
             0.6666666666666666,
             "#ed7953"
            ],
            [
             0.7777777777777778,
             "#fb9f3a"
            ],
            [
             0.8888888888888888,
             "#fdca26"
            ],
            [
             1,
             "#f0f921"
            ]
           ]
          },
          "colorway": [
           "#636efa",
           "#EF553B",
           "#00cc96",
           "#ab63fa",
           "#FFA15A",
           "#19d3f3",
           "#FF6692",
           "#B6E880",
           "#FF97FF",
           "#FECB52"
          ],
          "font": {
           "color": "#2a3f5f"
          },
          "geo": {
           "bgcolor": "white",
           "lakecolor": "white",
           "landcolor": "#E5ECF6",
           "showlakes": true,
           "showland": true,
           "subunitcolor": "white"
          },
          "hoverlabel": {
           "align": "left"
          },
          "hovermode": "closest",
          "mapbox": {
           "style": "light"
          },
          "paper_bgcolor": "white",
          "plot_bgcolor": "#E5ECF6",
          "polar": {
           "angularaxis": {
            "gridcolor": "white",
            "linecolor": "white",
            "ticks": ""
           },
           "bgcolor": "#E5ECF6",
           "radialaxis": {
            "gridcolor": "white",
            "linecolor": "white",
            "ticks": ""
           }
          },
          "scene": {
           "xaxis": {
            "backgroundcolor": "#E5ECF6",
            "gridcolor": "white",
            "gridwidth": 2,
            "linecolor": "white",
            "showbackground": true,
            "ticks": "",
            "zerolinecolor": "white"
           },
           "yaxis": {
            "backgroundcolor": "#E5ECF6",
            "gridcolor": "white",
            "gridwidth": 2,
            "linecolor": "white",
            "showbackground": true,
            "ticks": "",
            "zerolinecolor": "white"
           },
           "zaxis": {
            "backgroundcolor": "#E5ECF6",
            "gridcolor": "white",
            "gridwidth": 2,
            "linecolor": "white",
            "showbackground": true,
            "ticks": "",
            "zerolinecolor": "white"
           }
          },
          "shapedefaults": {
           "line": {
            "color": "#2a3f5f"
           }
          },
          "ternary": {
           "aaxis": {
            "gridcolor": "white",
            "linecolor": "white",
            "ticks": ""
           },
           "baxis": {
            "gridcolor": "white",
            "linecolor": "white",
            "ticks": ""
           },
           "bgcolor": "#E5ECF6",
           "caxis": {
            "gridcolor": "white",
            "linecolor": "white",
            "ticks": ""
           }
          },
          "title": {
           "x": 0.05
          },
          "xaxis": {
           "automargin": true,
           "gridcolor": "white",
           "linecolor": "white",
           "ticks": "",
           "title": {
            "standoff": 15
           },
           "zerolinecolor": "white",
           "zerolinewidth": 2
          },
          "yaxis": {
           "automargin": true,
           "gridcolor": "white",
           "linecolor": "white",
           "ticks": "",
           "title": {
            "standoff": 15
           },
           "zerolinecolor": "white",
           "zerolinewidth": 2
          }
         }
        },
        "title": {
         "font": {
          "size": 24
         },
         "text": "Treemap of Salary Distribution by Age",
         "x": 0.5
        },
        "treemapcolorway": [
         "rgb(247,251,255)",
         "rgb(222,235,247)",
         "rgb(198,219,239)",
         "rgb(158,202,225)",
         "rgb(107,174,214)",
         "rgb(66,146,198)",
         "rgb(33,113,181)",
         "rgb(8,81,156)",
         "rgb(8,48,107)"
        ]
       }
      }
     },
     "metadata": {},
     "output_type": "display_data"
    }
   ],
   "source": [
    "salary_treemap(df, 'Age')"
   ]
  },
  {
   "cell_type": "code",
   "execution_count": 80,
   "metadata": {},
   "outputs": [
    {
     "name": "stderr",
     "output_type": "stream",
     "text": [
      "C:\\Users\\ntlmp\\AppData\\Roaming\\Python\\Python310\\site-packages\\plotly\\express\\_core.py:1706: FutureWarning:\n",
      "\n",
      "The default of observed=False is deprecated and will be changed to True in a future version of pandas. Pass observed=False to retain current behavior or observed=True to adopt the future default and silence this warning.\n",
      "\n",
      "C:\\Users\\ntlmp\\AppData\\Roaming\\Python\\Python310\\site-packages\\plotly\\express\\_core.py:1706: FutureWarning:\n",
      "\n",
      "The default of observed=False is deprecated and will be changed to True in a future version of pandas. Pass observed=False to retain current behavior or observed=True to adopt the future default and silence this warning.\n",
      "\n"
     ]
    },
    {
     "data": {
      "application/vnd.plotly.v1+json": {
       "config": {
        "plotlyServerURL": "https://plot.ly"
       },
       "data": [
        {
         "branchvalues": "total",
         "customdata": [
          [
           589
          ],
          [
           371
          ],
          [
           347
          ],
          [
           169
          ],
          [
           125
          ],
          [
           71
          ],
          [
           35
          ],
          [
           32
          ],
          [
           14
          ],
          [
           10
          ],
          [
           25
          ],
          [
           209
          ],
          [
           301
          ],
          [
           532
          ],
          [
           553
          ],
          [
           484
          ],
          [
           351
          ],
          [
           252
          ],
          [
           185
          ],
          [
           138
          ],
          [
           106
          ],
          [
           305
          ],
          [
           82
          ],
          [
           124
          ],
          [
           202
          ],
          [
           291
          ],
          [
           218
          ],
          [
           160
          ],
          [
           118
          ],
          [
           101
          ],
          [
           68
          ],
          [
           55
          ],
          [
           159
          ],
          [
           99
          ],
          [
           125
          ],
          [
           240
          ],
          [
           299
          ],
          [
           281
          ],
          [
           174
          ],
          [
           134
          ],
          [
           110
          ],
          [
           86
          ],
          [
           62
          ],
          [
           194
          ],
          [
           53
          ],
          [
           85
          ],
          [
           173
          ],
          [
           192
          ],
          [
           213
          ],
          [
           139
          ],
          [
           101
          ],
          [
           87
          ],
          [
           55
          ],
          [
           51
          ],
          [
           126
          ],
          [
           36
          ],
          [
           60
          ],
          [
           117
          ],
          [
           169
          ],
          [
           144
          ],
          [
           92
          ],
          [
           77
          ],
          [
           49
          ],
          [
           50
          ],
          [
           44
          ],
          [
           103
          ],
          [
           97
          ],
          [
           111
          ],
          [
           278
          ],
          [
           268
          ],
          [
           308
          ],
          [
           192
          ],
          [
           152
          ],
          [
           137
          ],
          [
           108
          ],
          [
           74
          ],
          [
           221
          ],
          [
           29
          ],
          [
           52
          ],
          [
           110
          ],
          [
           140
          ],
          [
           139
          ],
          [
           125
          ],
          [
           79
          ],
          [
           64
          ],
          [
           61
          ],
          [
           39
          ],
          [
           109
          ],
          [
           31
          ],
          [
           41
          ],
          [
           114
          ],
          [
           124
          ],
          [
           125
          ],
          [
           77
          ],
          [
           58
          ],
          [
           66
          ],
          [
           45
          ],
          [
           33
          ],
          [
           112
          ],
          [
           30
          ],
          [
           47
          ],
          [
           103
          ],
          [
           121
          ],
          [
           117
          ],
          [
           116
          ],
          [
           84
          ],
          [
           57
          ],
          [
           51
          ],
          [
           44
          ],
          [
           112
          ],
          [
           13
          ],
          [
           17
          ],
          [
           50
          ],
          [
           59
          ],
          [
           62
          ],
          [
           43
          ],
          [
           39
          ],
          [
           32
          ],
          [
           34
          ],
          [
           24
          ],
          [
           65
          ],
          [
           927
          ],
          [
           648
          ],
          [
           623
          ],
          [
           388
          ],
          [
           259
          ],
          [
           140
          ],
          [
           93
          ],
          [
           53
          ],
          [
           22
          ],
          [
           23
          ],
          [
           39
          ],
          [
           58
          ],
          [
           91
          ],
          [
           175
          ],
          [
           216
          ],
          [
           166
          ],
          [
           169
          ],
          [
           119
          ],
          [
           89
          ],
          [
           78
          ],
          [
           62
          ],
          [
           204
          ],
          [
           8
          ],
          [
           17
          ],
          [
           35
          ],
          [
           55
          ],
          [
           68
          ],
          [
           38
          ],
          [
           41
          ],
          [
           32
          ],
          [
           30
          ],
          [
           13
          ],
          [
           47
          ],
          [
           12
          ],
          [
           22
          ],
          [
           69
          ],
          [
           72
          ],
          [
           84
          ],
          [
           63
          ],
          [
           58
          ],
          [
           44
          ],
          [
           48
          ],
          [
           23
          ],
          [
           79
          ],
          [
           26
          ],
          [
           31
          ],
          [
           74
          ],
          [
           110
          ],
          [
           101
          ],
          [
           89
          ],
          [
           83
          ],
          [
           68
          ],
          [
           65
          ],
          [
           26
          ],
          [
           100
          ],
          [
           21
          ],
          [
           19
          ],
          [
           51
          ],
          [
           57
          ],
          [
           74
          ],
          [
           30
          ],
          [
           41
          ],
          [
           50
          ],
          [
           29
          ],
          [
           27
          ],
          [
           69
          ],
          [
           38
          ],
          [
           40
          ],
          [
           97
          ],
          [
           101
          ],
          [
           113
          ],
          [
           108
          ],
          [
           88
          ],
          [
           71
          ],
          [
           66
          ],
          [
           46
          ],
          [
           129
          ],
          [
           10
          ],
          [
           12
          ],
          [
           34
          ],
          [
           39
          ],
          [
           49
          ],
          [
           38
          ],
          [
           23
          ],
          [
           22
          ],
          [
           26
          ],
          [
           12
          ],
          [
           59
          ],
          [
           7
          ],
          [
           20
          ],
          [
           27
          ],
          [
           48
          ],
          [
           42
          ],
          [
           35
          ],
          [
           29
          ],
          [
           31
          ],
          [
           20
          ],
          [
           17
          ],
          [
           42
          ],
          [
           6
          ],
          [
           10
          ],
          [
           17
          ],
          [
           43
          ],
          [
           46
          ],
          [
           29
          ],
          [
           32
          ],
          [
           21
          ],
          [
           22
          ],
          [
           13
          ],
          [
           48
          ],
          [
           6
          ],
          [
           9
          ],
          [
           14
          ],
          [
           16
          ],
          [
           29
          ],
          [
           16
          ],
          [
           13
          ],
          [
           9
          ],
          [
           13
          ],
          [
           7
          ],
          [
           24
          ],
          [
           735
          ],
          [
           558
          ],
          [
           644
          ],
          [
           444
          ],
          [
           263
          ],
          [
           196
          ],
          [
           130
          ],
          [
           70
          ],
          [
           41
          ],
          [
           31
          ],
          [
           79
          ],
          [
           19
          ],
          [
           35
          ],
          [
           39
          ],
          [
           79
          ],
          [
           57
          ],
          [
           61
          ],
          [
           38
          ],
          [
           44
          ],
          [
           32
          ],
          [
           27
          ],
          [
           98
          ],
          [
           2
          ],
          [
           6
          ],
          [
           14
          ],
          [
           14
          ],
          [
           15
          ],
          [
           11
          ],
          [
           12
          ],
          [
           10
          ],
          [
           15
          ],
          [
           4
          ],
          [
           14
          ],
          [
           2
          ],
          [
           9
          ],
          [
           18
          ],
          [
           26
          ],
          [
           26
          ],
          [
           17
          ],
          [
           20
          ],
          [
           18
          ],
          [
           12
          ],
          [
           5
          ],
          [
           25
          ],
          [
           7
          ],
          [
           11
          ],
          [
           16
          ],
          [
           18
          ],
          [
           21
          ],
          [
           11
          ],
          [
           9
          ],
          [
           20
          ],
          [
           16
          ],
          [
           11
          ],
          [
           23
          ],
          [
           1
          ],
          [
           3
          ],
          [
           7
          ],
          [
           11
          ],
          [
           17
          ],
          [
           15
          ],
          [
           15
          ],
          [
           10
          ],
          [
           9
          ],
          [
           6
          ],
          [
           13
          ],
          [
           12
          ],
          [
           14
          ],
          [
           16
          ],
          [
           37
          ],
          [
           43
          ],
          [
           26
          ],
          [
           29
          ],
          [
           28
          ],
          [
           18
          ],
          [
           15
          ],
          [
           41
          ],
          [
           3
          ],
          [
           5
          ],
          [
           7
          ],
          [
           19
          ],
          [
           11
          ],
          [
           17
          ],
          [
           17
          ],
          [
           10
          ],
          [
           8
          ],
          [
           4
          ],
          [
           19
          ],
          [
           4
          ],
          [
           4
          ],
          [
           7
          ],
          [
           14
          ],
          [
           16
          ],
          [
           9
          ],
          [
           9
          ],
          [
           4
          ],
          [
           14
          ],
          [
           7
          ],
          [
           16
          ],
          [
           1
          ],
          [
           1
          ],
          [
           12
          ],
          [
           10
          ],
          [
           14
          ],
          [
           18
          ],
          [
           9
          ],
          [
           12
          ],
          [
           11
          ],
          [
           4
          ],
          [
           22
          ],
          [
           2
          ],
          [
           1
          ],
          [
           3
          ],
          [
           5
          ],
          [
           9
          ],
          [
           5
          ],
          [
           3
          ],
          [
           5
          ],
          [
           5
          ],
          [
           2
          ],
          [
           14
          ],
          [
           492
          ],
          [
           486
          ],
          [
           666
          ],
          [
           438
          ],
          [
           295
          ],
          [
           189
          ],
          [
           155
          ],
          [
           80
          ],
          [
           53
          ],
          [
           31
          ],
          [
           91
          ],
          [
           7
          ],
          [
           8
          ],
          [
           12
          ],
          [
           19
          ],
          [
           23
          ],
          [
           14
          ],
          [
           17
          ],
          [
           17
          ],
          [
           14
          ],
          [
           7
          ],
          [
           21
          ],
          [
           2
          ],
          [
           3
          ],
          [
           3
          ],
          [
           3
          ],
          [
           3
          ],
          [
           6
          ],
          [
           8
          ],
          [
           1
          ],
          [
           5
          ],
          [
           4
          ],
          [
           4
          ],
          [
           null
          ],
          [
           3
          ],
          [
           4
          ],
          [
           4
          ],
          [
           3
          ],
          [
           4
          ],
          [
           4
          ],
          [
           9
          ],
          [
           2
          ],
          [
           3
          ],
          [
           7
          ],
          [
           2
          ],
          [
           2
          ],
          [
           2
          ],
          [
           2
          ],
          [
           7
          ],
          [
           2
          ],
          [
           2
          ],
          [
           6
          ],
          [
           3
          ],
          [
           2
          ],
          [
           6
          ],
          [
           null
          ],
          [
           2
          ],
          [
           null
          ],
          [
           2
          ],
          [
           1
          ],
          [
           1
          ],
          [
           4
          ],
          [
           null
          ],
          [
           1
          ],
          [
           1
          ],
          [
           6
          ],
          [
           1
          ],
          [
           1
          ],
          [
           2
          ],
          [
           2
          ],
          [
           3
          ],
          [
           3
          ],
          [
           7
          ],
          [
           6
          ],
          [
           4
          ],
          [
           2
          ],
          [
           14
          ],
          [
           null
          ],
          [
           null
          ],
          [
           2
          ],
          [
           3
          ],
          [
           4
          ],
          [
           3
          ],
          [
           2
          ],
          [
           null
          ],
          [
           2
          ],
          [
           null
          ],
          [
           3
          ],
          [
           null
          ],
          [
           1
          ],
          [
           2
          ],
          [
           2
          ],
          [
           1
          ],
          [
           null
          ],
          [
           1
          ],
          [
           1
          ],
          [
           1
          ],
          [
           2
          ],
          [
           3
          ],
          [
           null
          ],
          [
           null
          ],
          [
           1
          ],
          [
           1
          ],
          [
           1
          ],
          [
           1
          ],
          [
           null
          ],
          [
           2
          ],
          [
           null
          ],
          [
           null
          ],
          [
           4
          ],
          [
           null
          ],
          [
           null
          ],
          [
           null
          ],
          [
           3
          ],
          [
           null
          ],
          [
           1
          ],
          [
           null
          ],
          [
           null
          ],
          [
           null
          ],
          [
           1
          ],
          [
           1
          ],
          [
           435
          ],
          [
           493
          ],
          [
           782
          ],
          [
           621
          ],
          [
           408
          ],
          [
           259
          ],
          [
           209
          ],
          [
           146
          ],
          [
           92
          ],
          [
           49
          ],
          [
           171
          ],
          [
           1
          ],
          [
           null
          ],
          [
           null
          ],
          [
           1
          ],
          [
           1
          ],
          [
           1
          ],
          [
           2
          ],
          [
           null
          ],
          [
           1
          ],
          [
           1
          ],
          [
           3
          ],
          [
           248
          ],
          [
           337
          ],
          [
           551
          ],
          [
           487
          ],
          [
           373
          ],
          [
           191
          ],
          [
           161
          ],
          [
           137
          ],
          [
           103
          ],
          [
           48
          ],
          [
           168
          ],
          [
           206
          ],
          [
           270
          ],
          [
           485
          ],
          [
           463
          ],
          [
           342
          ],
          [
           269
          ],
          [
           204
          ],
          [
           127
          ],
          [
           106
          ],
          [
           70
          ],
          [
           194
          ],
          [
           172
          ],
          [
           266
          ],
          [
           412
          ],
          [
           483
          ],
          [
           380
          ],
          [
           244
          ],
          [
           192
          ],
          [
           147
          ],
          [
           108
          ],
          [
           82
          ],
          [
           212
          ],
          [
           95
          ],
          [
           177
          ],
          [
           232
          ],
          [
           296
          ],
          [
           210
          ],
          [
           164
          ],
          [
           124
          ],
          [
           85
          ],
          [
           66
          ],
          [
           66
          ],
          [
           152
          ],
          [
           425
          ],
          [
           244
          ],
          [
           251
          ],
          [
           141
          ],
          [
           70
          ],
          [
           39
          ],
          [
           18
          ],
          [
           5
          ],
          [
           12
          ],
          [
           2
          ],
          [
           11
          ],
          [
           4
          ],
          [
           6
          ],
          [
           1
          ],
          [
           4
          ],
          [
           3
          ],
          [
           3
          ],
          [
           3
          ],
          [
           5
          ],
          [
           null
          ],
          [
           null
          ],
          [
           9
          ],
          [
           490.8928774928775
          ],
          [
           358.2256203115984
          ],
          [
           443.60628176723577
          ],
          [
           349.85797827903093
          ],
          [
           257.689960797682
          ],
          [
           173.64883435582823
          ],
          [
           129.88106565176022
          ],
          [
           94.24886128364389
          ],
          [
           70.39564524694636
          ],
          [
           51.24807395993837
          ],
          [
           146.0007863695937
          ]
         ],
         "domain": {
          "x": [
           0,
           1
          ],
          "y": [
           0,
           1
          ]
         },
         "hovertemplate": "labels=%{label}<br>Counts_sum=%{value}<br>parent=%{parent}<br>id=%{id}<br>Number of Developers=%{color}<extra></extra>",
         "ids": [
          "Under 20K/1",
          "20K-40K/1",
          "40K-60K/1",
          "60K-80K/1",
          "80K-100K/1",
          "100K-120K/1",
          "120K-140K/1",
          "140K-160K/1",
          "160K-180K/1",
          "180K-200K/1",
          "Over 200K/1",
          "Under 20K/10",
          "20K-40K/10",
          "40K-60K/10",
          "60K-80K/10",
          "80K-100K/10",
          "100K-120K/10",
          "120K-140K/10",
          "140K-160K/10",
          "160K-180K/10",
          "180K-200K/10",
          "Over 200K/10",
          "Under 20K/11",
          "20K-40K/11",
          "40K-60K/11",
          "60K-80K/11",
          "80K-100K/11",
          "100K-120K/11",
          "120K-140K/11",
          "140K-160K/11",
          "160K-180K/11",
          "180K-200K/11",
          "Over 200K/11",
          "Under 20K/12",
          "20K-40K/12",
          "40K-60K/12",
          "60K-80K/12",
          "80K-100K/12",
          "100K-120K/12",
          "120K-140K/12",
          "140K-160K/12",
          "160K-180K/12",
          "180K-200K/12",
          "Over 200K/12",
          "Under 20K/13",
          "20K-40K/13",
          "40K-60K/13",
          "60K-80K/13",
          "80K-100K/13",
          "100K-120K/13",
          "120K-140K/13",
          "140K-160K/13",
          "160K-180K/13",
          "180K-200K/13",
          "Over 200K/13",
          "Under 20K/14",
          "20K-40K/14",
          "40K-60K/14",
          "60K-80K/14",
          "80K-100K/14",
          "100K-120K/14",
          "120K-140K/14",
          "140K-160K/14",
          "160K-180K/14",
          "180K-200K/14",
          "Over 200K/14",
          "Under 20K/15",
          "20K-40K/15",
          "40K-60K/15",
          "60K-80K/15",
          "80K-100K/15",
          "100K-120K/15",
          "120K-140K/15",
          "140K-160K/15",
          "160K-180K/15",
          "180K-200K/15",
          "Over 200K/15",
          "Under 20K/16",
          "20K-40K/16",
          "40K-60K/16",
          "60K-80K/16",
          "80K-100K/16",
          "100K-120K/16",
          "120K-140K/16",
          "140K-160K/16",
          "160K-180K/16",
          "180K-200K/16",
          "Over 200K/16",
          "Under 20K/17",
          "20K-40K/17",
          "40K-60K/17",
          "60K-80K/17",
          "80K-100K/17",
          "100K-120K/17",
          "120K-140K/17",
          "140K-160K/17",
          "160K-180K/17",
          "180K-200K/17",
          "Over 200K/17",
          "Under 20K/18",
          "20K-40K/18",
          "40K-60K/18",
          "60K-80K/18",
          "80K-100K/18",
          "100K-120K/18",
          "120K-140K/18",
          "140K-160K/18",
          "160K-180K/18",
          "180K-200K/18",
          "Over 200K/18",
          "Under 20K/19",
          "20K-40K/19",
          "40K-60K/19",
          "60K-80K/19",
          "80K-100K/19",
          "100K-120K/19",
          "120K-140K/19",
          "140K-160K/19",
          "160K-180K/19",
          "180K-200K/19",
          "Over 200K/19",
          "Under 20K/2",
          "20K-40K/2",
          "40K-60K/2",
          "60K-80K/2",
          "80K-100K/2",
          "100K-120K/2",
          "120K-140K/2",
          "140K-160K/2",
          "160K-180K/2",
          "180K-200K/2",
          "Over 200K/2",
          "Under 20K/20",
          "20K-40K/20",
          "40K-60K/20",
          "60K-80K/20",
          "80K-100K/20",
          "100K-120K/20",
          "120K-140K/20",
          "140K-160K/20",
          "160K-180K/20",
          "180K-200K/20",
          "Over 200K/20",
          "Under 20K/21",
          "20K-40K/21",
          "40K-60K/21",
          "60K-80K/21",
          "80K-100K/21",
          "100K-120K/21",
          "120K-140K/21",
          "140K-160K/21",
          "160K-180K/21",
          "180K-200K/21",
          "Over 200K/21",
          "Under 20K/22",
          "20K-40K/22",
          "40K-60K/22",
          "60K-80K/22",
          "80K-100K/22",
          "100K-120K/22",
          "120K-140K/22",
          "140K-160K/22",
          "160K-180K/22",
          "180K-200K/22",
          "Over 200K/22",
          "Under 20K/23",
          "20K-40K/23",
          "40K-60K/23",
          "60K-80K/23",
          "80K-100K/23",
          "100K-120K/23",
          "120K-140K/23",
          "140K-160K/23",
          "160K-180K/23",
          "180K-200K/23",
          "Over 200K/23",
          "Under 20K/24",
          "20K-40K/24",
          "40K-60K/24",
          "60K-80K/24",
          "80K-100K/24",
          "100K-120K/24",
          "120K-140K/24",
          "140K-160K/24",
          "160K-180K/24",
          "180K-200K/24",
          "Over 200K/24",
          "Under 20K/25",
          "20K-40K/25",
          "40K-60K/25",
          "60K-80K/25",
          "80K-100K/25",
          "100K-120K/25",
          "120K-140K/25",
          "140K-160K/25",
          "160K-180K/25",
          "180K-200K/25",
          "Over 200K/25",
          "Under 20K/26",
          "20K-40K/26",
          "40K-60K/26",
          "60K-80K/26",
          "80K-100K/26",
          "100K-120K/26",
          "120K-140K/26",
          "140K-160K/26",
          "160K-180K/26",
          "180K-200K/26",
          "Over 200K/26",
          "Under 20K/27",
          "20K-40K/27",
          "40K-60K/27",
          "60K-80K/27",
          "80K-100K/27",
          "100K-120K/27",
          "120K-140K/27",
          "140K-160K/27",
          "160K-180K/27",
          "180K-200K/27",
          "Over 200K/27",
          "Under 20K/28",
          "20K-40K/28",
          "40K-60K/28",
          "60K-80K/28",
          "80K-100K/28",
          "100K-120K/28",
          "120K-140K/28",
          "140K-160K/28",
          "160K-180K/28",
          "180K-200K/28",
          "Over 200K/28",
          "Under 20K/29",
          "20K-40K/29",
          "40K-60K/29",
          "60K-80K/29",
          "80K-100K/29",
          "100K-120K/29",
          "120K-140K/29",
          "140K-160K/29",
          "160K-180K/29",
          "180K-200K/29",
          "Over 200K/29",
          "Under 20K/3",
          "20K-40K/3",
          "40K-60K/3",
          "60K-80K/3",
          "80K-100K/3",
          "100K-120K/3",
          "120K-140K/3",
          "140K-160K/3",
          "160K-180K/3",
          "180K-200K/3",
          "Over 200K/3",
          "Under 20K/30",
          "20K-40K/30",
          "40K-60K/30",
          "60K-80K/30",
          "80K-100K/30",
          "100K-120K/30",
          "120K-140K/30",
          "140K-160K/30",
          "160K-180K/30",
          "180K-200K/30",
          "Over 200K/30",
          "Under 20K/31",
          "20K-40K/31",
          "40K-60K/31",
          "60K-80K/31",
          "80K-100K/31",
          "100K-120K/31",
          "120K-140K/31",
          "140K-160K/31",
          "160K-180K/31",
          "180K-200K/31",
          "Over 200K/31",
          "Under 20K/32",
          "20K-40K/32",
          "40K-60K/32",
          "60K-80K/32",
          "80K-100K/32",
          "100K-120K/32",
          "120K-140K/32",
          "140K-160K/32",
          "160K-180K/32",
          "180K-200K/32",
          "Over 200K/32",
          "Under 20K/33",
          "20K-40K/33",
          "40K-60K/33",
          "60K-80K/33",
          "80K-100K/33",
          "100K-120K/33",
          "120K-140K/33",
          "140K-160K/33",
          "160K-180K/33",
          "180K-200K/33",
          "Over 200K/33",
          "Under 20K/34",
          "20K-40K/34",
          "40K-60K/34",
          "60K-80K/34",
          "80K-100K/34",
          "100K-120K/34",
          "120K-140K/34",
          "140K-160K/34",
          "160K-180K/34",
          "180K-200K/34",
          "Over 200K/34",
          "Under 20K/35",
          "20K-40K/35",
          "40K-60K/35",
          "60K-80K/35",
          "80K-100K/35",
          "100K-120K/35",
          "120K-140K/35",
          "140K-160K/35",
          "160K-180K/35",
          "180K-200K/35",
          "Over 200K/35",
          "Under 20K/36",
          "20K-40K/36",
          "40K-60K/36",
          "60K-80K/36",
          "80K-100K/36",
          "100K-120K/36",
          "120K-140K/36",
          "140K-160K/36",
          "160K-180K/36",
          "180K-200K/36",
          "Over 200K/36",
          "Under 20K/37",
          "20K-40K/37",
          "40K-60K/37",
          "60K-80K/37",
          "80K-100K/37",
          "100K-120K/37",
          "120K-140K/37",
          "140K-160K/37",
          "160K-180K/37",
          "180K-200K/37",
          "Over 200K/37",
          "Under 20K/38",
          "20K-40K/38",
          "40K-60K/38",
          "60K-80K/38",
          "80K-100K/38",
          "100K-120K/38",
          "120K-140K/38",
          "140K-160K/38",
          "160K-180K/38",
          "180K-200K/38",
          "Over 200K/38",
          "Under 20K/39",
          "20K-40K/39",
          "40K-60K/39",
          "60K-80K/39",
          "80K-100K/39",
          "100K-120K/39",
          "120K-140K/39",
          "140K-160K/39",
          "160K-180K/39",
          "180K-200K/39",
          "Over 200K/39",
          "Under 20K/4",
          "20K-40K/4",
          "40K-60K/4",
          "60K-80K/4",
          "80K-100K/4",
          "100K-120K/4",
          "120K-140K/4",
          "140K-160K/4",
          "160K-180K/4",
          "180K-200K/4",
          "Over 200K/4",
          "Under 20K/40",
          "20K-40K/40",
          "40K-60K/40",
          "60K-80K/40",
          "80K-100K/40",
          "100K-120K/40",
          "120K-140K/40",
          "140K-160K/40",
          "160K-180K/40",
          "180K-200K/40",
          "Over 200K/40",
          "Under 20K/41",
          "20K-40K/41",
          "40K-60K/41",
          "60K-80K/41",
          "80K-100K/41",
          "100K-120K/41",
          "120K-140K/41",
          "140K-160K/41",
          "160K-180K/41",
          "180K-200K/41",
          "Over 200K/41",
          "Under 20K/42",
          "20K-40K/42",
          "40K-60K/42",
          "60K-80K/42",
          "80K-100K/42",
          "100K-120K/42",
          "120K-140K/42",
          "140K-160K/42",
          "160K-180K/42",
          "180K-200K/42",
          "Over 200K/42",
          "Under 20K/43",
          "20K-40K/43",
          "40K-60K/43",
          "60K-80K/43",
          "80K-100K/43",
          "100K-120K/43",
          "120K-140K/43",
          "140K-160K/43",
          "160K-180K/43",
          "180K-200K/43",
          "Over 200K/43",
          "Under 20K/44",
          "20K-40K/44",
          "40K-60K/44",
          "60K-80K/44",
          "80K-100K/44",
          "100K-120K/44",
          "120K-140K/44",
          "140K-160K/44",
          "160K-180K/44",
          "180K-200K/44",
          "Over 200K/44",
          "Under 20K/45",
          "20K-40K/45",
          "40K-60K/45",
          "60K-80K/45",
          "80K-100K/45",
          "100K-120K/45",
          "120K-140K/45",
          "140K-160K/45",
          "160K-180K/45",
          "180K-200K/45",
          "Over 200K/45",
          "Under 20K/46",
          "20K-40K/46",
          "40K-60K/46",
          "60K-80K/46",
          "80K-100K/46",
          "100K-120K/46",
          "120K-140K/46",
          "140K-160K/46",
          "160K-180K/46",
          "180K-200K/46",
          "Over 200K/46",
          "Under 20K/47",
          "20K-40K/47",
          "40K-60K/47",
          "60K-80K/47",
          "80K-100K/47",
          "100K-120K/47",
          "120K-140K/47",
          "140K-160K/47",
          "160K-180K/47",
          "180K-200K/47",
          "Over 200K/47",
          "Under 20K/48",
          "20K-40K/48",
          "40K-60K/48",
          "60K-80K/48",
          "80K-100K/48",
          "100K-120K/48",
          "120K-140K/48",
          "140K-160K/48",
          "160K-180K/48",
          "180K-200K/48",
          "Over 200K/48",
          "Under 20K/49",
          "20K-40K/49",
          "40K-60K/49",
          "60K-80K/49",
          "80K-100K/49",
          "100K-120K/49",
          "120K-140K/49",
          "140K-160K/49",
          "160K-180K/49",
          "180K-200K/49",
          "Over 200K/49",
          "Under 20K/5",
          "20K-40K/5",
          "40K-60K/5",
          "60K-80K/5",
          "80K-100K/5",
          "100K-120K/5",
          "120K-140K/5",
          "140K-160K/5",
          "160K-180K/5",
          "180K-200K/5",
          "Over 200K/5",
          "Under 20K/50",
          "20K-40K/50",
          "40K-60K/50",
          "60K-80K/50",
          "80K-100K/50",
          "100K-120K/50",
          "120K-140K/50",
          "140K-160K/50",
          "160K-180K/50",
          "180K-200K/50",
          "Over 200K/50",
          "Under 20K/6",
          "20K-40K/6",
          "40K-60K/6",
          "60K-80K/6",
          "80K-100K/6",
          "100K-120K/6",
          "120K-140K/6",
          "140K-160K/6",
          "160K-180K/6",
          "180K-200K/6",
          "Over 200K/6",
          "Under 20K/7",
          "20K-40K/7",
          "40K-60K/7",
          "60K-80K/7",
          "80K-100K/7",
          "100K-120K/7",
          "120K-140K/7",
          "140K-160K/7",
          "160K-180K/7",
          "180K-200K/7",
          "Over 200K/7",
          "Under 20K/8",
          "20K-40K/8",
          "40K-60K/8",
          "60K-80K/8",
          "80K-100K/8",
          "100K-120K/8",
          "120K-140K/8",
          "140K-160K/8",
          "160K-180K/8",
          "180K-200K/8",
          "Over 200K/8",
          "Under 20K/9",
          "20K-40K/9",
          "40K-60K/9",
          "60K-80K/9",
          "80K-100K/9",
          "100K-120K/9",
          "120K-140K/9",
          "140K-160K/9",
          "160K-180K/9",
          "180K-200K/9",
          "Over 200K/9",
          "Under 20K/Less than 1 year",
          "20K-40K/Less than 1 year",
          "40K-60K/Less than 1 year",
          "60K-80K/Less than 1 year",
          "80K-100K/Less than 1 year",
          "100K-120K/Less than 1 year",
          "120K-140K/Less than 1 year",
          "140K-160K/Less than 1 year",
          "160K-180K/Less than 1 year",
          "180K-200K/Less than 1 year",
          "Over 200K/Less than 1 year",
          "Under 20K/More than 50 years",
          "20K-40K/More than 50 years",
          "40K-60K/More than 50 years",
          "60K-80K/More than 50 years",
          "80K-100K/More than 50 years",
          "100K-120K/More than 50 years",
          "120K-140K/More than 50 years",
          "140K-160K/More than 50 years",
          "160K-180K/More than 50 years",
          "180K-200K/More than 50 years",
          "Over 200K/More than 50 years",
          "Under 20K",
          "20K-40K",
          "40K-60K",
          "60K-80K",
          "80K-100K",
          "100K-120K",
          "120K-140K",
          "140K-160K",
          "160K-180K",
          "180K-200K",
          "Over 200K"
         ],
         "labels": [
          "1",
          "1",
          "1",
          "1",
          "1",
          "1",
          "1",
          "1",
          "1",
          "1",
          "1",
          "10",
          "10",
          "10",
          "10",
          "10",
          "10",
          "10",
          "10",
          "10",
          "10",
          "10",
          "11",
          "11",
          "11",
          "11",
          "11",
          "11",
          "11",
          "11",
          "11",
          "11",
          "11",
          "12",
          "12",
          "12",
          "12",
          "12",
          "12",
          "12",
          "12",
          "12",
          "12",
          "12",
          "13",
          "13",
          "13",
          "13",
          "13",
          "13",
          "13",
          "13",
          "13",
          "13",
          "13",
          "14",
          "14",
          "14",
          "14",
          "14",
          "14",
          "14",
          "14",
          "14",
          "14",
          "14",
          "15",
          "15",
          "15",
          "15",
          "15",
          "15",
          "15",
          "15",
          "15",
          "15",
          "15",
          "16",
          "16",
          "16",
          "16",
          "16",
          "16",
          "16",
          "16",
          "16",
          "16",
          "16",
          "17",
          "17",
          "17",
          "17",
          "17",
          "17",
          "17",
          "17",
          "17",
          "17",
          "17",
          "18",
          "18",
          "18",
          "18",
          "18",
          "18",
          "18",
          "18",
          "18",
          "18",
          "18",
          "19",
          "19",
          "19",
          "19",
          "19",
          "19",
          "19",
          "19",
          "19",
          "19",
          "19",
          "2",
          "2",
          "2",
          "2",
          "2",
          "2",
          "2",
          "2",
          "2",
          "2",
          "2",
          "20",
          "20",
          "20",
          "20",
          "20",
          "20",
          "20",
          "20",
          "20",
          "20",
          "20",
          "21",
          "21",
          "21",
          "21",
          "21",
          "21",
          "21",
          "21",
          "21",
          "21",
          "21",
          "22",
          "22",
          "22",
          "22",
          "22",
          "22",
          "22",
          "22",
          "22",
          "22",
          "22",
          "23",
          "23",
          "23",
          "23",
          "23",
          "23",
          "23",
          "23",
          "23",
          "23",
          "23",
          "24",
          "24",
          "24",
          "24",
          "24",
          "24",
          "24",
          "24",
          "24",
          "24",
          "24",
          "25",
          "25",
          "25",
          "25",
          "25",
          "25",
          "25",
          "25",
          "25",
          "25",
          "25",
          "26",
          "26",
          "26",
          "26",
          "26",
          "26",
          "26",
          "26",
          "26",
          "26",
          "26",
          "27",
          "27",
          "27",
          "27",
          "27",
          "27",
          "27",
          "27",
          "27",
          "27",
          "27",
          "28",
          "28",
          "28",
          "28",
          "28",
          "28",
          "28",
          "28",
          "28",
          "28",
          "28",
          "29",
          "29",
          "29",
          "29",
          "29",
          "29",
          "29",
          "29",
          "29",
          "29",
          "29",
          "3",
          "3",
          "3",
          "3",
          "3",
          "3",
          "3",
          "3",
          "3",
          "3",
          "3",
          "30",
          "30",
          "30",
          "30",
          "30",
          "30",
          "30",
          "30",
          "30",
          "30",
          "30",
          "31",
          "31",
          "31",
          "31",
          "31",
          "31",
          "31",
          "31",
          "31",
          "31",
          "31",
          "32",
          "32",
          "32",
          "32",
          "32",
          "32",
          "32",
          "32",
          "32",
          "32",
          "32",
          "33",
          "33",
          "33",
          "33",
          "33",
          "33",
          "33",
          "33",
          "33",
          "33",
          "33",
          "34",
          "34",
          "34",
          "34",
          "34",
          "34",
          "34",
          "34",
          "34",
          "34",
          "34",
          "35",
          "35",
          "35",
          "35",
          "35",
          "35",
          "35",
          "35",
          "35",
          "35",
          "35",
          "36",
          "36",
          "36",
          "36",
          "36",
          "36",
          "36",
          "36",
          "36",
          "36",
          "36",
          "37",
          "37",
          "37",
          "37",
          "37",
          "37",
          "37",
          "37",
          "37",
          "37",
          "37",
          "38",
          "38",
          "38",
          "38",
          "38",
          "38",
          "38",
          "38",
          "38",
          "38",
          "38",
          "39",
          "39",
          "39",
          "39",
          "39",
          "39",
          "39",
          "39",
          "39",
          "39",
          "39",
          "4",
          "4",
          "4",
          "4",
          "4",
          "4",
          "4",
          "4",
          "4",
          "4",
          "4",
          "40",
          "40",
          "40",
          "40",
          "40",
          "40",
          "40",
          "40",
          "40",
          "40",
          "40",
          "41",
          "41",
          "41",
          "41",
          "41",
          "41",
          "41",
          "41",
          "41",
          "41",
          "41",
          "42",
          "42",
          "42",
          "42",
          "42",
          "42",
          "42",
          "42",
          "42",
          "42",
          "42",
          "43",
          "43",
          "43",
          "43",
          "43",
          "43",
          "43",
          "43",
          "43",
          "43",
          "43",
          "44",
          "44",
          "44",
          "44",
          "44",
          "44",
          "44",
          "44",
          "44",
          "44",
          "44",
          "45",
          "45",
          "45",
          "45",
          "45",
          "45",
          "45",
          "45",
          "45",
          "45",
          "45",
          "46",
          "46",
          "46",
          "46",
          "46",
          "46",
          "46",
          "46",
          "46",
          "46",
          "46",
          "47",
          "47",
          "47",
          "47",
          "47",
          "47",
          "47",
          "47",
          "47",
          "47",
          "47",
          "48",
          "48",
          "48",
          "48",
          "48",
          "48",
          "48",
          "48",
          "48",
          "48",
          "48",
          "49",
          "49",
          "49",
          "49",
          "49",
          "49",
          "49",
          "49",
          "49",
          "49",
          "49",
          "5",
          "5",
          "5",
          "5",
          "5",
          "5",
          "5",
          "5",
          "5",
          "5",
          "5",
          "50",
          "50",
          "50",
          "50",
          "50",
          "50",
          "50",
          "50",
          "50",
          "50",
          "50",
          "6",
          "6",
          "6",
          "6",
          "6",
          "6",
          "6",
          "6",
          "6",
          "6",
          "6",
          "7",
          "7",
          "7",
          "7",
          "7",
          "7",
          "7",
          "7",
          "7",
          "7",
          "7",
          "8",
          "8",
          "8",
          "8",
          "8",
          "8",
          "8",
          "8",
          "8",
          "8",
          "8",
          "9",
          "9",
          "9",
          "9",
          "9",
          "9",
          "9",
          "9",
          "9",
          "9",
          "9",
          "Less than 1 year",
          "Less than 1 year",
          "Less than 1 year",
          "Less than 1 year",
          "Less than 1 year",
          "Less than 1 year",
          "Less than 1 year",
          "Less than 1 year",
          "Less than 1 year",
          "Less than 1 year",
          "Less than 1 year",
          "More than 50 years",
          "More than 50 years",
          "More than 50 years",
          "More than 50 years",
          "More than 50 years",
          "More than 50 years",
          "More than 50 years",
          "More than 50 years",
          "More than 50 years",
          "More than 50 years",
          "More than 50 years",
          "Under 20K",
          "20K-40K",
          "40K-60K",
          "60K-80K",
          "80K-100K",
          "100K-120K",
          "120K-140K",
          "140K-160K",
          "160K-180K",
          "180K-200K",
          "Over 200K"
         ],
         "marker": {
          "coloraxis": "coloraxis",
          "colors": [
           589,
           371,
           347,
           169,
           125,
           71,
           35,
           32,
           14,
           10,
           25,
           209,
           301,
           532,
           553,
           484,
           351,
           252,
           185,
           138,
           106,
           305,
           82,
           124,
           202,
           291,
           218,
           160,
           118,
           101,
           68,
           55,
           159,
           99,
           125,
           240,
           299,
           281,
           174,
           134,
           110,
           86,
           62,
           194,
           53,
           85,
           173,
           192,
           213,
           139,
           101,
           87,
           55,
           51,
           126,
           36,
           60,
           117,
           169,
           144,
           92,
           77,
           49,
           50,
           44,
           103,
           97,
           111,
           278,
           268,
           308,
           192,
           152,
           137,
           108,
           74,
           221,
           29,
           52,
           110,
           140,
           139,
           125,
           79,
           64,
           61,
           39,
           109,
           31,
           41,
           114,
           124,
           125,
           77,
           58,
           66,
           45,
           33,
           112,
           30,
           47,
           103,
           121,
           117,
           116,
           84,
           57,
           51,
           44,
           112,
           13,
           17,
           50,
           59,
           62,
           43,
           39,
           32,
           34,
           24,
           65,
           927,
           648,
           623,
           388,
           259,
           140,
           93,
           53,
           22,
           23,
           39,
           58,
           91,
           175,
           216,
           166,
           169,
           119,
           89,
           78,
           62,
           204,
           8,
           17,
           35,
           55,
           68,
           38,
           41,
           32,
           30,
           13,
           47,
           12,
           22,
           69,
           72,
           84,
           63,
           58,
           44,
           48,
           23,
           79,
           26,
           31,
           74,
           110,
           101,
           89,
           83,
           68,
           65,
           26,
           100,
           21,
           19,
           51,
           57,
           74,
           30,
           41,
           50,
           29,
           27,
           69,
           38,
           40,
           97,
           101,
           113,
           108,
           88,
           71,
           66,
           46,
           129,
           10,
           12,
           34,
           39,
           49,
           38,
           23,
           22,
           26,
           12,
           59,
           7,
           20,
           27,
           48,
           42,
           35,
           29,
           31,
           20,
           17,
           42,
           6,
           10,
           17,
           43,
           46,
           29,
           32,
           21,
           22,
           13,
           48,
           6,
           9,
           14,
           16,
           29,
           16,
           13,
           9,
           13,
           7,
           24,
           735,
           558,
           644,
           444,
           263,
           196,
           130,
           70,
           41,
           31,
           79,
           19,
           35,
           39,
           79,
           57,
           61,
           38,
           44,
           32,
           27,
           98,
           2,
           6,
           14,
           14,
           15,
           11,
           12,
           10,
           15,
           4,
           14,
           2,
           9,
           18,
           26,
           26,
           17,
           20,
           18,
           12,
           5,
           25,
           7,
           11,
           16,
           18,
           21,
           11,
           9,
           20,
           16,
           11,
           23,
           1,
           3,
           7,
           11,
           17,
           15,
           15,
           10,
           9,
           6,
           13,
           12,
           14,
           16,
           37,
           43,
           26,
           29,
           28,
           18,
           15,
           41,
           3,
           5,
           7,
           19,
           11,
           17,
           17,
           10,
           8,
           4,
           19,
           4,
           4,
           7,
           14,
           16,
           9,
           9,
           4,
           14,
           7,
           16,
           1,
           1,
           12,
           10,
           14,
           18,
           9,
           12,
           11,
           4,
           22,
           2,
           1,
           3,
           5,
           9,
           5,
           3,
           5,
           5,
           2,
           14,
           492,
           486,
           666,
           438,
           295,
           189,
           155,
           80,
           53,
           31,
           91,
           7,
           8,
           12,
           19,
           23,
           14,
           17,
           17,
           14,
           7,
           21,
           2,
           3,
           3,
           3,
           3,
           6,
           8,
           1,
           5,
           4,
           4,
           null,
           3,
           4,
           4,
           3,
           4,
           4,
           9,
           2,
           3,
           7,
           2,
           2,
           2,
           2,
           7,
           2,
           2,
           6,
           3,
           2,
           6,
           null,
           2,
           null,
           2,
           1,
           1,
           4,
           null,
           1,
           1,
           6,
           1,
           1,
           2,
           2,
           3,
           3,
           7,
           6,
           4,
           2,
           14,
           null,
           null,
           2,
           3,
           4,
           3,
           2,
           null,
           2,
           null,
           3,
           null,
           1,
           2,
           2,
           1,
           null,
           1,
           1,
           1,
           2,
           3,
           null,
           null,
           1,
           1,
           1,
           1,
           null,
           2,
           null,
           null,
           4,
           null,
           null,
           null,
           3,
           null,
           1,
           null,
           null,
           null,
           1,
           1,
           435,
           493,
           782,
           621,
           408,
           259,
           209,
           146,
           92,
           49,
           171,
           1,
           null,
           null,
           1,
           1,
           1,
           2,
           null,
           1,
           1,
           3,
           248,
           337,
           551,
           487,
           373,
           191,
           161,
           137,
           103,
           48,
           168,
           206,
           270,
           485,
           463,
           342,
           269,
           204,
           127,
           106,
           70,
           194,
           172,
           266,
           412,
           483,
           380,
           244,
           192,
           147,
           108,
           82,
           212,
           95,
           177,
           232,
           296,
           210,
           164,
           124,
           85,
           66,
           66,
           152,
           425,
           244,
           251,
           141,
           70,
           39,
           18,
           5,
           12,
           2,
           11,
           4,
           6,
           1,
           4,
           3,
           3,
           3,
           5,
           null,
           null,
           9,
           490.8928774928775,
           358.2256203115984,
           443.60628176723577,
           349.85797827903093,
           257.689960797682,
           173.64883435582823,
           129.88106565176022,
           94.24886128364389,
           70.39564524694636,
           51.24807395993837,
           146.0007863695937
          ]
         },
         "name": "",
         "parents": [
          "Under 20K",
          "20K-40K",
          "40K-60K",
          "60K-80K",
          "80K-100K",
          "100K-120K",
          "120K-140K",
          "140K-160K",
          "160K-180K",
          "180K-200K",
          "Over 200K",
          "Under 20K",
          "20K-40K",
          "40K-60K",
          "60K-80K",
          "80K-100K",
          "100K-120K",
          "120K-140K",
          "140K-160K",
          "160K-180K",
          "180K-200K",
          "Over 200K",
          "Under 20K",
          "20K-40K",
          "40K-60K",
          "60K-80K",
          "80K-100K",
          "100K-120K",
          "120K-140K",
          "140K-160K",
          "160K-180K",
          "180K-200K",
          "Over 200K",
          "Under 20K",
          "20K-40K",
          "40K-60K",
          "60K-80K",
          "80K-100K",
          "100K-120K",
          "120K-140K",
          "140K-160K",
          "160K-180K",
          "180K-200K",
          "Over 200K",
          "Under 20K",
          "20K-40K",
          "40K-60K",
          "60K-80K",
          "80K-100K",
          "100K-120K",
          "120K-140K",
          "140K-160K",
          "160K-180K",
          "180K-200K",
          "Over 200K",
          "Under 20K",
          "20K-40K",
          "40K-60K",
          "60K-80K",
          "80K-100K",
          "100K-120K",
          "120K-140K",
          "140K-160K",
          "160K-180K",
          "180K-200K",
          "Over 200K",
          "Under 20K",
          "20K-40K",
          "40K-60K",
          "60K-80K",
          "80K-100K",
          "100K-120K",
          "120K-140K",
          "140K-160K",
          "160K-180K",
          "180K-200K",
          "Over 200K",
          "Under 20K",
          "20K-40K",
          "40K-60K",
          "60K-80K",
          "80K-100K",
          "100K-120K",
          "120K-140K",
          "140K-160K",
          "160K-180K",
          "180K-200K",
          "Over 200K",
          "Under 20K",
          "20K-40K",
          "40K-60K",
          "60K-80K",
          "80K-100K",
          "100K-120K",
          "120K-140K",
          "140K-160K",
          "160K-180K",
          "180K-200K",
          "Over 200K",
          "Under 20K",
          "20K-40K",
          "40K-60K",
          "60K-80K",
          "80K-100K",
          "100K-120K",
          "120K-140K",
          "140K-160K",
          "160K-180K",
          "180K-200K",
          "Over 200K",
          "Under 20K",
          "20K-40K",
          "40K-60K",
          "60K-80K",
          "80K-100K",
          "100K-120K",
          "120K-140K",
          "140K-160K",
          "160K-180K",
          "180K-200K",
          "Over 200K",
          "Under 20K",
          "20K-40K",
          "40K-60K",
          "60K-80K",
          "80K-100K",
          "100K-120K",
          "120K-140K",
          "140K-160K",
          "160K-180K",
          "180K-200K",
          "Over 200K",
          "Under 20K",
          "20K-40K",
          "40K-60K",
          "60K-80K",
          "80K-100K",
          "100K-120K",
          "120K-140K",
          "140K-160K",
          "160K-180K",
          "180K-200K",
          "Over 200K",
          "Under 20K",
          "20K-40K",
          "40K-60K",
          "60K-80K",
          "80K-100K",
          "100K-120K",
          "120K-140K",
          "140K-160K",
          "160K-180K",
          "180K-200K",
          "Over 200K",
          "Under 20K",
          "20K-40K",
          "40K-60K",
          "60K-80K",
          "80K-100K",
          "100K-120K",
          "120K-140K",
          "140K-160K",
          "160K-180K",
          "180K-200K",
          "Over 200K",
          "Under 20K",
          "20K-40K",
          "40K-60K",
          "60K-80K",
          "80K-100K",
          "100K-120K",
          "120K-140K",
          "140K-160K",
          "160K-180K",
          "180K-200K",
          "Over 200K",
          "Under 20K",
          "20K-40K",
          "40K-60K",
          "60K-80K",
          "80K-100K",
          "100K-120K",
          "120K-140K",
          "140K-160K",
          "160K-180K",
          "180K-200K",
          "Over 200K",
          "Under 20K",
          "20K-40K",
          "40K-60K",
          "60K-80K",
          "80K-100K",
          "100K-120K",
          "120K-140K",
          "140K-160K",
          "160K-180K",
          "180K-200K",
          "Over 200K",
          "Under 20K",
          "20K-40K",
          "40K-60K",
          "60K-80K",
          "80K-100K",
          "100K-120K",
          "120K-140K",
          "140K-160K",
          "160K-180K",
          "180K-200K",
          "Over 200K",
          "Under 20K",
          "20K-40K",
          "40K-60K",
          "60K-80K",
          "80K-100K",
          "100K-120K",
          "120K-140K",
          "140K-160K",
          "160K-180K",
          "180K-200K",
          "Over 200K",
          "Under 20K",
          "20K-40K",
          "40K-60K",
          "60K-80K",
          "80K-100K",
          "100K-120K",
          "120K-140K",
          "140K-160K",
          "160K-180K",
          "180K-200K",
          "Over 200K",
          "Under 20K",
          "20K-40K",
          "40K-60K",
          "60K-80K",
          "80K-100K",
          "100K-120K",
          "120K-140K",
          "140K-160K",
          "160K-180K",
          "180K-200K",
          "Over 200K",
          "Under 20K",
          "20K-40K",
          "40K-60K",
          "60K-80K",
          "80K-100K",
          "100K-120K",
          "120K-140K",
          "140K-160K",
          "160K-180K",
          "180K-200K",
          "Over 200K",
          "Under 20K",
          "20K-40K",
          "40K-60K",
          "60K-80K",
          "80K-100K",
          "100K-120K",
          "120K-140K",
          "140K-160K",
          "160K-180K",
          "180K-200K",
          "Over 200K",
          "Under 20K",
          "20K-40K",
          "40K-60K",
          "60K-80K",
          "80K-100K",
          "100K-120K",
          "120K-140K",
          "140K-160K",
          "160K-180K",
          "180K-200K",
          "Over 200K",
          "Under 20K",
          "20K-40K",
          "40K-60K",
          "60K-80K",
          "80K-100K",
          "100K-120K",
          "120K-140K",
          "140K-160K",
          "160K-180K",
          "180K-200K",
          "Over 200K",
          "Under 20K",
          "20K-40K",
          "40K-60K",
          "60K-80K",
          "80K-100K",
          "100K-120K",
          "120K-140K",
          "140K-160K",
          "160K-180K",
          "180K-200K",
          "Over 200K",
          "Under 20K",
          "20K-40K",
          "40K-60K",
          "60K-80K",
          "80K-100K",
          "100K-120K",
          "120K-140K",
          "140K-160K",
          "160K-180K",
          "180K-200K",
          "Over 200K",
          "Under 20K",
          "20K-40K",
          "40K-60K",
          "60K-80K",
          "80K-100K",
          "100K-120K",
          "120K-140K",
          "140K-160K",
          "160K-180K",
          "180K-200K",
          "Over 200K",
          "Under 20K",
          "20K-40K",
          "40K-60K",
          "60K-80K",
          "80K-100K",
          "100K-120K",
          "120K-140K",
          "140K-160K",
          "160K-180K",
          "180K-200K",
          "Over 200K",
          "Under 20K",
          "20K-40K",
          "40K-60K",
          "60K-80K",
          "80K-100K",
          "100K-120K",
          "120K-140K",
          "140K-160K",
          "160K-180K",
          "180K-200K",
          "Over 200K",
          "Under 20K",
          "20K-40K",
          "40K-60K",
          "60K-80K",
          "80K-100K",
          "100K-120K",
          "120K-140K",
          "140K-160K",
          "160K-180K",
          "180K-200K",
          "Over 200K",
          "Under 20K",
          "20K-40K",
          "40K-60K",
          "60K-80K",
          "80K-100K",
          "100K-120K",
          "120K-140K",
          "140K-160K",
          "160K-180K",
          "180K-200K",
          "Over 200K",
          "Under 20K",
          "20K-40K",
          "40K-60K",
          "60K-80K",
          "80K-100K",
          "100K-120K",
          "120K-140K",
          "140K-160K",
          "160K-180K",
          "180K-200K",
          "Over 200K",
          "Under 20K",
          "20K-40K",
          "40K-60K",
          "60K-80K",
          "80K-100K",
          "100K-120K",
          "120K-140K",
          "140K-160K",
          "160K-180K",
          "180K-200K",
          "Over 200K",
          "Under 20K",
          "20K-40K",
          "40K-60K",
          "60K-80K",
          "80K-100K",
          "100K-120K",
          "120K-140K",
          "140K-160K",
          "160K-180K",
          "180K-200K",
          "Over 200K",
          "Under 20K",
          "20K-40K",
          "40K-60K",
          "60K-80K",
          "80K-100K",
          "100K-120K",
          "120K-140K",
          "140K-160K",
          "160K-180K",
          "180K-200K",
          "Over 200K",
          "Under 20K",
          "20K-40K",
          "40K-60K",
          "60K-80K",
          "80K-100K",
          "100K-120K",
          "120K-140K",
          "140K-160K",
          "160K-180K",
          "180K-200K",
          "Over 200K",
          "Under 20K",
          "20K-40K",
          "40K-60K",
          "60K-80K",
          "80K-100K",
          "100K-120K",
          "120K-140K",
          "140K-160K",
          "160K-180K",
          "180K-200K",
          "Over 200K",
          "Under 20K",
          "20K-40K",
          "40K-60K",
          "60K-80K",
          "80K-100K",
          "100K-120K",
          "120K-140K",
          "140K-160K",
          "160K-180K",
          "180K-200K",
          "Over 200K",
          "Under 20K",
          "20K-40K",
          "40K-60K",
          "60K-80K",
          "80K-100K",
          "100K-120K",
          "120K-140K",
          "140K-160K",
          "160K-180K",
          "180K-200K",
          "Over 200K",
          "Under 20K",
          "20K-40K",
          "40K-60K",
          "60K-80K",
          "80K-100K",
          "100K-120K",
          "120K-140K",
          "140K-160K",
          "160K-180K",
          "180K-200K",
          "Over 200K",
          "Under 20K",
          "20K-40K",
          "40K-60K",
          "60K-80K",
          "80K-100K",
          "100K-120K",
          "120K-140K",
          "140K-160K",
          "160K-180K",
          "180K-200K",
          "Over 200K",
          "Under 20K",
          "20K-40K",
          "40K-60K",
          "60K-80K",
          "80K-100K",
          "100K-120K",
          "120K-140K",
          "140K-160K",
          "160K-180K",
          "180K-200K",
          "Over 200K",
          "Under 20K",
          "20K-40K",
          "40K-60K",
          "60K-80K",
          "80K-100K",
          "100K-120K",
          "120K-140K",
          "140K-160K",
          "160K-180K",
          "180K-200K",
          "Over 200K",
          "Under 20K",
          "20K-40K",
          "40K-60K",
          "60K-80K",
          "80K-100K",
          "100K-120K",
          "120K-140K",
          "140K-160K",
          "160K-180K",
          "180K-200K",
          "Over 200K",
          "Under 20K",
          "20K-40K",
          "40K-60K",
          "60K-80K",
          "80K-100K",
          "100K-120K",
          "120K-140K",
          "140K-160K",
          "160K-180K",
          "180K-200K",
          "Over 200K",
          "Under 20K",
          "20K-40K",
          "40K-60K",
          "60K-80K",
          "80K-100K",
          "100K-120K",
          "120K-140K",
          "140K-160K",
          "160K-180K",
          "180K-200K",
          "Over 200K",
          "Under 20K",
          "20K-40K",
          "40K-60K",
          "60K-80K",
          "80K-100K",
          "100K-120K",
          "120K-140K",
          "140K-160K",
          "160K-180K",
          "180K-200K",
          "Over 200K",
          "Under 20K",
          "20K-40K",
          "40K-60K",
          "60K-80K",
          "80K-100K",
          "100K-120K",
          "120K-140K",
          "140K-160K",
          "160K-180K",
          "180K-200K",
          "Over 200K",
          "Under 20K",
          "20K-40K",
          "40K-60K",
          "60K-80K",
          "80K-100K",
          "100K-120K",
          "120K-140K",
          "140K-160K",
          "160K-180K",
          "180K-200K",
          "Over 200K",
          "Under 20K",
          "20K-40K",
          "40K-60K",
          "60K-80K",
          "80K-100K",
          "100K-120K",
          "120K-140K",
          "140K-160K",
          "160K-180K",
          "180K-200K",
          "Over 200K",
          "",
          "",
          "",
          "",
          "",
          "",
          "",
          "",
          "",
          "",
          ""
         ],
         "type": "treemap",
         "values": [
          589,
          371,
          347,
          169,
          125,
          71,
          35,
          32,
          14,
          10,
          25,
          209,
          301,
          532,
          553,
          484,
          351,
          252,
          185,
          138,
          106,
          305,
          82,
          124,
          202,
          291,
          218,
          160,
          118,
          101,
          68,
          55,
          159,
          99,
          125,
          240,
          299,
          281,
          174,
          134,
          110,
          86,
          62,
          194,
          53,
          85,
          173,
          192,
          213,
          139,
          101,
          87,
          55,
          51,
          126,
          36,
          60,
          117,
          169,
          144,
          92,
          77,
          49,
          50,
          44,
          103,
          97,
          111,
          278,
          268,
          308,
          192,
          152,
          137,
          108,
          74,
          221,
          29,
          52,
          110,
          140,
          139,
          125,
          79,
          64,
          61,
          39,
          109,
          31,
          41,
          114,
          124,
          125,
          77,
          58,
          66,
          45,
          33,
          112,
          30,
          47,
          103,
          121,
          117,
          116,
          84,
          57,
          51,
          44,
          112,
          13,
          17,
          50,
          59,
          62,
          43,
          39,
          32,
          34,
          24,
          65,
          927,
          648,
          623,
          388,
          259,
          140,
          93,
          53,
          22,
          23,
          39,
          58,
          91,
          175,
          216,
          166,
          169,
          119,
          89,
          78,
          62,
          204,
          8,
          17,
          35,
          55,
          68,
          38,
          41,
          32,
          30,
          13,
          47,
          12,
          22,
          69,
          72,
          84,
          63,
          58,
          44,
          48,
          23,
          79,
          26,
          31,
          74,
          110,
          101,
          89,
          83,
          68,
          65,
          26,
          100,
          21,
          19,
          51,
          57,
          74,
          30,
          41,
          50,
          29,
          27,
          69,
          38,
          40,
          97,
          101,
          113,
          108,
          88,
          71,
          66,
          46,
          129,
          10,
          12,
          34,
          39,
          49,
          38,
          23,
          22,
          26,
          12,
          59,
          7,
          20,
          27,
          48,
          42,
          35,
          29,
          31,
          20,
          17,
          42,
          6,
          10,
          17,
          43,
          46,
          29,
          32,
          21,
          22,
          13,
          48,
          6,
          9,
          14,
          16,
          29,
          16,
          13,
          9,
          13,
          7,
          24,
          735,
          558,
          644,
          444,
          263,
          196,
          130,
          70,
          41,
          31,
          79,
          19,
          35,
          39,
          79,
          57,
          61,
          38,
          44,
          32,
          27,
          98,
          2,
          6,
          14,
          14,
          15,
          11,
          12,
          10,
          15,
          4,
          14,
          2,
          9,
          18,
          26,
          26,
          17,
          20,
          18,
          12,
          5,
          25,
          7,
          11,
          16,
          18,
          21,
          11,
          9,
          20,
          16,
          11,
          23,
          1,
          3,
          7,
          11,
          17,
          15,
          15,
          10,
          9,
          6,
          13,
          12,
          14,
          16,
          37,
          43,
          26,
          29,
          28,
          18,
          15,
          41,
          3,
          5,
          7,
          19,
          11,
          17,
          17,
          10,
          8,
          4,
          19,
          4,
          4,
          7,
          14,
          16,
          9,
          9,
          4,
          14,
          7,
          16,
          1,
          1,
          12,
          10,
          14,
          18,
          9,
          12,
          11,
          4,
          22,
          2,
          1,
          3,
          5,
          9,
          5,
          3,
          5,
          5,
          2,
          14,
          492,
          486,
          666,
          438,
          295,
          189,
          155,
          80,
          53,
          31,
          91,
          7,
          8,
          12,
          19,
          23,
          14,
          17,
          17,
          14,
          7,
          21,
          2,
          3,
          3,
          3,
          3,
          6,
          8,
          1,
          5,
          4,
          4,
          0,
          3,
          4,
          4,
          3,
          4,
          4,
          9,
          2,
          3,
          7,
          2,
          2,
          2,
          2,
          7,
          2,
          2,
          6,
          3,
          2,
          6,
          0,
          2,
          0,
          2,
          1,
          1,
          4,
          0,
          1,
          1,
          6,
          1,
          1,
          2,
          2,
          3,
          3,
          7,
          6,
          4,
          2,
          14,
          0,
          0,
          2,
          3,
          4,
          3,
          2,
          0,
          2,
          0,
          3,
          0,
          1,
          2,
          2,
          1,
          0,
          1,
          1,
          1,
          2,
          3,
          0,
          0,
          1,
          1,
          1,
          1,
          0,
          2,
          0,
          0,
          4,
          0,
          0,
          0,
          3,
          0,
          1,
          0,
          0,
          0,
          1,
          1,
          435,
          493,
          782,
          621,
          408,
          259,
          209,
          146,
          92,
          49,
          171,
          1,
          0,
          0,
          1,
          1,
          1,
          2,
          0,
          1,
          1,
          3,
          248,
          337,
          551,
          487,
          373,
          191,
          161,
          137,
          103,
          48,
          168,
          206,
          270,
          485,
          463,
          342,
          269,
          204,
          127,
          106,
          70,
          194,
          172,
          266,
          412,
          483,
          380,
          244,
          192,
          147,
          108,
          82,
          212,
          95,
          177,
          232,
          296,
          210,
          164,
          124,
          85,
          66,
          66,
          152,
          425,
          244,
          251,
          141,
          70,
          39,
          18,
          5,
          12,
          2,
          11,
          4,
          6,
          1,
          4,
          3,
          3,
          3,
          5,
          0,
          0,
          9,
          5265,
          5199,
          7673,
          7182,
          5867,
          4075,
          3153,
          2415,
          1883,
          1298,
          3815
         ]
        }
       ],
       "layout": {
        "coloraxis": {
         "colorbar": {
          "title": {
           "text": "Number of Developers"
          }
         },
         "colorscale": [
          [
           0,
           "rgb(247,251,255)"
          ],
          [
           0.125,
           "rgb(222,235,247)"
          ],
          [
           0.25,
           "rgb(198,219,239)"
          ],
          [
           0.375,
           "rgb(158,202,225)"
          ],
          [
           0.5,
           "rgb(107,174,214)"
          ],
          [
           0.625,
           "rgb(66,146,198)"
          ],
          [
           0.75,
           "rgb(33,113,181)"
          ],
          [
           0.875,
           "rgb(8,81,156)"
          ],
          [
           1,
           "rgb(8,48,107)"
          ]
         ]
        },
        "legend": {
         "tracegroupgap": 0
        },
        "margin": {
         "b": 20,
         "l": 20,
         "r": 20,
         "t": 60
        },
        "template": {
         "data": {
          "bar": [
           {
            "error_x": {
             "color": "#2a3f5f"
            },
            "error_y": {
             "color": "#2a3f5f"
            },
            "marker": {
             "line": {
              "color": "#E5ECF6",
              "width": 0.5
             },
             "pattern": {
              "fillmode": "overlay",
              "size": 10,
              "solidity": 0.2
             }
            },
            "type": "bar"
           }
          ],
          "barpolar": [
           {
            "marker": {
             "line": {
              "color": "#E5ECF6",
              "width": 0.5
             },
             "pattern": {
              "fillmode": "overlay",
              "size": 10,
              "solidity": 0.2
             }
            },
            "type": "barpolar"
           }
          ],
          "carpet": [
           {
            "aaxis": {
             "endlinecolor": "#2a3f5f",
             "gridcolor": "white",
             "linecolor": "white",
             "minorgridcolor": "white",
             "startlinecolor": "#2a3f5f"
            },
            "baxis": {
             "endlinecolor": "#2a3f5f",
             "gridcolor": "white",
             "linecolor": "white",
             "minorgridcolor": "white",
             "startlinecolor": "#2a3f5f"
            },
            "type": "carpet"
           }
          ],
          "choropleth": [
           {
            "colorbar": {
             "outlinewidth": 0,
             "ticks": ""
            },
            "type": "choropleth"
           }
          ],
          "contour": [
           {
            "colorbar": {
             "outlinewidth": 0,
             "ticks": ""
            },
            "colorscale": [
             [
              0,
              "#0d0887"
             ],
             [
              0.1111111111111111,
              "#46039f"
             ],
             [
              0.2222222222222222,
              "#7201a8"
             ],
             [
              0.3333333333333333,
              "#9c179e"
             ],
             [
              0.4444444444444444,
              "#bd3786"
             ],
             [
              0.5555555555555556,
              "#d8576b"
             ],
             [
              0.6666666666666666,
              "#ed7953"
             ],
             [
              0.7777777777777778,
              "#fb9f3a"
             ],
             [
              0.8888888888888888,
              "#fdca26"
             ],
             [
              1,
              "#f0f921"
             ]
            ],
            "type": "contour"
           }
          ],
          "contourcarpet": [
           {
            "colorbar": {
             "outlinewidth": 0,
             "ticks": ""
            },
            "type": "contourcarpet"
           }
          ],
          "heatmap": [
           {
            "colorbar": {
             "outlinewidth": 0,
             "ticks": ""
            },
            "colorscale": [
             [
              0,
              "#0d0887"
             ],
             [
              0.1111111111111111,
              "#46039f"
             ],
             [
              0.2222222222222222,
              "#7201a8"
             ],
             [
              0.3333333333333333,
              "#9c179e"
             ],
             [
              0.4444444444444444,
              "#bd3786"
             ],
             [
              0.5555555555555556,
              "#d8576b"
             ],
             [
              0.6666666666666666,
              "#ed7953"
             ],
             [
              0.7777777777777778,
              "#fb9f3a"
             ],
             [
              0.8888888888888888,
              "#fdca26"
             ],
             [
              1,
              "#f0f921"
             ]
            ],
            "type": "heatmap"
           }
          ],
          "heatmapgl": [
           {
            "colorbar": {
             "outlinewidth": 0,
             "ticks": ""
            },
            "colorscale": [
             [
              0,
              "#0d0887"
             ],
             [
              0.1111111111111111,
              "#46039f"
             ],
             [
              0.2222222222222222,
              "#7201a8"
             ],
             [
              0.3333333333333333,
              "#9c179e"
             ],
             [
              0.4444444444444444,
              "#bd3786"
             ],
             [
              0.5555555555555556,
              "#d8576b"
             ],
             [
              0.6666666666666666,
              "#ed7953"
             ],
             [
              0.7777777777777778,
              "#fb9f3a"
             ],
             [
              0.8888888888888888,
              "#fdca26"
             ],
             [
              1,
              "#f0f921"
             ]
            ],
            "type": "heatmapgl"
           }
          ],
          "histogram": [
           {
            "marker": {
             "pattern": {
              "fillmode": "overlay",
              "size": 10,
              "solidity": 0.2
             }
            },
            "type": "histogram"
           }
          ],
          "histogram2d": [
           {
            "colorbar": {
             "outlinewidth": 0,
             "ticks": ""
            },
            "colorscale": [
             [
              0,
              "#0d0887"
             ],
             [
              0.1111111111111111,
              "#46039f"
             ],
             [
              0.2222222222222222,
              "#7201a8"
             ],
             [
              0.3333333333333333,
              "#9c179e"
             ],
             [
              0.4444444444444444,
              "#bd3786"
             ],
             [
              0.5555555555555556,
              "#d8576b"
             ],
             [
              0.6666666666666666,
              "#ed7953"
             ],
             [
              0.7777777777777778,
              "#fb9f3a"
             ],
             [
              0.8888888888888888,
              "#fdca26"
             ],
             [
              1,
              "#f0f921"
             ]
            ],
            "type": "histogram2d"
           }
          ],
          "histogram2dcontour": [
           {
            "colorbar": {
             "outlinewidth": 0,
             "ticks": ""
            },
            "colorscale": [
             [
              0,
              "#0d0887"
             ],
             [
              0.1111111111111111,
              "#46039f"
             ],
             [
              0.2222222222222222,
              "#7201a8"
             ],
             [
              0.3333333333333333,
              "#9c179e"
             ],
             [
              0.4444444444444444,
              "#bd3786"
             ],
             [
              0.5555555555555556,
              "#d8576b"
             ],
             [
              0.6666666666666666,
              "#ed7953"
             ],
             [
              0.7777777777777778,
              "#fb9f3a"
             ],
             [
              0.8888888888888888,
              "#fdca26"
             ],
             [
              1,
              "#f0f921"
             ]
            ],
            "type": "histogram2dcontour"
           }
          ],
          "mesh3d": [
           {
            "colorbar": {
             "outlinewidth": 0,
             "ticks": ""
            },
            "type": "mesh3d"
           }
          ],
          "parcoords": [
           {
            "line": {
             "colorbar": {
              "outlinewidth": 0,
              "ticks": ""
             }
            },
            "type": "parcoords"
           }
          ],
          "pie": [
           {
            "automargin": true,
            "type": "pie"
           }
          ],
          "scatter": [
           {
            "fillpattern": {
             "fillmode": "overlay",
             "size": 10,
             "solidity": 0.2
            },
            "type": "scatter"
           }
          ],
          "scatter3d": [
           {
            "line": {
             "colorbar": {
              "outlinewidth": 0,
              "ticks": ""
             }
            },
            "marker": {
             "colorbar": {
              "outlinewidth": 0,
              "ticks": ""
             }
            },
            "type": "scatter3d"
           }
          ],
          "scattercarpet": [
           {
            "marker": {
             "colorbar": {
              "outlinewidth": 0,
              "ticks": ""
             }
            },
            "type": "scattercarpet"
           }
          ],
          "scattergeo": [
           {
            "marker": {
             "colorbar": {
              "outlinewidth": 0,
              "ticks": ""
             }
            },
            "type": "scattergeo"
           }
          ],
          "scattergl": [
           {
            "marker": {
             "colorbar": {
              "outlinewidth": 0,
              "ticks": ""
             }
            },
            "type": "scattergl"
           }
          ],
          "scattermapbox": [
           {
            "marker": {
             "colorbar": {
              "outlinewidth": 0,
              "ticks": ""
             }
            },
            "type": "scattermapbox"
           }
          ],
          "scatterpolar": [
           {
            "marker": {
             "colorbar": {
              "outlinewidth": 0,
              "ticks": ""
             }
            },
            "type": "scatterpolar"
           }
          ],
          "scatterpolargl": [
           {
            "marker": {
             "colorbar": {
              "outlinewidth": 0,
              "ticks": ""
             }
            },
            "type": "scatterpolargl"
           }
          ],
          "scatterternary": [
           {
            "marker": {
             "colorbar": {
              "outlinewidth": 0,
              "ticks": ""
             }
            },
            "type": "scatterternary"
           }
          ],
          "surface": [
           {
            "colorbar": {
             "outlinewidth": 0,
             "ticks": ""
            },
            "colorscale": [
             [
              0,
              "#0d0887"
             ],
             [
              0.1111111111111111,
              "#46039f"
             ],
             [
              0.2222222222222222,
              "#7201a8"
             ],
             [
              0.3333333333333333,
              "#9c179e"
             ],
             [
              0.4444444444444444,
              "#bd3786"
             ],
             [
              0.5555555555555556,
              "#d8576b"
             ],
             [
              0.6666666666666666,
              "#ed7953"
             ],
             [
              0.7777777777777778,
              "#fb9f3a"
             ],
             [
              0.8888888888888888,
              "#fdca26"
             ],
             [
              1,
              "#f0f921"
             ]
            ],
            "type": "surface"
           }
          ],
          "table": [
           {
            "cells": {
             "fill": {
              "color": "#EBF0F8"
             },
             "line": {
              "color": "white"
             }
            },
            "header": {
             "fill": {
              "color": "#C8D4E3"
             },
             "line": {
              "color": "white"
             }
            },
            "type": "table"
           }
          ]
         },
         "layout": {
          "annotationdefaults": {
           "arrowcolor": "#2a3f5f",
           "arrowhead": 0,
           "arrowwidth": 1
          },
          "autotypenumbers": "strict",
          "coloraxis": {
           "colorbar": {
            "outlinewidth": 0,
            "ticks": ""
           }
          },
          "colorscale": {
           "diverging": [
            [
             0,
             "#8e0152"
            ],
            [
             0.1,
             "#c51b7d"
            ],
            [
             0.2,
             "#de77ae"
            ],
            [
             0.3,
             "#f1b6da"
            ],
            [
             0.4,
             "#fde0ef"
            ],
            [
             0.5,
             "#f7f7f7"
            ],
            [
             0.6,
             "#e6f5d0"
            ],
            [
             0.7,
             "#b8e186"
            ],
            [
             0.8,
             "#7fbc41"
            ],
            [
             0.9,
             "#4d9221"
            ],
            [
             1,
             "#276419"
            ]
           ],
           "sequential": [
            [
             0,
             "#0d0887"
            ],
            [
             0.1111111111111111,
             "#46039f"
            ],
            [
             0.2222222222222222,
             "#7201a8"
            ],
            [
             0.3333333333333333,
             "#9c179e"
            ],
            [
             0.4444444444444444,
             "#bd3786"
            ],
            [
             0.5555555555555556,
             "#d8576b"
            ],
            [
             0.6666666666666666,
             "#ed7953"
            ],
            [
             0.7777777777777778,
             "#fb9f3a"
            ],
            [
             0.8888888888888888,
             "#fdca26"
            ],
            [
             1,
             "#f0f921"
            ]
           ],
           "sequentialminus": [
            [
             0,
             "#0d0887"
            ],
            [
             0.1111111111111111,
             "#46039f"
            ],
            [
             0.2222222222222222,
             "#7201a8"
            ],
            [
             0.3333333333333333,
             "#9c179e"
            ],
            [
             0.4444444444444444,
             "#bd3786"
            ],
            [
             0.5555555555555556,
             "#d8576b"
            ],
            [
             0.6666666666666666,
             "#ed7953"
            ],
            [
             0.7777777777777778,
             "#fb9f3a"
            ],
            [
             0.8888888888888888,
             "#fdca26"
            ],
            [
             1,
             "#f0f921"
            ]
           ]
          },
          "colorway": [
           "#636efa",
           "#EF553B",
           "#00cc96",
           "#ab63fa",
           "#FFA15A",
           "#19d3f3",
           "#FF6692",
           "#B6E880",
           "#FF97FF",
           "#FECB52"
          ],
          "font": {
           "color": "#2a3f5f"
          },
          "geo": {
           "bgcolor": "white",
           "lakecolor": "white",
           "landcolor": "#E5ECF6",
           "showlakes": true,
           "showland": true,
           "subunitcolor": "white"
          },
          "hoverlabel": {
           "align": "left"
          },
          "hovermode": "closest",
          "mapbox": {
           "style": "light"
          },
          "paper_bgcolor": "white",
          "plot_bgcolor": "#E5ECF6",
          "polar": {
           "angularaxis": {
            "gridcolor": "white",
            "linecolor": "white",
            "ticks": ""
           },
           "bgcolor": "#E5ECF6",
           "radialaxis": {
            "gridcolor": "white",
            "linecolor": "white",
            "ticks": ""
           }
          },
          "scene": {
           "xaxis": {
            "backgroundcolor": "#E5ECF6",
            "gridcolor": "white",
            "gridwidth": 2,
            "linecolor": "white",
            "showbackground": true,
            "ticks": "",
            "zerolinecolor": "white"
           },
           "yaxis": {
            "backgroundcolor": "#E5ECF6",
            "gridcolor": "white",
            "gridwidth": 2,
            "linecolor": "white",
            "showbackground": true,
            "ticks": "",
            "zerolinecolor": "white"
           },
           "zaxis": {
            "backgroundcolor": "#E5ECF6",
            "gridcolor": "white",
            "gridwidth": 2,
            "linecolor": "white",
            "showbackground": true,
            "ticks": "",
            "zerolinecolor": "white"
           }
          },
          "shapedefaults": {
           "line": {
            "color": "#2a3f5f"
           }
          },
          "ternary": {
           "aaxis": {
            "gridcolor": "white",
            "linecolor": "white",
            "ticks": ""
           },
           "baxis": {
            "gridcolor": "white",
            "linecolor": "white",
            "ticks": ""
           },
           "bgcolor": "#E5ECF6",
           "caxis": {
            "gridcolor": "white",
            "linecolor": "white",
            "ticks": ""
           }
          },
          "title": {
           "x": 0.05
          },
          "xaxis": {
           "automargin": true,
           "gridcolor": "white",
           "linecolor": "white",
           "ticks": "",
           "title": {
            "standoff": 15
           },
           "zerolinecolor": "white",
           "zerolinewidth": 2
          },
          "yaxis": {
           "automargin": true,
           "gridcolor": "white",
           "linecolor": "white",
           "ticks": "",
           "title": {
            "standoff": 15
           },
           "zerolinecolor": "white",
           "zerolinewidth": 2
          }
         }
        },
        "title": {
         "font": {
          "size": 24
         },
         "text": "Treemap of Salary Distribution by YearsCodePro",
         "x": 0.5
        },
        "treemapcolorway": [
         "rgb(247,251,255)",
         "rgb(222,235,247)",
         "rgb(198,219,239)",
         "rgb(158,202,225)",
         "rgb(107,174,214)",
         "rgb(66,146,198)",
         "rgb(33,113,181)",
         "rgb(8,81,156)",
         "rgb(8,48,107)"
        ]
       }
      }
     },
     "metadata": {},
     "output_type": "display_data"
    }
   ],
   "source": [
    "salary_treemap(df, 'YearsCodePro')"
   ]
  },
  {
   "cell_type": "code",
   "execution_count": 81,
   "metadata": {},
   "outputs": [
    {
     "name": "stderr",
     "output_type": "stream",
     "text": [
      "C:\\Users\\ntlmp\\AppData\\Roaming\\Python\\Python310\\site-packages\\plotly\\express\\_core.py:1706: FutureWarning:\n",
      "\n",
      "The default of observed=False is deprecated and will be changed to True in a future version of pandas. Pass observed=False to retain current behavior or observed=True to adopt the future default and silence this warning.\n",
      "\n",
      "C:\\Users\\ntlmp\\AppData\\Roaming\\Python\\Python310\\site-packages\\plotly\\express\\_core.py:1706: FutureWarning:\n",
      "\n",
      "The default of observed=False is deprecated and will be changed to True in a future version of pandas. Pass observed=False to retain current behavior or observed=True to adopt the future default and silence this warning.\n",
      "\n"
     ]
    },
    {
     "data": {
      "application/vnd.plotly.v1+json": {
       "config": {
        "plotlyServerURL": "https://plot.ly"
       },
       "data": [
        {
         "branchvalues": "total",
         "customdata": [
          [
           393
          ],
          [
           530
          ],
          [
           897
          ],
          [
           939
          ],
          [
           688
          ],
          [
           526
          ],
          [
           418
          ],
          [
           324
          ],
          [
           255
          ],
          [
           157
          ],
          [
           575
          ],
          [
           680
          ],
          [
           562
          ],
          [
           733
          ],
          [
           570
          ],
          [
           439
          ],
          [
           278
          ],
          [
           184
          ],
          [
           145
          ],
          [
           96
          ],
          [
           54
          ],
          [
           145
          ],
          [
           348
          ],
          [
           482
          ],
          [
           612
          ],
          [
           702
          ],
          [
           638
          ],
          [
           560
          ],
          [
           522
          ],
          [
           440
          ],
          [
           355
          ],
          [
           265
          ],
          [
           1175
          ],
          [
           875
          ],
          [
           930
          ],
          [
           1574
          ],
          [
           1561
          ],
          [
           1316
          ],
          [
           883
          ],
          [
           643
          ],
          [
           500
          ],
          [
           387
          ],
          [
           279
          ],
          [
           570
          ],
          [
           823
          ],
          [
           682
          ],
          [
           786
          ],
          [
           588
          ],
          [
           450
          ],
          [
           251
          ],
          [
           229
          ],
          [
           118
          ],
          [
           96
          ],
          [
           72
          ],
          [
           223
          ],
          [
           1341
          ],
          [
           1184
          ],
          [
           1899
          ],
          [
           1702
          ],
          [
           1337
          ],
          [
           865
          ],
          [
           573
          ],
          [
           429
          ],
          [
           335
          ],
          [
           221
          ],
          [
           424
          ],
          [
           115
          ],
          [
           189
          ],
          [
           275
          ],
          [
           287
          ],
          [
           297
          ],
          [
           190
          ],
          [
           148
          ],
          [
           130
          ],
          [
           99
          ],
          [
           67
          ],
          [
           266
          ],
          [
           304
          ],
          [
           341
          ],
          [
           574
          ],
          [
           515
          ],
          [
           447
          ],
          [
           319
          ],
          [
           229
          ],
          [
           197
          ],
          [
           154
          ],
          [
           113
          ],
          [
           257
          ],
          [
           83
          ],
          [
           82
          ],
          [
           99
          ],
          [
           78
          ],
          [
           66
          ],
          [
           58
          ],
          [
           48
          ],
          [
           25
          ],
          [
           19
          ],
          [
           6
          ],
          [
           18
          ],
          [
           336
          ],
          [
           232
          ],
          [
           249
          ],
          [
           264
          ],
          [
           204
          ],
          [
           157
          ],
          [
           169
          ],
          [
           113
          ],
          [
           93
          ],
          [
           65
          ],
          [
           172
          ],
          [
           793.6228765571914
          ],
          [
           723.7242040659762
          ],
          [
           1155.471291244479
          ],
          [
           1082.7182903136274
          ],
          [
           871.986399183951
          ],
          [
           593.1854661120626
          ],
          [
           436.4505216566551
          ],
          [
           345.5881866997109
          ],
          [
           272.10322922181047
          ],
          [
           193.36027713625867
          ],
          [
           641.4099346405229
          ]
         ],
         "domain": {
          "x": [
           0,
           1
          ],
          "y": [
           0,
           1
          ]
         },
         "hovertemplate": "labels=%{label}<br>Counts_sum=%{value}<br>parent=%{parent}<br>id=%{id}<br>Number of Developers=%{color}<extra></extra>",
         "ids": [
          "Under 20K/1,000 to 4,999 employees",
          "20K-40K/1,000 to 4,999 employees",
          "40K-60K/1,000 to 4,999 employees",
          "60K-80K/1,000 to 4,999 employees",
          "80K-100K/1,000 to 4,999 employees",
          "100K-120K/1,000 to 4,999 employees",
          "120K-140K/1,000 to 4,999 employees",
          "140K-160K/1,000 to 4,999 employees",
          "160K-180K/1,000 to 4,999 employees",
          "180K-200K/1,000 to 4,999 employees",
          "Over 200K/1,000 to 4,999 employees",
          "Under 20K/10 to 19 employees",
          "20K-40K/10 to 19 employees",
          "40K-60K/10 to 19 employees",
          "60K-80K/10 to 19 employees",
          "80K-100K/10 to 19 employees",
          "100K-120K/10 to 19 employees",
          "120K-140K/10 to 19 employees",
          "140K-160K/10 to 19 employees",
          "160K-180K/10 to 19 employees",
          "180K-200K/10 to 19 employees",
          "Over 200K/10 to 19 employees",
          "Under 20K/10,000 or more employees",
          "20K-40K/10,000 or more employees",
          "40K-60K/10,000 or more employees",
          "60K-80K/10,000 or more employees",
          "80K-100K/10,000 or more employees",
          "100K-120K/10,000 or more employees",
          "120K-140K/10,000 or more employees",
          "140K-160K/10,000 or more employees",
          "160K-180K/10,000 or more employees",
          "180K-200K/10,000 or more employees",
          "Over 200K/10,000 or more employees",
          "Under 20K/100 to 499 employees",
          "20K-40K/100 to 499 employees",
          "40K-60K/100 to 499 employees",
          "60K-80K/100 to 499 employees",
          "80K-100K/100 to 499 employees",
          "100K-120K/100 to 499 employees",
          "120K-140K/100 to 499 employees",
          "140K-160K/100 to 499 employees",
          "160K-180K/100 to 499 employees",
          "180K-200K/100 to 499 employees",
          "Over 200K/100 to 499 employees",
          "Under 20K/2 to 9 employees",
          "20K-40K/2 to 9 employees",
          "40K-60K/2 to 9 employees",
          "60K-80K/2 to 9 employees",
          "80K-100K/2 to 9 employees",
          "100K-120K/2 to 9 employees",
          "120K-140K/2 to 9 employees",
          "140K-160K/2 to 9 employees",
          "160K-180K/2 to 9 employees",
          "180K-200K/2 to 9 employees",
          "Over 200K/2 to 9 employees",
          "Under 20K/20 to 99 employees",
          "20K-40K/20 to 99 employees",
          "40K-60K/20 to 99 employees",
          "60K-80K/20 to 99 employees",
          "80K-100K/20 to 99 employees",
          "100K-120K/20 to 99 employees",
          "120K-140K/20 to 99 employees",
          "140K-160K/20 to 99 employees",
          "160K-180K/20 to 99 employees",
          "180K-200K/20 to 99 employees",
          "Over 200K/20 to 99 employees",
          "Under 20K/5,000 to 9,999 employees",
          "20K-40K/5,000 to 9,999 employees",
          "40K-60K/5,000 to 9,999 employees",
          "60K-80K/5,000 to 9,999 employees",
          "80K-100K/5,000 to 9,999 employees",
          "100K-120K/5,000 to 9,999 employees",
          "120K-140K/5,000 to 9,999 employees",
          "140K-160K/5,000 to 9,999 employees",
          "160K-180K/5,000 to 9,999 employees",
          "180K-200K/5,000 to 9,999 employees",
          "Over 200K/5,000 to 9,999 employees",
          "Under 20K/500 to 999 employees",
          "20K-40K/500 to 999 employees",
          "40K-60K/500 to 999 employees",
          "60K-80K/500 to 999 employees",
          "80K-100K/500 to 999 employees",
          "100K-120K/500 to 999 employees",
          "120K-140K/500 to 999 employees",
          "140K-160K/500 to 999 employees",
          "160K-180K/500 to 999 employees",
          "180K-200K/500 to 999 employees",
          "Over 200K/500 to 999 employees",
          "Under 20K/I don’t know",
          "20K-40K/I don’t know",
          "40K-60K/I don’t know",
          "60K-80K/I don’t know",
          "80K-100K/I don’t know",
          "100K-120K/I don’t know",
          "120K-140K/I don’t know",
          "140K-160K/I don’t know",
          "160K-180K/I don’t know",
          "180K-200K/I don’t know",
          "Over 200K/I don’t know",
          "Under 20K/Just me - I am a freelancer, sole proprietor, etc.",
          "20K-40K/Just me - I am a freelancer, sole proprietor, etc.",
          "40K-60K/Just me - I am a freelancer, sole proprietor, etc.",
          "60K-80K/Just me - I am a freelancer, sole proprietor, etc.",
          "80K-100K/Just me - I am a freelancer, sole proprietor, etc.",
          "100K-120K/Just me - I am a freelancer, sole proprietor, etc.",
          "120K-140K/Just me - I am a freelancer, sole proprietor, etc.",
          "140K-160K/Just me - I am a freelancer, sole proprietor, etc.",
          "160K-180K/Just me - I am a freelancer, sole proprietor, etc.",
          "180K-200K/Just me - I am a freelancer, sole proprietor, etc.",
          "Over 200K/Just me - I am a freelancer, sole proprietor, etc.",
          "Under 20K",
          "20K-40K",
          "40K-60K",
          "60K-80K",
          "80K-100K",
          "100K-120K",
          "120K-140K",
          "140K-160K",
          "160K-180K",
          "180K-200K",
          "Over 200K"
         ],
         "labels": [
          "1,000 to 4,999 employees",
          "1,000 to 4,999 employees",
          "1,000 to 4,999 employees",
          "1,000 to 4,999 employees",
          "1,000 to 4,999 employees",
          "1,000 to 4,999 employees",
          "1,000 to 4,999 employees",
          "1,000 to 4,999 employees",
          "1,000 to 4,999 employees",
          "1,000 to 4,999 employees",
          "1,000 to 4,999 employees",
          "10 to 19 employees",
          "10 to 19 employees",
          "10 to 19 employees",
          "10 to 19 employees",
          "10 to 19 employees",
          "10 to 19 employees",
          "10 to 19 employees",
          "10 to 19 employees",
          "10 to 19 employees",
          "10 to 19 employees",
          "10 to 19 employees",
          "10,000 or more employees",
          "10,000 or more employees",
          "10,000 or more employees",
          "10,000 or more employees",
          "10,000 or more employees",
          "10,000 or more employees",
          "10,000 or more employees",
          "10,000 or more employees",
          "10,000 or more employees",
          "10,000 or more employees",
          "10,000 or more employees",
          "100 to 499 employees",
          "100 to 499 employees",
          "100 to 499 employees",
          "100 to 499 employees",
          "100 to 499 employees",
          "100 to 499 employees",
          "100 to 499 employees",
          "100 to 499 employees",
          "100 to 499 employees",
          "100 to 499 employees",
          "100 to 499 employees",
          "2 to 9 employees",
          "2 to 9 employees",
          "2 to 9 employees",
          "2 to 9 employees",
          "2 to 9 employees",
          "2 to 9 employees",
          "2 to 9 employees",
          "2 to 9 employees",
          "2 to 9 employees",
          "2 to 9 employees",
          "2 to 9 employees",
          "20 to 99 employees",
          "20 to 99 employees",
          "20 to 99 employees",
          "20 to 99 employees",
          "20 to 99 employees",
          "20 to 99 employees",
          "20 to 99 employees",
          "20 to 99 employees",
          "20 to 99 employees",
          "20 to 99 employees",
          "20 to 99 employees",
          "5,000 to 9,999 employees",
          "5,000 to 9,999 employees",
          "5,000 to 9,999 employees",
          "5,000 to 9,999 employees",
          "5,000 to 9,999 employees",
          "5,000 to 9,999 employees",
          "5,000 to 9,999 employees",
          "5,000 to 9,999 employees",
          "5,000 to 9,999 employees",
          "5,000 to 9,999 employees",
          "5,000 to 9,999 employees",
          "500 to 999 employees",
          "500 to 999 employees",
          "500 to 999 employees",
          "500 to 999 employees",
          "500 to 999 employees",
          "500 to 999 employees",
          "500 to 999 employees",
          "500 to 999 employees",
          "500 to 999 employees",
          "500 to 999 employees",
          "500 to 999 employees",
          "I don’t know",
          "I don’t know",
          "I don’t know",
          "I don’t know",
          "I don’t know",
          "I don’t know",
          "I don’t know",
          "I don’t know",
          "I don’t know",
          "I don’t know",
          "I don’t know",
          "Just me - I am a freelancer, sole proprietor, etc.",
          "Just me - I am a freelancer, sole proprietor, etc.",
          "Just me - I am a freelancer, sole proprietor, etc.",
          "Just me - I am a freelancer, sole proprietor, etc.",
          "Just me - I am a freelancer, sole proprietor, etc.",
          "Just me - I am a freelancer, sole proprietor, etc.",
          "Just me - I am a freelancer, sole proprietor, etc.",
          "Just me - I am a freelancer, sole proprietor, etc.",
          "Just me - I am a freelancer, sole proprietor, etc.",
          "Just me - I am a freelancer, sole proprietor, etc.",
          "Just me - I am a freelancer, sole proprietor, etc.",
          "Under 20K",
          "20K-40K",
          "40K-60K",
          "60K-80K",
          "80K-100K",
          "100K-120K",
          "120K-140K",
          "140K-160K",
          "160K-180K",
          "180K-200K",
          "Over 200K"
         ],
         "marker": {
          "coloraxis": "coloraxis",
          "colors": [
           393,
           530,
           897,
           939,
           688,
           526,
           418,
           324,
           255,
           157,
           575,
           680,
           562,
           733,
           570,
           439,
           278,
           184,
           145,
           96,
           54,
           145,
           348,
           482,
           612,
           702,
           638,
           560,
           522,
           440,
           355,
           265,
           1175,
           875,
           930,
           1574,
           1561,
           1316,
           883,
           643,
           500,
           387,
           279,
           570,
           823,
           682,
           786,
           588,
           450,
           251,
           229,
           118,
           96,
           72,
           223,
           1341,
           1184,
           1899,
           1702,
           1337,
           865,
           573,
           429,
           335,
           221,
           424,
           115,
           189,
           275,
           287,
           297,
           190,
           148,
           130,
           99,
           67,
           266,
           304,
           341,
           574,
           515,
           447,
           319,
           229,
           197,
           154,
           113,
           257,
           83,
           82,
           99,
           78,
           66,
           58,
           48,
           25,
           19,
           6,
           18,
           336,
           232,
           249,
           264,
           204,
           157,
           169,
           113,
           93,
           65,
           172,
           793.6228765571914,
           723.7242040659762,
           1155.471291244479,
           1082.7182903136274,
           871.986399183951,
           593.1854661120626,
           436.4505216566551,
           345.5881866997109,
           272.10322922181047,
           193.36027713625867,
           641.4099346405229
          ]
         },
         "name": "",
         "parents": [
          "Under 20K",
          "20K-40K",
          "40K-60K",
          "60K-80K",
          "80K-100K",
          "100K-120K",
          "120K-140K",
          "140K-160K",
          "160K-180K",
          "180K-200K",
          "Over 200K",
          "Under 20K",
          "20K-40K",
          "40K-60K",
          "60K-80K",
          "80K-100K",
          "100K-120K",
          "120K-140K",
          "140K-160K",
          "160K-180K",
          "180K-200K",
          "Over 200K",
          "Under 20K",
          "20K-40K",
          "40K-60K",
          "60K-80K",
          "80K-100K",
          "100K-120K",
          "120K-140K",
          "140K-160K",
          "160K-180K",
          "180K-200K",
          "Over 200K",
          "Under 20K",
          "20K-40K",
          "40K-60K",
          "60K-80K",
          "80K-100K",
          "100K-120K",
          "120K-140K",
          "140K-160K",
          "160K-180K",
          "180K-200K",
          "Over 200K",
          "Under 20K",
          "20K-40K",
          "40K-60K",
          "60K-80K",
          "80K-100K",
          "100K-120K",
          "120K-140K",
          "140K-160K",
          "160K-180K",
          "180K-200K",
          "Over 200K",
          "Under 20K",
          "20K-40K",
          "40K-60K",
          "60K-80K",
          "80K-100K",
          "100K-120K",
          "120K-140K",
          "140K-160K",
          "160K-180K",
          "180K-200K",
          "Over 200K",
          "Under 20K",
          "20K-40K",
          "40K-60K",
          "60K-80K",
          "80K-100K",
          "100K-120K",
          "120K-140K",
          "140K-160K",
          "160K-180K",
          "180K-200K",
          "Over 200K",
          "Under 20K",
          "20K-40K",
          "40K-60K",
          "60K-80K",
          "80K-100K",
          "100K-120K",
          "120K-140K",
          "140K-160K",
          "160K-180K",
          "180K-200K",
          "Over 200K",
          "Under 20K",
          "20K-40K",
          "40K-60K",
          "60K-80K",
          "80K-100K",
          "100K-120K",
          "120K-140K",
          "140K-160K",
          "160K-180K",
          "180K-200K",
          "Over 200K",
          "Under 20K",
          "20K-40K",
          "40K-60K",
          "60K-80K",
          "80K-100K",
          "100K-120K",
          "120K-140K",
          "140K-160K",
          "160K-180K",
          "180K-200K",
          "Over 200K",
          "",
          "",
          "",
          "",
          "",
          "",
          "",
          "",
          "",
          "",
          ""
         ],
         "type": "treemap",
         "values": [
          393,
          530,
          897,
          939,
          688,
          526,
          418,
          324,
          255,
          157,
          575,
          680,
          562,
          733,
          570,
          439,
          278,
          184,
          145,
          96,
          54,
          145,
          348,
          482,
          612,
          702,
          638,
          560,
          522,
          440,
          355,
          265,
          1175,
          875,
          930,
          1574,
          1561,
          1316,
          883,
          643,
          500,
          387,
          279,
          570,
          823,
          682,
          786,
          588,
          450,
          251,
          229,
          118,
          96,
          72,
          223,
          1341,
          1184,
          1899,
          1702,
          1337,
          865,
          573,
          429,
          335,
          221,
          424,
          115,
          189,
          275,
          287,
          297,
          190,
          148,
          130,
          99,
          67,
          266,
          304,
          341,
          574,
          515,
          447,
          319,
          229,
          197,
          154,
          113,
          257,
          83,
          82,
          99,
          78,
          66,
          58,
          48,
          25,
          19,
          6,
          18,
          336,
          232,
          249,
          264,
          204,
          157,
          169,
          113,
          93,
          65,
          172,
          5298,
          5214,
          7698,
          7206,
          5882,
          4087,
          3163,
          2421,
          1889,
          1299,
          3825
         ]
        }
       ],
       "layout": {
        "coloraxis": {
         "colorbar": {
          "title": {
           "text": "Number of Developers"
          }
         },
         "colorscale": [
          [
           0,
           "rgb(247,251,255)"
          ],
          [
           0.125,
           "rgb(222,235,247)"
          ],
          [
           0.25,
           "rgb(198,219,239)"
          ],
          [
           0.375,
           "rgb(158,202,225)"
          ],
          [
           0.5,
           "rgb(107,174,214)"
          ],
          [
           0.625,
           "rgb(66,146,198)"
          ],
          [
           0.75,
           "rgb(33,113,181)"
          ],
          [
           0.875,
           "rgb(8,81,156)"
          ],
          [
           1,
           "rgb(8,48,107)"
          ]
         ]
        },
        "legend": {
         "tracegroupgap": 0
        },
        "margin": {
         "b": 20,
         "l": 20,
         "r": 20,
         "t": 60
        },
        "template": {
         "data": {
          "bar": [
           {
            "error_x": {
             "color": "#2a3f5f"
            },
            "error_y": {
             "color": "#2a3f5f"
            },
            "marker": {
             "line": {
              "color": "#E5ECF6",
              "width": 0.5
             },
             "pattern": {
              "fillmode": "overlay",
              "size": 10,
              "solidity": 0.2
             }
            },
            "type": "bar"
           }
          ],
          "barpolar": [
           {
            "marker": {
             "line": {
              "color": "#E5ECF6",
              "width": 0.5
             },
             "pattern": {
              "fillmode": "overlay",
              "size": 10,
              "solidity": 0.2
             }
            },
            "type": "barpolar"
           }
          ],
          "carpet": [
           {
            "aaxis": {
             "endlinecolor": "#2a3f5f",
             "gridcolor": "white",
             "linecolor": "white",
             "minorgridcolor": "white",
             "startlinecolor": "#2a3f5f"
            },
            "baxis": {
             "endlinecolor": "#2a3f5f",
             "gridcolor": "white",
             "linecolor": "white",
             "minorgridcolor": "white",
             "startlinecolor": "#2a3f5f"
            },
            "type": "carpet"
           }
          ],
          "choropleth": [
           {
            "colorbar": {
             "outlinewidth": 0,
             "ticks": ""
            },
            "type": "choropleth"
           }
          ],
          "contour": [
           {
            "colorbar": {
             "outlinewidth": 0,
             "ticks": ""
            },
            "colorscale": [
             [
              0,
              "#0d0887"
             ],
             [
              0.1111111111111111,
              "#46039f"
             ],
             [
              0.2222222222222222,
              "#7201a8"
             ],
             [
              0.3333333333333333,
              "#9c179e"
             ],
             [
              0.4444444444444444,
              "#bd3786"
             ],
             [
              0.5555555555555556,
              "#d8576b"
             ],
             [
              0.6666666666666666,
              "#ed7953"
             ],
             [
              0.7777777777777778,
              "#fb9f3a"
             ],
             [
              0.8888888888888888,
              "#fdca26"
             ],
             [
              1,
              "#f0f921"
             ]
            ],
            "type": "contour"
           }
          ],
          "contourcarpet": [
           {
            "colorbar": {
             "outlinewidth": 0,
             "ticks": ""
            },
            "type": "contourcarpet"
           }
          ],
          "heatmap": [
           {
            "colorbar": {
             "outlinewidth": 0,
             "ticks": ""
            },
            "colorscale": [
             [
              0,
              "#0d0887"
             ],
             [
              0.1111111111111111,
              "#46039f"
             ],
             [
              0.2222222222222222,
              "#7201a8"
             ],
             [
              0.3333333333333333,
              "#9c179e"
             ],
             [
              0.4444444444444444,
              "#bd3786"
             ],
             [
              0.5555555555555556,
              "#d8576b"
             ],
             [
              0.6666666666666666,
              "#ed7953"
             ],
             [
              0.7777777777777778,
              "#fb9f3a"
             ],
             [
              0.8888888888888888,
              "#fdca26"
             ],
             [
              1,
              "#f0f921"
             ]
            ],
            "type": "heatmap"
           }
          ],
          "heatmapgl": [
           {
            "colorbar": {
             "outlinewidth": 0,
             "ticks": ""
            },
            "colorscale": [
             [
              0,
              "#0d0887"
             ],
             [
              0.1111111111111111,
              "#46039f"
             ],
             [
              0.2222222222222222,
              "#7201a8"
             ],
             [
              0.3333333333333333,
              "#9c179e"
             ],
             [
              0.4444444444444444,
              "#bd3786"
             ],
             [
              0.5555555555555556,
              "#d8576b"
             ],
             [
              0.6666666666666666,
              "#ed7953"
             ],
             [
              0.7777777777777778,
              "#fb9f3a"
             ],
             [
              0.8888888888888888,
              "#fdca26"
             ],
             [
              1,
              "#f0f921"
             ]
            ],
            "type": "heatmapgl"
           }
          ],
          "histogram": [
           {
            "marker": {
             "pattern": {
              "fillmode": "overlay",
              "size": 10,
              "solidity": 0.2
             }
            },
            "type": "histogram"
           }
          ],
          "histogram2d": [
           {
            "colorbar": {
             "outlinewidth": 0,
             "ticks": ""
            },
            "colorscale": [
             [
              0,
              "#0d0887"
             ],
             [
              0.1111111111111111,
              "#46039f"
             ],
             [
              0.2222222222222222,
              "#7201a8"
             ],
             [
              0.3333333333333333,
              "#9c179e"
             ],
             [
              0.4444444444444444,
              "#bd3786"
             ],
             [
              0.5555555555555556,
              "#d8576b"
             ],
             [
              0.6666666666666666,
              "#ed7953"
             ],
             [
              0.7777777777777778,
              "#fb9f3a"
             ],
             [
              0.8888888888888888,
              "#fdca26"
             ],
             [
              1,
              "#f0f921"
             ]
            ],
            "type": "histogram2d"
           }
          ],
          "histogram2dcontour": [
           {
            "colorbar": {
             "outlinewidth": 0,
             "ticks": ""
            },
            "colorscale": [
             [
              0,
              "#0d0887"
             ],
             [
              0.1111111111111111,
              "#46039f"
             ],
             [
              0.2222222222222222,
              "#7201a8"
             ],
             [
              0.3333333333333333,
              "#9c179e"
             ],
             [
              0.4444444444444444,
              "#bd3786"
             ],
             [
              0.5555555555555556,
              "#d8576b"
             ],
             [
              0.6666666666666666,
              "#ed7953"
             ],
             [
              0.7777777777777778,
              "#fb9f3a"
             ],
             [
              0.8888888888888888,
              "#fdca26"
             ],
             [
              1,
              "#f0f921"
             ]
            ],
            "type": "histogram2dcontour"
           }
          ],
          "mesh3d": [
           {
            "colorbar": {
             "outlinewidth": 0,
             "ticks": ""
            },
            "type": "mesh3d"
           }
          ],
          "parcoords": [
           {
            "line": {
             "colorbar": {
              "outlinewidth": 0,
              "ticks": ""
             }
            },
            "type": "parcoords"
           }
          ],
          "pie": [
           {
            "automargin": true,
            "type": "pie"
           }
          ],
          "scatter": [
           {
            "fillpattern": {
             "fillmode": "overlay",
             "size": 10,
             "solidity": 0.2
            },
            "type": "scatter"
           }
          ],
          "scatter3d": [
           {
            "line": {
             "colorbar": {
              "outlinewidth": 0,
              "ticks": ""
             }
            },
            "marker": {
             "colorbar": {
              "outlinewidth": 0,
              "ticks": ""
             }
            },
            "type": "scatter3d"
           }
          ],
          "scattercarpet": [
           {
            "marker": {
             "colorbar": {
              "outlinewidth": 0,
              "ticks": ""
             }
            },
            "type": "scattercarpet"
           }
          ],
          "scattergeo": [
           {
            "marker": {
             "colorbar": {
              "outlinewidth": 0,
              "ticks": ""
             }
            },
            "type": "scattergeo"
           }
          ],
          "scattergl": [
           {
            "marker": {
             "colorbar": {
              "outlinewidth": 0,
              "ticks": ""
             }
            },
            "type": "scattergl"
           }
          ],
          "scattermapbox": [
           {
            "marker": {
             "colorbar": {
              "outlinewidth": 0,
              "ticks": ""
             }
            },
            "type": "scattermapbox"
           }
          ],
          "scatterpolar": [
           {
            "marker": {
             "colorbar": {
              "outlinewidth": 0,
              "ticks": ""
             }
            },
            "type": "scatterpolar"
           }
          ],
          "scatterpolargl": [
           {
            "marker": {
             "colorbar": {
              "outlinewidth": 0,
              "ticks": ""
             }
            },
            "type": "scatterpolargl"
           }
          ],
          "scatterternary": [
           {
            "marker": {
             "colorbar": {
              "outlinewidth": 0,
              "ticks": ""
             }
            },
            "type": "scatterternary"
           }
          ],
          "surface": [
           {
            "colorbar": {
             "outlinewidth": 0,
             "ticks": ""
            },
            "colorscale": [
             [
              0,
              "#0d0887"
             ],
             [
              0.1111111111111111,
              "#46039f"
             ],
             [
              0.2222222222222222,
              "#7201a8"
             ],
             [
              0.3333333333333333,
              "#9c179e"
             ],
             [
              0.4444444444444444,
              "#bd3786"
             ],
             [
              0.5555555555555556,
              "#d8576b"
             ],
             [
              0.6666666666666666,
              "#ed7953"
             ],
             [
              0.7777777777777778,
              "#fb9f3a"
             ],
             [
              0.8888888888888888,
              "#fdca26"
             ],
             [
              1,
              "#f0f921"
             ]
            ],
            "type": "surface"
           }
          ],
          "table": [
           {
            "cells": {
             "fill": {
              "color": "#EBF0F8"
             },
             "line": {
              "color": "white"
             }
            },
            "header": {
             "fill": {
              "color": "#C8D4E3"
             },
             "line": {
              "color": "white"
             }
            },
            "type": "table"
           }
          ]
         },
         "layout": {
          "annotationdefaults": {
           "arrowcolor": "#2a3f5f",
           "arrowhead": 0,
           "arrowwidth": 1
          },
          "autotypenumbers": "strict",
          "coloraxis": {
           "colorbar": {
            "outlinewidth": 0,
            "ticks": ""
           }
          },
          "colorscale": {
           "diverging": [
            [
             0,
             "#8e0152"
            ],
            [
             0.1,
             "#c51b7d"
            ],
            [
             0.2,
             "#de77ae"
            ],
            [
             0.3,
             "#f1b6da"
            ],
            [
             0.4,
             "#fde0ef"
            ],
            [
             0.5,
             "#f7f7f7"
            ],
            [
             0.6,
             "#e6f5d0"
            ],
            [
             0.7,
             "#b8e186"
            ],
            [
             0.8,
             "#7fbc41"
            ],
            [
             0.9,
             "#4d9221"
            ],
            [
             1,
             "#276419"
            ]
           ],
           "sequential": [
            [
             0,
             "#0d0887"
            ],
            [
             0.1111111111111111,
             "#46039f"
            ],
            [
             0.2222222222222222,
             "#7201a8"
            ],
            [
             0.3333333333333333,
             "#9c179e"
            ],
            [
             0.4444444444444444,
             "#bd3786"
            ],
            [
             0.5555555555555556,
             "#d8576b"
            ],
            [
             0.6666666666666666,
             "#ed7953"
            ],
            [
             0.7777777777777778,
             "#fb9f3a"
            ],
            [
             0.8888888888888888,
             "#fdca26"
            ],
            [
             1,
             "#f0f921"
            ]
           ],
           "sequentialminus": [
            [
             0,
             "#0d0887"
            ],
            [
             0.1111111111111111,
             "#46039f"
            ],
            [
             0.2222222222222222,
             "#7201a8"
            ],
            [
             0.3333333333333333,
             "#9c179e"
            ],
            [
             0.4444444444444444,
             "#bd3786"
            ],
            [
             0.5555555555555556,
             "#d8576b"
            ],
            [
             0.6666666666666666,
             "#ed7953"
            ],
            [
             0.7777777777777778,
             "#fb9f3a"
            ],
            [
             0.8888888888888888,
             "#fdca26"
            ],
            [
             1,
             "#f0f921"
            ]
           ]
          },
          "colorway": [
           "#636efa",
           "#EF553B",
           "#00cc96",
           "#ab63fa",
           "#FFA15A",
           "#19d3f3",
           "#FF6692",
           "#B6E880",
           "#FF97FF",
           "#FECB52"
          ],
          "font": {
           "color": "#2a3f5f"
          },
          "geo": {
           "bgcolor": "white",
           "lakecolor": "white",
           "landcolor": "#E5ECF6",
           "showlakes": true,
           "showland": true,
           "subunitcolor": "white"
          },
          "hoverlabel": {
           "align": "left"
          },
          "hovermode": "closest",
          "mapbox": {
           "style": "light"
          },
          "paper_bgcolor": "white",
          "plot_bgcolor": "#E5ECF6",
          "polar": {
           "angularaxis": {
            "gridcolor": "white",
            "linecolor": "white",
            "ticks": ""
           },
           "bgcolor": "#E5ECF6",
           "radialaxis": {
            "gridcolor": "white",
            "linecolor": "white",
            "ticks": ""
           }
          },
          "scene": {
           "xaxis": {
            "backgroundcolor": "#E5ECF6",
            "gridcolor": "white",
            "gridwidth": 2,
            "linecolor": "white",
            "showbackground": true,
            "ticks": "",
            "zerolinecolor": "white"
           },
           "yaxis": {
            "backgroundcolor": "#E5ECF6",
            "gridcolor": "white",
            "gridwidth": 2,
            "linecolor": "white",
            "showbackground": true,
            "ticks": "",
            "zerolinecolor": "white"
           },
           "zaxis": {
            "backgroundcolor": "#E5ECF6",
            "gridcolor": "white",
            "gridwidth": 2,
            "linecolor": "white",
            "showbackground": true,
            "ticks": "",
            "zerolinecolor": "white"
           }
          },
          "shapedefaults": {
           "line": {
            "color": "#2a3f5f"
           }
          },
          "ternary": {
           "aaxis": {
            "gridcolor": "white",
            "linecolor": "white",
            "ticks": ""
           },
           "baxis": {
            "gridcolor": "white",
            "linecolor": "white",
            "ticks": ""
           },
           "bgcolor": "#E5ECF6",
           "caxis": {
            "gridcolor": "white",
            "linecolor": "white",
            "ticks": ""
           }
          },
          "title": {
           "x": 0.05
          },
          "xaxis": {
           "automargin": true,
           "gridcolor": "white",
           "linecolor": "white",
           "ticks": "",
           "title": {
            "standoff": 15
           },
           "zerolinecolor": "white",
           "zerolinewidth": 2
          },
          "yaxis": {
           "automargin": true,
           "gridcolor": "white",
           "linecolor": "white",
           "ticks": "",
           "title": {
            "standoff": 15
           },
           "zerolinecolor": "white",
           "zerolinewidth": 2
          }
         }
        },
        "title": {
         "font": {
          "size": 24
         },
         "text": "Treemap of Salary Distribution by OrgSize",
         "x": 0.5
        },
        "treemapcolorway": [
         "rgb(247,251,255)",
         "rgb(222,235,247)",
         "rgb(198,219,239)",
         "rgb(158,202,225)",
         "rgb(107,174,214)",
         "rgb(66,146,198)",
         "rgb(33,113,181)",
         "rgb(8,81,156)",
         "rgb(8,48,107)"
        ]
       }
      }
     },
     "metadata": {},
     "output_type": "display_data"
    }
   ],
   "source": [
    "salary_treemap(df, 'OrgSize')"
   ]
  }
 ],
 "metadata": {
  "kernelspec": {
   "display_name": "base",
   "language": "python",
   "name": "python3"
  },
  "language_info": {
   "codemirror_mode": {
    "name": "ipython",
    "version": 3
   },
   "file_extension": ".py",
   "mimetype": "text/x-python",
   "name": "python",
   "nbconvert_exporter": "python",
   "pygments_lexer": "ipython3",
   "version": "3.10.9"
  }
 },
 "nbformat": 4,
 "nbformat_minor": 2
}
